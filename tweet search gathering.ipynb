{
 "cells": [
  {
   "cell_type": "code",
   "execution_count": 1,
   "metadata": {},
   "outputs": [],
   "source": [
    "#Import the necessary methods from tweepy library\n",
    "import os\n",
    "import tweepy as tw\n",
    "import pandas as pd"
   ]
  },
  {
   "cell_type": "code",
   "execution_count": 2,
   "metadata": {},
   "outputs": [],
   "source": [
    "access_token = \"access_token\"\n",
    "access_token_secret = \"access token secret\"\n",
    "consumer_key = \"consumer key\"\n",
    "consumer_secret = \"consumer secret\""
   ]
  },
  {
   "cell_type": "code",
   "execution_count": 3,
   "metadata": {},
   "outputs": [],
   "source": [
    "auth = tw.OAuthHandler(consumer_key, consumer_secret)\n",
    "auth.set_access_token(access_token, access_token_secret)\n",
    "api = tw.API(auth, wait_on_rate_limit=True)"
   ]
  },
  {
   "cell_type": "code",
   "execution_count": 26,
   "metadata": {},
   "outputs": [],
   "source": [
    "import json\n",
    "search_words = \"#christmas\"\n",
    "date_since = \"2020-11-10\"\n",
    "date_until = \"2020-11-16\"\n",
    "\n",
    "search_results = []\n",
    "for status in tw.Cursor(api.search,\n",
    "              q=search_words,\n",
    "              lang=\"en\",result_type='mixed',\n",
    "              since=date_since, until=date_until,count=100).items(18000):\n",
    "    search_results.append(status._json)\n",
    "\n",
    "with open('christmas-out.json', 'w') as f:\n",
    "    json.dump(search_results, f)"
   ]
  }
 ],
 "metadata": {
  "kernelspec": {
   "display_name": "Python 3 (3.8)",
   "language": "python",
   "name": "python3"
  },
  "language_info": {
   "codemirror_mode": {
    "name": "ipython",
    "version": 3
   },
   "file_extension": ".py",
   "mimetype": "text/x-python",
   "name": "python",
   "nbconvert_exporter": "python",
   "pygments_lexer": "ipython3",
   "version": "3.8.2"
  }
 },
 "nbformat": 4,
 "nbformat_minor": 4
}
