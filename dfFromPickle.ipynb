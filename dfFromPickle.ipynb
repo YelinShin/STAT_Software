{
 "cells": [
  {
   "cell_type": "markdown",
   "metadata": {},
   "source": [
    "## 1. Data Preprocessing"
   ]
  },
  {
   "cell_type": "code",
   "execution_count": 1,
   "metadata": {},
   "outputs": [],
   "source": [
    "import pandas as pd\n",
    "import pickle"
   ]
  },
  {
   "cell_type": "code",
   "execution_count": 8,
   "metadata": {},
   "outputs": [],
   "source": [
    "with open(\"covid.txt\", \"rb\") as handle : # read text file into dataframe\n",
    "  covid_df = pickle.loads(handle.read())\n",
    "with open(\"christmas.txt\", \"rb\") as handle : # read text file into dataframe\n",
    "  christmas_df = pickle.loads(handle.read())\n",
    "with open(\"spacex.txt\", \"rb\") as handle : # read text file into dataframe\n",
    "  spacex_df = pickle.loads(handle.read())\n",
    "\n",
    "data = pd.concat([covid_df, christmas_df, spacex_df], ignore_index = True)"
   ]
  },
  {
   "cell_type": "code",
   "execution_count": 13,
   "metadata": {},
   "outputs": [
    {
     "name": "stdout",
     "output_type": "stream",
     "text": [
      "Number of labels in train: 24816\n",
      "Number of labels in test: 6205\n"
     ]
    }
   ],
   "source": [
    "from sklearn.model_selection import train_test_split\n",
    "import random\n",
    "\n",
    "#train, test = train_test_split(data, test_size = 0.2)\n",
    "#train.to_pickle(\"train.pkl\")\n",
    "#test.to_pickle(\"test.pkl\")\n",
    "\n",
    "train = pd.read_pickle(\"train.pkl\")\n",
    "test = pd.read_pickle(\"test.pkl\")\n",
    "\n",
    "print(\"Number of labels in train: \", end = \"\")\n",
    "print(train.shape[0])\n",
    "print(\"Number of labels in test: \", end = \"\")\n",
    "print(test.shape[0])"
   ]
  },
  {
   "cell_type": "code",
   "execution_count": 12,
   "metadata": {},
   "outputs": [
    {
     "data": {
      "text/html": [
       "<div>\n",
       "<style scoped>\n",
       "    .dataframe tbody tr th:only-of-type {\n",
       "        vertical-align: middle;\n",
       "    }\n",
       "\n",
       "    .dataframe tbody tr th {\n",
       "        vertical-align: top;\n",
       "    }\n",
       "\n",
       "    .dataframe thead th {\n",
       "        text-align: right;\n",
       "    }\n",
       "</style>\n",
       "<table border=\"1\" class=\"dataframe\">\n",
       "  <thead>\n",
       "    <tr style=\"text-align: right;\">\n",
       "      <th></th>\n",
       "      <th>Classification</th>\n",
       "      <th>Text</th>\n",
       "      <th>Hashtag</th>\n",
       "    </tr>\n",
       "  </thead>\n",
       "  <tbody>\n",
       "    <tr>\n",
       "      <th>2181</th>\n",
       "      <td>covid</td>\n",
       "      <td>coronameter: jamaica has now recorded over 10,...</td>\n",
       "      <td>[coronameter]</td>\n",
       "    </tr>\n",
       "    <tr>\n",
       "      <th>16578</th>\n",
       "      <td>christmas</td>\n",
       "      <td>for limited time only this @blush_photo will s...</td>\n",
       "      <td>[photography, christmasphotography, profession...</td>\n",
       "    </tr>\n",
       "    <tr>\n",
       "      <th>6692</th>\n",
       "      <td>covid</td>\n",
       "      <td>even @matthancock admitted that aerosol transm...</td>\n",
       "      <td>[education, teachers, ventilation, wearamask]</td>\n",
       "    </tr>\n",
       "    <tr>\n",
       "      <th>23197</th>\n",
       "      <td>spacex</td>\n",
       "      <td>awwww. 'babyyoda' revealed as astronauts' zero...</td>\n",
       "      <td>[babyyoda]</td>\n",
       "    </tr>\n",
       "    <tr>\n",
       "      <th>3503</th>\n",
       "      <td>covid</td>\n",
       "      <td>@govrondesantis response is \"utter and complet...</td>\n",
       "      <td>[desantisiskillingfl, gopcorruptionovercountry...</td>\n",
       "    </tr>\n",
       "    <tr>\n",
       "      <th>17150</th>\n",
       "      <td>christmas</td>\n",
       "      <td>we've got another very exciting competition se...</td>\n",
       "      <td>[]</td>\n",
       "    </tr>\n",
       "    <tr>\n",
       "      <th>15099</th>\n",
       "      <td>christmas</td>\n",
       "      <td>excited to share the latest addition to my ets...</td>\n",
       "      <td>[etsy, silver, birthday, floral, women, pushba...</td>\n",
       "    </tr>\n",
       "    <tr>\n",
       "      <th>966</th>\n",
       "      <td>covid</td>\n",
       "      <td>@darren_aw @age_and_ageing @rowanharwood @hcop...</td>\n",
       "      <td>[]</td>\n",
       "    </tr>\n",
       "    <tr>\n",
       "      <th>4221</th>\n",
       "      <td>covid</td>\n",
       "      <td>.@pfizer and @biontech_group's vaccine has giv...</td>\n",
       "      <td>[covid19, vaccine]</td>\n",
       "    </tr>\n",
       "    <tr>\n",
       "      <th>26891</th>\n",
       "      <td>spacex</td>\n",
       "      <td>we have lift off! america!!🇺🇸 spacelaunchlive ...</td>\n",
       "      <td>[spacelaunchlive, nasa]</td>\n",
       "    </tr>\n",
       "  </tbody>\n",
       "</table>\n",
       "</div>"
      ],
      "text/plain": [
       "      Classification                                               Text  \\\n",
       "2181           covid  coronameter: jamaica has now recorded over 10,...   \n",
       "16578      christmas  for limited time only this @blush_photo will s...   \n",
       "6692           covid  even @matthancock admitted that aerosol transm...   \n",
       "23197         spacex  awwww. 'babyyoda' revealed as astronauts' zero...   \n",
       "3503           covid  @govrondesantis response is \"utter and complet...   \n",
       "17150      christmas  we've got another very exciting competition se...   \n",
       "15099      christmas  excited to share the latest addition to my ets...   \n",
       "966            covid  @darren_aw @age_and_ageing @rowanharwood @hcop...   \n",
       "4221           covid  .@pfizer and @biontech_group's vaccine has giv...   \n",
       "26891         spacex  we have lift off! america!!🇺🇸 spacelaunchlive ...   \n",
       "\n",
       "                                                 Hashtag  \n",
       "2181                                       [coronameter]  \n",
       "16578  [photography, christmasphotography, profession...  \n",
       "6692       [education, teachers, ventilation, wearamask]  \n",
       "23197                                         [babyyoda]  \n",
       "3503   [desantisiskillingfl, gopcorruptionovercountry...  \n",
       "17150                                                 []  \n",
       "15099  [etsy, silver, birthday, floral, women, pushba...  \n",
       "966                                                   []  \n",
       "4221                                  [covid19, vaccine]  \n",
       "26891                            [spacelaunchlive, nasa]  "
      ]
     },
     "execution_count": 12,
     "metadata": {},
     "output_type": "execute_result"
    }
   ],
   "source": [
    "train.head(10)"
   ]
  },
  {
   "cell_type": "code",
   "execution_count": 4,
   "metadata": {},
   "outputs": [
    {
     "data": {
      "text/html": [
       "<div>\n",
       "<style scoped>\n",
       "    .dataframe tbody tr th:only-of-type {\n",
       "        vertical-align: middle;\n",
       "    }\n",
       "\n",
       "    .dataframe tbody tr th {\n",
       "        vertical-align: top;\n",
       "    }\n",
       "\n",
       "    .dataframe thead th {\n",
       "        text-align: right;\n",
       "    }\n",
       "</style>\n",
       "<table border=\"1\" class=\"dataframe\">\n",
       "  <thead>\n",
       "    <tr style=\"text-align: right;\">\n",
       "      <th></th>\n",
       "      <th>Classification</th>\n",
       "      <th>Text</th>\n",
       "      <th>Hashtag</th>\n",
       "    </tr>\n",
       "  </thead>\n",
       "  <tbody>\n",
       "    <tr>\n",
       "      <th>6700</th>\n",
       "      <td>covid</td>\n",
       "      <td>woodland lights festival off as coronavirus ca...</td>\n",
       "      <td>[covid_19, covid19, coronavirus, thanksgiving,...</td>\n",
       "    </tr>\n",
       "    <tr>\n",
       "      <th>25521</th>\n",
       "      <td>spacex</td>\n",
       "      <td>always special to see a launch live but extra ...</td>\n",
       "      <td>[nasa]</td>\n",
       "    </tr>\n",
       "    <tr>\n",
       "      <th>5516</th>\n",
       "      <td>covid</td>\n",
       "      <td>great news re: vaccine efficacy. assuming the ...</td>\n",
       "      <td>[]</td>\n",
       "    </tr>\n",
       "    <tr>\n",
       "      <th>28588</th>\n",
       "      <td>spacex</td>\n",
       "      <td>soon..... launchamerica tunasyestudiantinasdec...</td>\n",
       "      <td>[launchamerica, tunasyestudiantinasdechile, tu...</td>\n",
       "    </tr>\n",
       "    <tr>\n",
       "      <th>9700</th>\n",
       "      <td>covid</td>\n",
       "      <td>@livemint @kaul_vivek 10000 more india cases c...</td>\n",
       "      <td>[covid19, indusindbank, rblbank, covid19india]</td>\n",
       "    </tr>\n",
       "    <tr>\n",
       "      <th>25543</th>\n",
       "      <td>spacex</td>\n",
       "      <td>@astro_doug @commercial_crew i’m always amazed...</td>\n",
       "      <td>[nasa, iss, launchamerica]</td>\n",
       "    </tr>\n",
       "    <tr>\n",
       "      <th>13769</th>\n",
       "      <td>christmas</td>\n",
       "      <td>clean and decorate withme | decoration ideas 2...</td>\n",
       "      <td>[withme]</td>\n",
       "    </tr>\n",
       "    <tr>\n",
       "      <th>14576</th>\n",
       "      <td>christmas</td>\n",
       "      <td>your kids will have so much fun making these w...</td>\n",
       "      <td>[kids, ad, diy, wednesdaythoughts, wednesdayvi...</td>\n",
       "    </tr>\n",
       "    <tr>\n",
       "      <th>19120</th>\n",
       "      <td>christmas</td>\n",
       "      <td>i sometimes wonder how i got here in life! coo...</td>\n",
       "      <td>[cookiecutters, pta]</td>\n",
       "    </tr>\n",
       "    <tr>\n",
       "      <th>2559</th>\n",
       "      <td>covid</td>\n",
       "      <td>last week, @healthyfla reported over 1300 new ...</td>\n",
       "      <td>[coronavirus, florida]</td>\n",
       "    </tr>\n",
       "  </tbody>\n",
       "</table>\n",
       "</div>"
      ],
      "text/plain": [
       "      Classification                                               Text  \\\n",
       "6700           covid  woodland lights festival off as coronavirus ca...   \n",
       "25521         spacex  always special to see a launch live but extra ...   \n",
       "5516           covid  great news re: vaccine efficacy. assuming the ...   \n",
       "28588         spacex  soon..... launchamerica tunasyestudiantinasdec...   \n",
       "9700           covid  @livemint @kaul_vivek 10000 more india cases c...   \n",
       "25543         spacex  @astro_doug @commercial_crew i’m always amazed...   \n",
       "13769      christmas  clean and decorate withme | decoration ideas 2...   \n",
       "14576      christmas  your kids will have so much fun making these w...   \n",
       "19120      christmas  i sometimes wonder how i got here in life! coo...   \n",
       "2559           covid  last week, @healthyfla reported over 1300 new ...   \n",
       "\n",
       "                                                 Hashtag  \n",
       "6700   [covid_19, covid19, coronavirus, thanksgiving,...  \n",
       "25521                                             [nasa]  \n",
       "5516                                                  []  \n",
       "28588  [launchamerica, tunasyestudiantinasdechile, tu...  \n",
       "9700      [covid19, indusindbank, rblbank, covid19india]  \n",
       "25543                         [nasa, iss, launchamerica]  \n",
       "13769                                           [withme]  \n",
       "14576  [kids, ad, diy, wednesdaythoughts, wednesdayvi...  \n",
       "19120                               [cookiecutters, pta]  \n",
       "2559                              [coronavirus, florida]  "
      ]
     },
     "execution_count": 4,
     "metadata": {},
     "output_type": "execute_result"
    }
   ],
   "source": [
    "test.head(10)"
   ]
  },
  {
   "cell_type": "markdown",
   "metadata": {},
   "source": [
    "## 2. Naive Bayes model using Python's scikit-learn package"
   ]
  },
  {
   "cell_type": "code",
   "execution_count": 5,
   "metadata": {},
   "outputs": [],
   "source": [
    "from sklearn.feature_extraction.text import TfidfVectorizer\n",
    "from sklearn.naive_bayes import MultinomialNB\n",
    "from sklearn.pipeline import make_pipeline\n",
    "import numpy as np\n",
    "import matplotlib.pyplot as plt\n",
    "#pip install seaborn\n",
    "import seaborn as sns; sns.set() \n",
    "from sklearn.metrics import confusion_matrix\n",
    "from sklearn.metrics import f1_score"
   ]
  },
  {
   "cell_type": "code",
   "execution_count": 6,
   "metadata": {},
   "outputs": [],
   "source": [
    "model = make_pipeline(TfidfVectorizer(), MultinomialNB())\n",
    "model.fit(train[\"Text\"], train[\"Classification\"]) # fit the model\n",
    "labels = model.predict(test[\"Text\"]) # predict the hashtag of the test data"
   ]
  },
  {
   "cell_type": "code",
   "execution_count": 10,
   "metadata": {},
   "outputs": [
    {
     "data": {
      "image/png": "[encoded data removed]",
      "text/plain": [
       "<Figure size 360x360 with 1 Axes>"
      ]
     },
     "metadata": {},
     "output_type": "display_data"
    }
   ],
   "source": [
    "distinct_label = sorted(set(distinct_label)) # since confusion matrix label is automatically sorted, sort the distinct label in train_labels to prepare x, y label for heatmap\n",
    "mat = confusion_matrix(test[\"Classification\"], labels)\n",
    "plt.figure(figsize = (5, 5))\n",
    "ax = sns.heatmap(mat.T, square = True, annot = True, fmt = \"d\", cbar = False, xticklabels = distinct_label, yticklabels = distinct_label)\n",
    "ax.set_ylim(len(distinct_label), 0) # since heatmap cut off numbers, we need to set up y limit \n",
    "\n",
    "plt.xlabel(\"True Label\")\n",
    "plt.ylabel(\"Predicted Label\");"
   ]
  },
  {
   "cell_type": "code",
   "execution_count": 11,
   "metadata": {},
   "outputs": [
    {
     "name": "stdout",
     "output_type": "stream",
     "text": [
      "Micro-average F1 scores: 0.935697\n",
      "Macro-average F1 scores: 0.935057\n"
     ]
    }
   ],
   "source": [
    "print(\"Micro-average F1 scores: \", end = \"\")\n",
    "print(np.round(f1_score(test[\"Classification\"], labels, average = \"micro\"), 6))\n",
    "print(\"Macro-average F1 scores: \", end = \"\")\n",
    "print(np.round(f1_score(test[\"Classification\"], labels, average = \"macro\"), 6))"
   ]
  },
  {
   "cell_type": "markdown",
   "metadata": {},
   "source": [
    "## 3. Compute similarities between tweets using Fast Text word embedding"
   ]
  },
  {
   "cell_type": "code",
   "execution_count": 53,
   "metadata": {},
   "outputs": [],
   "source": [
    "#pip install gensim\n",
    "from gensim.test.utils import common_texts\n",
    "from gensim.models import Word2Vec\n",
    "from gensim.models import FastText"
   ]
  },
  {
   "cell_type": "code",
   "execution_count": null,
   "metadata": {},
   "outputs": [],
   "source": []
  }
 ],
 "metadata": {
  "kernelspec": {
   "display_name": "Spark 3 in Python 3 (3.8)",
   "language": "python",
   "name": "pyspark3"
  },
  "language_info": {
   "codemirror_mode": {
    "name": "ipython",
    "version": 3
   },
   "file_extension": ".py",
   "mimetype": "text/x-python",
   "name": "python",
   "nbconvert_exporter": "python",
   "pygments_lexer": "ipython3",
   "version": "3.8.2"
  }
 },
 "nbformat": 4,
 "nbformat_minor": 4
}
