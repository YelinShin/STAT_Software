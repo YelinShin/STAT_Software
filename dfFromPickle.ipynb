{
 "cells": [
  {
   "cell_type": "markdown",
   "metadata": {},
   "source": [
    "## 1. Data Preprocessing"
   ]
  },
  {
   "cell_type": "code",
   "execution_count": 1,
   "metadata": {},
   "outputs": [],
   "source": [
    "import pandas as pd\n",
    "import pickle\n",
    "import numpy as np\n",
    "import re"
   ]
  },
  {
   "cell_type": "code",
   "execution_count": 2,
   "metadata": {},
   "outputs": [],
   "source": [
    "with open(\"covid.txt\", \"rb\") as handle : # read text file into dataframe\n",
    "    covid_df = pickle.loads(handle.read())\n",
    "with open(\"christmas.txt\", \"rb\") as handle : # read text file into dataframe\n",
    "    christmas_df = pickle.loads(handle.read())\n",
    "with open(\"spacex.txt\", \"rb\") as handle : # read text file into dataframe\n",
    "    spacex_df = pickle.loads(handle.read())\n",
    "\n",
    "data = pd.concat([covid_df, christmas_df, spacex_df], ignore_index = True)"
   ]
  },
  {
   "cell_type": "code",
<<<<<<< Updated upstream
   "execution_count": 13,
=======
   "execution_count": 3,
>>>>>>> Stashed changes
   "metadata": {},
   "outputs": [
    {
     "name": "stdout",
     "output_type": "stream",
     "text": [
<<<<<<< Updated upstream
      "Number of labels in train: 24816\n",
      "Number of labels in test: 6205\n"
=======
      "Number of labels in train: 28800\n",
      "Number of labels in test: 7200\n"
>>>>>>> Stashed changes
     ]
    }
   ],
   "source": [
    "from sklearn.model_selection import train_test_split\n",
    "import random\n",
    "\n",
<<<<<<< Updated upstream
    "#train, test = train_test_split(data, test_size = 0.2)\n",
    "#train.to_pickle(\"train.pkl\")\n",
    "#test.to_pickle(\"test.pkl\")\n",
=======
    "# train, test = train_test_split(data, test_size = 0.2)\n",
    "# train.to_pickle(\"train.pkl\")\n",
    "# test.to_pickle(\"test.pkl\")\n",
>>>>>>> Stashed changes
    "\n",
    "train = pd.read_pickle(\"train.pkl\")\n",
    "test = pd.read_pickle(\"test.pkl\")\n",
    "\n",
    "print(\"Number of labels in train: \", end = \"\")\n",
    "print(train.shape[0])\n",
    "print(\"Number of labels in test: \", end = \"\")\n",
    "print(test.shape[0])"
   ]
  },
  {
   "cell_type": "code",
<<<<<<< Updated upstream
   "execution_count": 12,
=======
   "execution_count": 4,
>>>>>>> Stashed changes
   "metadata": {},
   "outputs": [
    {
     "data": {
      "text/html": [
       "<div>\n",
       "<style scoped>\n",
       "    .dataframe tbody tr th:only-of-type {\n",
       "        vertical-align: middle;\n",
       "    }\n",
       "\n",
       "    .dataframe tbody tr th {\n",
       "        vertical-align: top;\n",
       "    }\n",
       "\n",
       "    .dataframe thead th {\n",
       "        text-align: right;\n",
       "    }\n",
       "</style>\n",
       "<table border=\"1\" class=\"dataframe\">\n",
       "  <thead>\n",
       "    <tr style=\"text-align: right;\">\n",
       "      <th></th>\n",
       "      <th>Classification</th>\n",
       "      <th>Text</th>\n",
       "      <th>Hashtag</th>\n",
       "    </tr>\n",
       "  </thead>\n",
       "  <tbody>\n",
       "    <tr>\n",
       "      <th>14981</th>\n",
       "      <td>christmas</td>\n",
       "      <td>and in case you dont want cats and dogs i have...</td>\n",
       "      <td>[earlybiz, handmade]</td>\n",
       "    </tr>\n",
       "    <tr>\n",
       "      <th>12949</th>\n",
       "      <td>christmas</td>\n",
       "      <td>befana candle a spicy composition warming with...</td>\n",
       "      <td>[christmasscents, giftideas, candles, cinnamon]</td>\n",
       "    </tr>\n",
       "    <tr>\n",
       "      <th>24667</th>\n",
       "      <td>spacex</td>\n",
       "      <td>methane farm aerial update so whats going on h...</td>\n",
       "      <td>[bocachica]</td>\n",
       "    </tr>\n",
       "    <tr>\n",
       "      <th>35424</th>\n",
       "      <td>spacex</td>\n",
       "      <td>congrats to nasa and on their collaborative la...</td>\n",
       "      <td>[science, innovation, collaboration, spacexlau...</td>\n",
       "    </tr>\n",
       "    <tr>\n",
       "      <th>26290</th>\n",
       "      <td>spacex</td>\n",
       "      <td>so i was excited for to launch astronauts toda...</td>\n",
       "      <td>[]</td>\n",
       "    </tr>\n",
       "    <tr>\n",
       "      <th>23474</th>\n",
       "      <td>christmas</td>\n",
       "      <td>what an amazing treat this would be count me i...</td>\n",
       "      <td>[competition]</td>\n",
       "    </tr>\n",
       "    <tr>\n",
       "      <th>31140</th>\n",
       "      <td>spacex</td>\n",
       "      <td>history will hopefully be made this week elon ...</td>\n",
       "      <td>[starship]</td>\n",
       "    </tr>\n",
       "    <tr>\n",
       "      <th>15212</th>\n",
       "      <td>christmas</td>\n",
       "      <td>by design tco yzbyudbe very few of us get a re...</td>\n",
       "      <td>[lunalakecabins, secondchance, romance, kindle...</td>\n",
       "    </tr>\n",
       "    <tr>\n",
       "      <th>35176</th>\n",
       "      <td>spacex</td>\n",
       "      <td>and there they go safe mission god speed go na...</td>\n",
       "      <td>[crew1, launchamerica, nasa, dragonresilience,...</td>\n",
       "    </tr>\n",
       "    <tr>\n",
       "      <th>30147</th>\n",
       "      <td>spacex</td>\n",
       "      <td>swag haul go crew  big love for the dragon eng...</td>\n",
       "      <td>[launchamerica]</td>\n",
       "    </tr>\n",
       "  </tbody>\n",
       "</table>\n",
       "</div>"
      ],
      "text/plain": [
       "      Classification                                               Text  \\\n",
       "14981      christmas  and in case you dont want cats and dogs i have...   \n",
       "12949      christmas  befana candle a spicy composition warming with...   \n",
       "24667         spacex  methane farm aerial update so whats going on h...   \n",
       "35424         spacex  congrats to nasa and on their collaborative la...   \n",
       "26290         spacex  so i was excited for to launch astronauts toda...   \n",
       "23474      christmas  what an amazing treat this would be count me i...   \n",
       "31140         spacex  history will hopefully be made this week elon ...   \n",
       "15212      christmas  by design tco yzbyudbe very few of us get a re...   \n",
       "35176         spacex  and there they go safe mission god speed go na...   \n",
       "30147         spacex  swag haul go crew  big love for the dragon eng...   \n",
       "\n",
       "                                                 Hashtag  \n",
       "14981                               [earlybiz, handmade]  \n",
       "12949    [christmasscents, giftideas, candles, cinnamon]  \n",
       "24667                                        [bocachica]  \n",
       "35424  [science, innovation, collaboration, spacexlau...  \n",
       "26290                                                 []  \n",
       "23474                                      [competition]  \n",
       "31140                                         [starship]  \n",
       "15212  [lunalakecabins, secondchance, romance, kindle...  \n",
       "35176  [crew1, launchamerica, nasa, dragonresilience,...  \n",
       "30147                                    [launchamerica]  "
      ]
     },
<<<<<<< Updated upstream
     "execution_count": 12,
=======
     "execution_count": 4,
>>>>>>> Stashed changes
     "metadata": {},
     "output_type": "execute_result"
    }
   ],
   "source": [
    "train.head(10)"
   ]
  },
  {
   "cell_type": "code",
<<<<<<< Updated upstream
   "execution_count": 4,
=======
   "execution_count": 5,
>>>>>>> Stashed changes
   "metadata": {},
   "outputs": [
    {
     "data": {
      "text/html": [
       "<div>\n",
       "<style scoped>\n",
       "    .dataframe tbody tr th:only-of-type {\n",
       "        vertical-align: middle;\n",
       "    }\n",
       "\n",
       "    .dataframe tbody tr th {\n",
       "        vertical-align: top;\n",
       "    }\n",
       "\n",
       "    .dataframe thead th {\n",
       "        text-align: right;\n",
       "    }\n",
       "</style>\n",
       "<table border=\"1\" class=\"dataframe\">\n",
       "  <thead>\n",
       "    <tr style=\"text-align: right;\">\n",
       "      <th></th>\n",
       "      <th>Classification</th>\n",
       "      <th>Text</th>\n",
       "      <th>Hashtag</th>\n",
       "    </tr>\n",
       "  </thead>\n",
       "  <tbody>\n",
       "    <tr>\n",
       "      <th>34959</th>\n",
       "      <td>spacex</td>\n",
       "      <td>humans can do some pretty cool shit</td>\n",
       "      <td>[]</td>\n",
       "    </tr>\n",
       "    <tr>\n",
       "      <th>11236</th>\n",
       "      <td>covid</td>\n",
       "      <td>thanks to tanaiste for joining council group l...</td>\n",
       "      <td>[council, brexit, affordable, public, urbanreg...</td>\n",
       "    </tr>\n",
       "    <tr>\n",
       "      <th>652</th>\n",
       "      <td>covid</td>\n",
       "      <td>from tomorrow you can join ourneighbours from ...</td>\n",
       "      <td>[ourneighbours]</td>\n",
       "    </tr>\n",
       "    <tr>\n",
       "      <th>16807</th>\n",
       "      <td>christmas</td>\n",
       "      <td>we wish you a merry pissmas roblox robloxart r...</td>\n",
       "      <td>[roblox, robloxart, robloxavatar]</td>\n",
       "    </tr>\n",
       "    <tr>\n",
       "      <th>23076</th>\n",
       "      <td>christmas</td>\n",
       "      <td>anyone want this on their list quivr tour deka...</td>\n",
       "      <td>[quivr, dekadeedition, drummers]</td>\n",
       "    </tr>\n",
       "    <tr>\n",
       "      <th>6984</th>\n",
       "      <td>covid</td>\n",
       "      <td>of people who are infected with are asymptom...</td>\n",
       "      <td>[asymptomatic]</td>\n",
       "    </tr>\n",
       "    <tr>\n",
       "      <th>19874</th>\n",
       "      <td>christmas</td>\n",
       "      <td>since theyre already playing holiday movies iv...</td>\n",
       "      <td>[movies, holidayfeels, hohoho, letseat, radiod...</td>\n",
       "    </tr>\n",
       "    <tr>\n",
       "      <th>9460</th>\n",
       "      <td>covid</td>\n",
       "      <td>what does fundamentally safe really mean truth...</td>\n",
       "      <td>[truthbetold, schools, testandtrace]</td>\n",
       "    </tr>\n",
       "    <tr>\n",
       "      <th>12497</th>\n",
       "      <td>christmas</td>\n",
       "      <td>retweet and follow for your chance to win thes...</td>\n",
       "      <td>[win, competition]</td>\n",
       "    </tr>\n",
       "    <tr>\n",
       "      <th>35330</th>\n",
       "      <td>spacex</td>\n",
       "      <td>nasa jpl im giddy about todays launch gods spe...</td>\n",
       "      <td>[nasa, jpl, shannonwalker, t1d, diabetic, iss,...</td>\n",
       "    </tr>\n",
       "  </tbody>\n",
       "</table>\n",
       "</div>"
      ],
      "text/plain": [
       "      Classification                                               Text  \\\n",
       "34959         spacex                humans can do some pretty cool shit   \n",
       "11236          covid  thanks to tanaiste for joining council group l...   \n",
       "652            covid  from tomorrow you can join ourneighbours from ...   \n",
       "16807      christmas  we wish you a merry pissmas roblox robloxart r...   \n",
       "23076      christmas  anyone want this on their list quivr tour deka...   \n",
       "6984           covid    of people who are infected with are asymptom...   \n",
       "19874      christmas  since theyre already playing holiday movies iv...   \n",
       "9460           covid  what does fundamentally safe really mean truth...   \n",
       "12497      christmas  retweet and follow for your chance to win thes...   \n",
       "35330         spacex  nasa jpl im giddy about todays launch gods spe...   \n",
       "\n",
       "                                                 Hashtag  \n",
       "34959                                                 []  \n",
       "11236  [council, brexit, affordable, public, urbanreg...  \n",
       "652                                      [ourneighbours]  \n",
       "16807                  [roblox, robloxart, robloxavatar]  \n",
       "23076                   [quivr, dekadeedition, drummers]  \n",
       "6984                                      [asymptomatic]  \n",
       "19874  [movies, holidayfeels, hohoho, letseat, radiod...  \n",
       "9460                [truthbetold, schools, testandtrace]  \n",
       "12497                                 [win, competition]  \n",
       "35330  [nasa, jpl, shannonwalker, t1d, diabetic, iss,...  "
      ]
     },
<<<<<<< Updated upstream
     "execution_count": 4,
=======
     "execution_count": 5,
>>>>>>> Stashed changes
     "metadata": {},
     "output_type": "execute_result"
    }
   ],
   "source": [
    "test.head(10)"
   ]
  },
  {
   "cell_type": "markdown",
   "metadata": {},
   "source": [
    "## 2. Naive Bayes model using Python's scikit-learn package"
   ]
  },
  {
   "cell_type": "code",
<<<<<<< Updated upstream
   "execution_count": 5,
=======
   "execution_count": 6,
>>>>>>> Stashed changes
   "metadata": {},
   "outputs": [],
   "source": [
    "from sklearn.feature_extraction.text import TfidfVectorizer\n",
    "from sklearn.naive_bayes import MultinomialNB\n",
    "from sklearn.pipeline import make_pipeline\n",
    "import numpy as np\n",
    "import matplotlib.pyplot as plt\n",
    "#pip install seaborn\n",
    "import seaborn as sns; sns.set() \n",
    "from sklearn.metrics import confusion_matrix\n",
    "from sklearn.metrics import f1_score"
   ]
  },
  {
   "cell_type": "code",
<<<<<<< Updated upstream
   "execution_count": 6,
   "metadata": {},
   "outputs": [],
   "source": [
    "model = make_pipeline(TfidfVectorizer(), MultinomialNB())\n",
    "model.fit(train[\"Text\"], train[\"Classification\"]) # fit the model\n",
    "labels = model.predict(test[\"Text\"]) # predict the hashtag of the test data"
=======
   "execution_count": 7,
   "metadata": {},
   "outputs": [],
   "source": [
    "model_byes = make_pipeline(TfidfVectorizer(), MultinomialNB())\n",
    "model_byes.fit(train[\"Text\"], train[\"Classification\"]) # fit the model\n",
    "labels = model_byes.predict(test[\"Text\"]) # predict the hashtag of the test data"
   ]
  },
  {
   "cell_type": "code",
   "execution_count": 8,
   "metadata": {},
   "outputs": [
    {
     "data": {
      "image/png": "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\n",
      "text/plain": [
       "<Figure size 360x360 with 1 Axes>"
      ]
     },
     "metadata": {},
     "output_type": "display_data"
    }
   ],
   "source": [
    "distinct_label = sorted(set(test[\"Classification\"])) # since confusion matrix label is automatically sorted, sort the distinct label in train_labels to prepare x, y label for heatmap\n",
    "mat = confusion_matrix(test[\"Classification\"], labels)\n",
    "plt.figure(figsize = (5, 5))\n",
    "ax = sns.heatmap(mat.T, square = True, annot = True, fmt = \"d\", cbar = False, xticklabels = distinct_label, yticklabels = distinct_label)\n",
    "ax.set_ylim(len(distinct_label), 0) # since heatmap cut off numbers, we need to set up y limit \n",
    "\n",
    "plt.xlabel(\"True Label\")\n",
    "plt.ylabel(\"Predicted Label\");"
   ]
  },
  {
   "cell_type": "code",
   "execution_count": 9,
   "metadata": {},
   "outputs": [
    {
     "name": "stdout",
     "output_type": "stream",
     "text": [
      "Micro-average F1 scores: 0.922361\n",
      "Macro-average F1 scores: 0.922845\n"
     ]
    }
   ],
   "source": [
    "print(\"Micro-average F1 scores: \", end = \"\")\n",
    "print(np.round(f1_score(test[\"Classification\"], labels, average = \"micro\"), 6))\n",
    "print(\"Macro-average F1 scores: \", end = \"\")\n",
    "print(np.round(f1_score(test[\"Classification\"], labels, average = \"macro\"), 6))"
   ]
  },
  {
   "cell_type": "code",
   "execution_count": null,
   "metadata": {},
   "outputs": [],
   "source": []
  },
  {
   "cell_type": "markdown",
   "metadata": {},
   "source": [
    "## 4. Tensor Flow model with Bidirectional LSTM"
   ]
  },
  {
   "cell_type": "code",
   "execution_count": 10,
   "metadata": {},
   "outputs": [],
   "source": [
    "#pip install gensim\n",
    "from gensim.test.utils import common_texts\n",
    "from gensim.models import Word2Vec\n",
    "from gensim.models import FastText\n",
    "import numpy as np\n",
    "import re"
   ]
  },
  {
   "cell_type": "code",
   "execution_count": 11,
   "metadata": {},
   "outputs": [],
   "source": [
    "import numpy as np\n",
    "import re\n",
    "\n",
    "def doc_vocab(l) :\n",
    "    lexicon = set()\n",
    "    for i in l :\n",
    "        i = re.sub(\"[-/]\", \" \", i)\n",
    "        for word in i.split() :\n",
    "            if word.startswith(\"'\") or word.startswith('\"') : word = word[1:] \n",
    "            if word.endswith(\"'\") or word.endswith('\"') : word = word[:len(word) - 1] \n",
    "            word = re.sub(\"[^a-z']\", \"\", word)\n",
    "            if len(word) == 0 :\n",
    "                continue\n",
    "            lexicon.add(word)\n",
    "    return lexicon"
   ]
  },
  {
   "cell_type": "code",
   "execution_count": 12,
   "metadata": {},
   "outputs": [],
   "source": [
    "lexicon = doc_vocab(list(train[\"Text\"]))"
   ]
  },
  {
   "cell_type": "code",
   "execution_count": 13,
   "metadata": {},
   "outputs": [
    {
     "data": {
      "text/plain": [
       "78509"
      ]
     },
     "execution_count": 13,
     "metadata": {},
     "output_type": "execute_result"
    }
   ],
   "source": [
    "len(lexicon)"
   ]
  },
  {
   "cell_type": "code",
   "execution_count": 14,
   "metadata": {},
   "outputs": [
    {
     "name": "stdout",
     "output_type": "stream",
     "text": [
      "2.2.0\n"
     ]
    }
   ],
   "source": [
    "import tensorflow as tf\n",
    "import numpy as np\n",
    "from tensorflow.keras.preprocessing.text import Tokenizer\n",
    "from tensorflow.keras.preprocessing.sequence import pad_sequences\n",
    "\n",
    "print(tf.__version__)"
   ]
  },
  {
   "cell_type": "code",
   "execution_count": 15,
   "metadata": {},
   "outputs": [],
   "source": [
    "import nltk\n",
    "#nltk.download('stopwords')\n",
    "from nltk.corpus import stopwords\n",
    "STOPWORDS = set(stopwords.words('english'))"
   ]
  },
  {
   "cell_type": "code",
   "execution_count": 16,
   "metadata": {},
   "outputs": [],
   "source": [
    "vocab_size = 20000\n",
    "embedding_dim = 100\n",
    "max_length = 280\n",
    "trunc_type = 'post'\n",
    "padding_type = 'post'\n",
    "training_portion = .8"
   ]
  },
  {
   "cell_type": "code",
   "execution_count": 110,
   "metadata": {},
   "outputs": [],
   "source": [
    "train_texts = list(train[\"Text\"])\n",
    "train_labels = list(train[\"Classification\"])\n",
    "\n",
    "test_text = list(test[\"Text\"])\n",
    "test_labels = list(test[\"Classification\"])"
   ]
  },
  {
   "cell_type": "code",
   "execution_count": 111,
   "metadata": {},
   "outputs": [],
   "source": [
    "tokenizer = Tokenizer(num_words = vocab_size, oov_token='<OOV>')\n",
    "tokenizer.fit_on_texts(train_texts)\n",
    "word_index = tokenizer.word_index"
   ]
  },
  {
   "cell_type": "code",
   "execution_count": 112,
   "metadata": {},
   "outputs": [],
   "source": [
    "train_seq = tokenizer.texts_to_sequences(train_texts)\n",
    "#to make train one-hot-vector length all to 280\n",
    "train_padded = pad_sequences(train_seq, maxlen=max_length, padding=padding_type, truncating=trunc_type)"
   ]
  },
  {
   "cell_type": "code",
   "execution_count": 113,
   "metadata": {},
   "outputs": [],
   "source": [
    "test_seq = tokenizer.texts_to_sequences(test_text)\n",
    "test_padded = pad_sequences(test_seq, maxlen=max_length, padding=padding_type, truncating=trunc_type)"
   ]
  },
  {
   "cell_type": "code",
   "execution_count": 175,
   "metadata": {},
   "outputs": [],
   "source": [
    "labels = list(train_labels)"
   ]
  },
  {
   "cell_type": "code",
   "execution_count": 115,
   "metadata": {},
   "outputs": [],
   "source": [
    "from sklearn import preprocessing as pp\n",
    "label_tokenizer = pp.LabelEncoder()\n",
    "label_tokenizer.fit(labels)\n",
    "\n",
    "train_label_seq = np.array(label_tokenizer.transform(train_labels))\n",
    "test_label_seq = np.array(label_tokenizer.transform(test_labels))"
   ]
  },
  {
   "cell_type": "code",
   "execution_count": 180,
   "metadata": {},
   "outputs": [],
   "source": [
    "lab = list(set(labels))\n",
    "lab.sort()"
   ]
  },
  {
   "cell_type": "code",
   "execution_count": 181,
   "metadata": {},
   "outputs": [
    {
     "data": {
      "text/plain": [
       "['christmas', 'covid', 'spacex']"
      ]
     },
     "execution_count": 181,
     "metadata": {},
     "output_type": "execute_result"
    }
   ],
   "source": [
    "lab"
   ]
  },
  {
   "cell_type": "code",
   "execution_count": 182,
   "metadata": {},
   "outputs": [
    {
     "data": {
      "text/plain": [
       "['christmas',\n",
       " 'christmas',\n",
       " 'spacex',\n",
       " 'spacex',\n",
       " 'spacex',\n",
       " 'christmas',\n",
       " 'spacex',\n",
       " 'christmas',\n",
       " 'spacex',\n",
       " 'spacex']"
      ]
     },
     "execution_count": 182,
     "metadata": {},
     "output_type": "execute_result"
    }
   ],
   "source": [
    "train_labels[:10]"
   ]
  },
  {
   "cell_type": "code",
   "execution_count": 183,
   "metadata": {},
   "outputs": [
    {
     "data": {
      "text/plain": [
       "array([0, 0, 2, 2, 2, 0, 2, 0, 2, 2])"
      ]
     },
     "execution_count": 183,
     "metadata": {},
     "output_type": "execute_result"
    }
   ],
   "source": [
    "train_label_seq[:10]"
   ]
  },
  {
   "cell_type": "code",
   "execution_count": 26,
   "metadata": {},
   "outputs": [
    {
     "name": "stdout",
     "output_type": "stream",
     "text": [
      "Model: \"sequential\"\n",
      "_________________________________________________________________\n",
      "Layer (type)                 Output Shape              Param #   \n",
      "=================================================================\n",
      "embedding (Embedding)        (None, None, 100)         2000000   \n",
      "_________________________________________________________________\n",
      "dropout (Dropout)            (None, None, 100)         0         \n",
      "_________________________________________________________________\n",
      "bidirectional (Bidirectional (None, 200)               160800    \n",
      "_________________________________________________________________\n",
      "dense (Dense)                (None, 100)               20100     \n",
      "_________________________________________________________________\n",
      "dense_1 (Dense)              (None, 3)                 303       \n",
      "=================================================================\n",
      "Total params: 2,181,203\n",
      "Trainable params: 2,181,203\n",
      "Non-trainable params: 0\n",
      "_________________________________________________________________\n"
     ]
    }
   ],
   "source": [
    "model_biLSTM = tf.keras.Sequential([\n",
    "    # Add an Embedding layer expecting input vocab of size 5000, and output embedding dimension of size 64 we set at the top\n",
    "    tf.keras.layers.Embedding(vocab_size, embedding_dim),\n",
    "    tf.keras.layers.Dropout(.2,input_shape=(100,)),\n",
    "    tf.keras.layers.Bidirectional(tf.keras.layers.LSTM(embedding_dim)),\n",
    "#    tf.keras.layers.Bidirectional(tf.keras.layers.LSTM(32)),\n",
    "    # use ReLU in place of tanh function since they are very good alternatives of each other.\n",
    "    tf.keras.layers.Dense(embedding_dim, activation='relu'),\n",
    "    # Add a Dense layer with 6 units and softmax activation.\n",
    "    # When we have multiple outputs, softmax convert outputs layers into a probability distribution.\n",
    "    tf.keras.layers.Dense(3, activation='softmax')\n",
    "])\n",
    "model_biLSTM.summary()"
   ]
  },
  {
   "cell_type": "code",
   "execution_count": 27,
   "metadata": {},
   "outputs": [
    {
     "name": "stdout",
     "output_type": "stream",
     "text": [
      "Epoch 1/10\n",
      "810/810 - 107s - loss: 0.3410 - accuracy: 0.8608 - val_loss: 0.1946 - val_accuracy: 0.9340\n",
      "Epoch 2/10\n",
      "810/810 - 105s - loss: 0.1186 - accuracy: 0.9596 - val_loss: 0.1786 - val_accuracy: 0.9372\n",
      "Epoch 3/10\n",
      "810/810 - 103s - loss: 0.0663 - accuracy: 0.9785 - val_loss: 0.2265 - val_accuracy: 0.9292\n",
      "Epoch 4/10\n",
      "810/810 - 105s - loss: 0.0441 - accuracy: 0.9862 - val_loss: 0.2623 - val_accuracy: 0.9312\n",
      "Epoch 5/10\n",
      "810/810 - 104s - loss: 0.0349 - accuracy: 0.9879 - val_loss: 0.2748 - val_accuracy: 0.9319\n",
      "Epoch 6/10\n",
      "810/810 - 104s - loss: 0.0255 - accuracy: 0.9919 - val_loss: 0.3052 - val_accuracy: 0.9250\n",
      "Epoch 7/10\n",
      "810/810 - 103s - loss: 0.0209 - accuracy: 0.9936 - val_loss: 0.3016 - val_accuracy: 0.9260\n",
      "Epoch 8/10\n",
      "810/810 - 104s - loss: 0.0142 - accuracy: 0.9952 - val_loss: 0.3847 - val_accuracy: 0.9285\n",
      "Epoch 9/10\n",
      "810/810 - 104s - loss: 0.0140 - accuracy: 0.9951 - val_loss: 0.4323 - val_accuracy: 0.9285\n",
      "Epoch 10/10\n",
      "810/810 - 103s - loss: 0.0076 - accuracy: 0.9975 - val_loss: 0.4915 - val_accuracy: 0.9146\n"
     ]
    }
   ],
   "source": [
    "model_biLSTM.compile(loss='sparse_categorical_crossentropy', optimizer='adam', metrics=['accuracy'])\n",
    "num_epochs = 10\n",
    "history = model_biLSTM.fit(train_padded, train_label_seq, batch_size=32,\n",
    "                    validation_split=0.1,epochs=num_epochs, verbose=2)"
   ]
  },
  {
   "cell_type": "code",
   "execution_count": null,
   "metadata": {},
   "outputs": [],
   "source": []
  },
  {
   "cell_type": "code",
   "execution_count": 105,
   "metadata": {},
   "outputs": [],
   "source": [
    "pred = model_biLSTM.predict(test_padded)"
   ]
  },
  {
   "cell_type": "code",
   "execution_count": 184,
   "metadata": {},
   "outputs": [
    {
     "data": {
      "text/plain": [
       "['christmas', 'covid', 'spacex']"
      ]
     },
     "execution_count": 184,
     "metadata": {},
     "output_type": "execute_result"
    }
   ],
   "source": [
    "lab"
   ]
  },
  {
   "cell_type": "code",
   "execution_count": 185,
   "metadata": {},
   "outputs": [],
   "source": [
    "pred_label = []\n",
    "for i in pred :\n",
    "    pred_label.append(lab[np.argmax(i)])"
   ]
  },
  {
   "cell_type": "code",
   "execution_count": 186,
   "metadata": {},
   "outputs": [
    {
     "data": {
      "image/png": "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\n",
      "text/plain": [
       "<Figure size 360x360 with 1 Axes>"
      ]
     },
     "metadata": {},
     "output_type": "display_data"
    }
   ],
   "source": [
    "distinct_label = lab # since confusion matrix label is automatically sorted, sort the distinct label in train_labels to prepare x, y label for heatmap\n",
    "mat = confusion_matrix(test[\"Classification\"], pred_label)\n",
    "plt.figure(figsize = (5, 5))\n",
    "ax = sns.heatmap(mat.T, square = True, annot = True, fmt = \"d\", cbar = False, xticklabels = sorted(set(test[\"Classification\"])), yticklabels = distinct_label)\n",
    "ax.set_ylim(len(distinct_label), 0) # since heatmap cut off numbers, we need to set up y limit \n",
    "\n",
    "plt.xlabel(\"True Label\")\n",
    "plt.ylabel(\"Predicted Label\");"
   ]
  },
  {
   "cell_type": "markdown",
   "metadata": {},
   "source": [
    "count = 0\n",
    "true_label = list(test[\"Classification\"])\n",
    "for i in range(len(pred_label)) :\n",
    "    if pred_label[i] != true_label[i] :\n",
    "        count = count + 1\n",
    "print(count / len(pred_label))"
   ]
  },
  {
   "cell_type": "code",
   "execution_count": 190,
   "metadata": {},
   "outputs": [
    {
     "name": "stdout",
     "output_type": "stream",
     "text": [
      "Micro-average F1 scores: 0.915556\n",
      "Macro-average F1 scores: 0.915298\n"
     ]
    }
   ],
   "source": [
    "print(\"Micro-average F1 scores: \", end = \"\")\n",
    "print(np.round(f1_score(test_labels, pred_label, average = \"micro\"), 6))\n",
    "print(\"Macro-average F1 scores: \", end = \"\")\n",
    "print(np.round(f1_score(test_labels, pred_label, average = \"macro\"), 6))"
   ]
  },
  {
   "cell_type": "code",
   "execution_count": null,
   "metadata": {},
   "outputs": [],
   "source": []
  },
  {
   "cell_type": "markdown",
   "metadata": {},
   "source": [
    "## 3-1. MLPClassifier to build neural network model"
   ]
  },
  {
   "cell_type": "code",
   "execution_count": 191,
   "metadata": {},
   "outputs": [],
   "source": [
    "%matplotlib inline\n",
    "import numpy as np\n",
    "import matplotlib.pyplot as plt\n",
    "from gensim.test.utils import datapath, get_tmpfile\n",
    "from gensim.models import KeyedVectors\n",
    "from gensim.scripts.glove2word2vec import glove2word2vec\n",
    "from sklearn.model_selection import train_test_split\n",
    "from sklearn.neural_network import MLPClassifier\n",
    "from sklearn.datasets import make_classification\n",
    "from sklearn.feature_extraction.text import TfidfVectorizer\n",
    "from sklearn.pipeline import make_pipeline\n",
    "import matplotlib.pyplot as plt\n",
    "import seaborn as sns; sns.set()\n",
    "from sklearn.metrics import confusion_matrix\n",
    "from nltk.corpus import stopwords\n",
    "import string\n",
    "from sklearn.metrics import f1_score"
   ]
  },
  {
   "cell_type": "code",
   "execution_count": 192,
   "metadata": {},
   "outputs": [],
   "source": [
    "X_train, X_test, y_train, y_test = train['Text'], test['Text'], train['Classification'], test['Classification']"
   ]
  },
  {
   "cell_type": "code",
   "execution_count": 193,
   "metadata": {
    "scrolled": true
   },
   "outputs": [
    {
     "name": "stdout",
     "output_type": "stream",
     "text": [
      "Iteration 1, loss = 0.63903371\n",
      "Iteration 2, loss = 0.17788644\n",
      "Iteration 3, loss = 0.08066518\n",
      "Iteration 4, loss = 0.04283793\n",
      "Iteration 5, loss = 0.02537499\n",
      "Iteration 6, loss = 0.01659561\n",
      "Iteration 7, loss = 0.01181924\n",
      "Iteration 8, loss = 0.00898503\n",
      "Iteration 9, loss = 0.00720000\n",
      "Iteration 10, loss = 0.00599923\n",
      "Iteration 11, loss = 0.00518994\n",
      "Iteration 12, loss = 0.00460668\n",
      "Iteration 13, loss = 0.00416423\n",
      "Iteration 14, loss = 0.00383257\n",
      "Iteration 15, loss = 0.00356613\n",
      "Iteration 16, loss = 0.00335642\n",
      "Iteration 17, loss = 0.00318427\n",
      "Iteration 18, loss = 0.00303661\n",
      "Iteration 19, loss = 0.00291407\n",
      "Iteration 20, loss = 0.00280310\n",
      "Iteration 21, loss = 0.00270857\n",
      "Iteration 22, loss = 0.00261665\n",
      "Iteration 23, loss = 0.00253861\n",
      "Iteration 24, loss = 0.00246476\n",
      "Iteration 25, loss = 0.00240111\n",
      "Iteration 26, loss = 0.00233241\n",
      "Iteration 27, loss = 0.00227081\n",
      "Iteration 28, loss = 0.00221012\n",
      "Iteration 29, loss = 0.00215780\n",
      "Iteration 30, loss = 0.00210502\n",
      "Iteration 31, loss = 0.00205463\n",
      "Training loss did not improve more than tol=0.000100 for 10 consecutive epochs. Stopping.\n"
     ]
    }
   ],
   "source": [
    "# model 3\n",
    "model3 = make_pipeline(TfidfVectorizer(), MLPClassifier(verbose = True))\n",
    "model3.fit(X_train, y_train) # fit the model\n",
    "labels3 = model3.predict(X_test) # predict the labels of test data"
   ]
  },
  {
   "cell_type": "code",
   "execution_count": 194,
   "metadata": {},
   "outputs": [
    {
     "data": {
      "image/png": "iVBORw0KGgoAAAANSUhEUgAAAUIAAAFCCAYAAACErdScAAAABHNCSVQICAgIfAhkiAAAAAlwSFlzAAALEgAACxIB0t1+/AAAADh0RVh0U29mdHdhcmUAbWF0cGxvdGxpYiB2ZXJzaW9uMy4xLjMsIGh0dHA6Ly9tYXRwbG90bGliLm9yZy+AADFEAAAgAElEQVR4nO3dd1QUZ9vH8S9VBLsioFGMvSt2NIpij1FA1MQWY489sYMtYuwae3nio5hYYixobMTEXgmYqLH3WMEKCEjbZd4/eLMJj4ALyiw41+ccz2Fndua+Zll/zMw9c4+ZoigKQgihYeamLkAIIUxNglAIoXkShEIIzZMgFEJongShEELzJAiFEJpnaeoCMirhr9OmLkETStbsaeoSNCE8LtrUJWhKfNy9VKfLHqEQQvMkCIUQmidBKITQPAlCIYTmSRAKITRPglAIoXkShEIIzZMgFEJongShEELzJAiFEJonQSiE0DwJQiGE5kkQCiE0T4JQCKF5EoRCCM2TIBRCaJ4EoRBC8yQIhRCaJ0EohNA8CUIhhOZJEAohNE+CUAiheRKEQgjNkyAUQmieBKEQQvMkCIUQmidBKITQPAlCIYTmSRAKITRPglAIoXkShEIIzZMgFEJongShEELzJAiFEJonQSiE0DwJQiGE5kkQCiE0T4JQCKF5EoRCCM2TIMyAhIREJn/zLa16Dqe+Z186D/blWMhZABITdYyctpDWn46gWuvuhJy7lGLZF9ExTJi7Ercug3DrMojl67a9sv7123+mzadfUK9DHzr0G8Nf90NV2a7srk//buw7tIU7j86xaPmMFPNy57Zh1rzJXLx5kmt3gtm+d12K+dVqVGb73nXcvH+a89eO0e/znmqW/k7o3LkD584e5Pmzq1y+dJxGjeoByZ/94kXTeXD/HI8fXWT//q0mrjTzLE1dQE6iS9LjaF8Y/7mTcCpamGPBZxk9fQkBK2dRtHBBXKpUoIdXW0ZNX/zKsnNWric2Pp6fv1/I84gX9Bs/A6eiRfBq7QbAtsBDBOw7zLJpoyldsjj3Qx+TL4+d2puYLYWFPWHBvJU0c/8Am9y5Usybu3AqlpaWNKnXjvDwSKpWq2iYV6hQAX7Y+i2TfWex+6d9WFlbUayYo9rl52jNmzdm+nQfevQYTEjIWZycHAzzli+fjaWFJTVqNuP58whq1KhiwkrfjARhBtja2DC4p7fhtVuDWhR3tOfS9dsUd7SnZ8e2AJibm72y7JHf/mDF12PJbZOL4o72dGzdlB37juDV2o2kpCRWrA/g69EDKeP8HgAlijm8sg6t2rvrVwBq1KxKseL/fC5lypaidVt3XKo0JToqBoA//7UnPnDIZxw6eIKALbuB5D3669duqVh5zjdp4khmzFhIcPAZAB4+DAOgfLnSfNSuJaXL1CMqKhqAM2fOm6zONyWHxm/gaXgkd+6HGcLrdRTl3z8rXL9zD4BHT5/z6Olzbvx1nxbdh9Hm0y9Y9v1WkpKSsqLsd0atOjW4f+8hY3yGcfHmSQ6d+Il2HVoa5teuW4OI8Ah27dvIhevH+X7Tcoq/52TCinMWc3NzateuTpEihbl08Rg3bwSzcME0bGxsqFvPhbt3HzB50ige3D/H76d/xdOzralLzrQs3yOcM2dOuvPHjh2b1SVkiUSdjvGzltGhZWNKlyz22vc3qlOD1Zt3Mn305zwLj2T7L0eIi08A4NGT5wCc/OM8Af+ZRVT0Swb6zsKhSCE6feiepduRkzkVc6BSlfLs2fULNSu6UadeTdb/uIJrV25y/dotnIo5Uq1GZT727MvlS9eY5DeaFf+dR4c23U1deo7g4GCPtbU1Hb3a4d7cm8TERLZuXY2Pz3BiYl5StWpFtu/YS6n369CgQW12bF/LlcvXuXL1hqlLz7As3yO0tbXF1taWp0+fEhgYiE6nQ6fT8fPPPxMdHZ3VzWeJpKQkfOeswMrKEt8hvYxaxmfQp+SytqZdn1EM/+ob2jZ1xaFIIQBy5bIGoHfnj8iXx47ijvZ0/tCdYyHnsmwb3gVxcfEkJCSwYO5KEhMTOXUihBPHg3Fzb/T/8+MI3L2fs2cuEB+fwPxZy6nXoBZ58+UxceU5Q2xsHADLV/gTFvaYZ8/CWbRoFW1aNyMuNo6EhARmzlxMYmIix44FceTISVq0aGLiqjMny/cIhw4dCkD//v0JCAigYMGCAAwaNIjx48dndfNvnaIoTP5mFc/CI1n+9VisLI37CPPny8Ps8UMMrxet+ZFqFcoAUOo9J6ysLDF79dSiSMelC1fTn3/xGsq/zkf8/bOZfNBGiYiI5N79hyk+w7+dv3DZBBVlHdXOEYaGhhpCEKBgwYI8ePBArebfmmmL13D73gOW+o3G5v/35P6WkJBIfELy4W6iTkd8QoLhS3Tv4SMiXkSh1ydxLOQsWwMPMqCrJwC5bXLRpkkD/DfvJuZlLGFPnrE18BBu9V3U3bhsysLCgly5rLGwMMfc8LMFQSdP8+B+KMNHDsDCwoK69V1o2Kgehw8cB2DThgDaftSCKtUqYmlpyZdjBxF08jQvIqNMvEU5x/ffb2bwoN7Y2xemQIH8DBvWj72BBzh27Dfu3XvI2LFDsbCwwNW1Dk2auPLrr0dMXXKmmCmpxX0WGD58OHnz5qVTp04ABAQEEBkZyeLFr15qkp6Ev05nRXlGefjoCa0//QJrKyssLP75GzJ5RF8+cm9E609H8PDR0xTL/PzdQoo72vPzkSDmrFxHVMxLnIs78mXfrjSqU93wvuiYl0xdtJqjwWfJa2eLd9tmfN7dy2R7LyVrZp/r7UaPH8Lo8UNTTJs3aynzZi2jQsWyzF88jcpVynP/3kNmfr2IwN37De/r1ecTvhj9ObltbQgO+oPxo/x4+CBM7U1IU3hc9j49ZGlpyTfzp/Lxxx7ExcWzbdtufHxnEB8fT6VK5Vm5Yg7VqlXi7t37TJ4yl507fzZ1yemKj7uX6nTVgjA6Opply5bx22+/oSgKDRo0YMiQIeTJk7HzNaYMQi3JTkH4LsvuQfiuMXkQvi0ShOqQIFSHBKG60grCLO8sCQwMpG3btmzYsCHV+d27y6UMQgjTyvIgvH79Om3btuXChQtZ3ZQQQmSKHBqLVMmhsTrk0FhdaR0aq3b5TIsWLVixYgVhYdmnx04IIUDFIFy+fDkvXrygc+fO9O7dm127dhEfH69W80IIkSbVD431ej1Hjx5ly5YtnD59muDg4AwtL4fG6pBDY3XIobG6TH5o/LebN28SHBzM+fPnqVIl545fJoR4d6g2HuH333/Pjh07iImJwdPTk82bN+PkJEMiCSFMT7UgvHr1Kr6+vtSpU0etJoUQwiiqniPU6XTcvn0bMzMzSpUqhaWRI7f8m5wjVIecI1SHnCNUl8nuLPnbhQsXGDZsGFZWVkByKC5ZskTOEwohTE61IPz666+ZMWMGrq6uAAQFBTFt2jQ2bdqkVglCCJEq1XqNY2NjDSEI0KBBA2JjY9VqXggh0qRaEObOnZugoCDD6+DgYHLnzq1W80IIkSbVDo0nTJjA8OHDsbZOHtU5MTExw4OyCiFEVlAtCKOioti6dSvPnj1DURSKFCnCtWvX1GpeCCHSpNqh8Zw5cyhUqBDly5enQoUKFCxY8LWP+hRCCDWoFoSKoqR4/oa5uTl6vV6t5oUQIk2qBaGdnR3nzv3znN5z585ha2urVvNCCJEm1c4RjhkzhiFDhlC2bFkAbty4wdKlS9VqXggh0qRaELq4uLBnzx7Onj2Loii4uLiQP39+tZoXQog0qRaEAPnz58fNzU3NJoUQ4rVUH49QCCGyGwlCIYTmSRAKITRPglAIoXkShEIIzZMgFEJongShEELzJAiFEJonQSiE0DwJQiGE5kkQCiE0T4JQCKF5EoRCCM2TIBRCaJ4EoRBC8yQIhRCaJ0EohNA8M0VRFFMXkRFF8pU3dQma8PDiFlOXoAn5yrU3dQmaEhd3N9XpaQ7Vn5SUZNSKzc1lp1IIkbOlGYSVK1dO8Rzi//X3c4ovX76cJYUJIYRa0gzCAwcOqFmHEEKYTJpBWLx48VemJSUl8fTpU4oWLZqlRQkhhJqMOsH34sULRo0aRfXq1WnVqhWQvMe4YMGCLC1OCCHUYFQQTpkyhTx58nDw4EGsrKyA5Ae2BwYGZmlxQgihBqMe8H7q1CmOHTuGlZWVoQOlUKFCPHv2LEuLE0IINRi1R5g3b17Cw8NTTHv48CH29vZZUpQQQqjJqCDs3Lkzw4cPJygoiKSkJM6cOcO4ceP45JNPsro+IYTIckYdGvfv3x9ra2v8/PzQ6XT4+vry8ccf06tXr6yuTwghspzcYidSJbfYqUNusVNXhm+x+1+nTp1iz549PH78mKJFi9KuXTtcXV3fWoFCCGEqRp0j9Pf3Z+TIkeTPnx83NzcKFCjAqFGjWLNmTVbXJ4QQWc6oPcI1a9bw3XffUb78P4elHh4e9O7dmz59+mRZcUIIoQajh45xdnZO8bpEiRLpDsoghBA5RZpBmJSUZPg3bNgwfH19+euvv4iLi+P27dtMmjSJ4cOHq1mrEEJkiTR7jStWrGjY4/v3W/49zRTDcEmvsTqk11gd0musrgz3GsswXEIIrcjQMFxCCPEuMvo6wgMHDhASEkJ4eHiKQ+U5c+ZkSWFCCKEWo3qNly5dypQpU0hKSuLnn3+mQIECHD9+nHz58mV1fUIIkeWMCsJt27axZs0afH19sbKywtfXl5UrV3L//v2srk8IIbKc0SNU/30xtZWVFYmJiVSvXp2QkJAsLU4IIdRg1DnCkiVLcv36dcqVK0e5cuX44YcfyJcvH/nz58/q+oQQIssZFYRffPEFERERAIwePZpRo0bx8uVLpkyZkqXFCSGEGt5oGK579+5RokSJt1nPa8kF1eqQC6rVIRdUqyutC6qNvtf4fyUkJBieaCeEEDlZpoMQUt56J4QQOdUbBaGMPiOEeBe8URAKIcS7IN1eYzc3tzT3+uSwWAjxrkg3COfOnatWHUIIYTLpBmG9evXUqkMIIUxGzhEKITRPglAIoXkShEIIzZMgFEJoXpqdJWPGjDHqgmkZoVoIkdOluUfo7OxMyZIlKVmyJHnz5mX//v3o9XocHR1JSkriwIEDMkK1EOKdkOYe4dChQw0/9+3bl2+//ZY6deoYpp0+fZoVK1ZkbXVCCKECo84Rnj17lho1aqSYVqNGDc6cOZMlReUUfQf0YP/hbTx4coElK2al+p4x44fy9MU1mjRt+Mq8AgXzc+VWELv3/ZDVpeYoCQmJTJ63glbdBlO//ad0HjiWY8HJ37Vzl67Rf+w0Gnn1pol3X0b6fcOTZ+GGZYPPXqDPqKm4duhF6+5DXln3Ev9NePUbRc1Wn7D8u82qbVNO1rlze86ePcCzZ1e4dOkYjRrV45NPPHn69LLh3/PnV4mLu4uLSzVTl5spRgVh5cqV+eabb4iLiwMgLi6OBQsWUKlSpSwtLrsLC33M/Lkr2Lhua6rzS71fgvYerQkLfZTq/ClTx3D96s2sLDFH0un1ONoXxv+brzj101qG9v6Y0dMW8CDsMS+iY+jUrgX71i9j34bl2OW2YdLc5YZlc9vY4NWmGSMH9Ex13SWLOzJyQA8a16+l1ubkaM2bN2b6dB8GDBhNkSKVaNGiE7dv32HTph0UKVLJ8G/EiAncunWHM2fOm7rkTDEqCGfOnMmZM2eoU6cODRs2pE6dOvzxxx/MmpX6XpBW7Nn1C4F79vM8PCLV+bPmTcFvyjwSEhJfmVenXk0qVi7HxvXbsrrMHMc2tw2De3WhuGNRzM3NcWtQm+KORbl07RaN67nQ2s2VPHa25LbJRVfPNpy5eNWwbLWKZWnfsgnvORVNdd0erZrSuJ4LdrY2am1OjjZx4pfMmLGI4OAzKIrCw4ePePjw1T/sPXp0YsOGnPtdNmqo/vfee49NmzYRGhrK48ePsbe3p1ixYhlqKCQkhMqVK2NnZ8eWLVs4f/48/fv3V32Ea7V08GxDYkIC+3858so8c3Nz5sybwpfDJ1Kpsoy4/TpPwyO4cz+UMqVe/a78/udlyjq/m98hUzM3N6d27ers2bOfixePkitXLnbt2oePz3Ti4uIN7ytZsjgffFCfgQPHmLDaN2P0dYTh4eH89ttvBAcHU6xYMR49ekRYWJjRDfn5+WFra8v169fx9/enWLFiTJgwIVNFZ3d2drZMnDKSCeNnpDp/wKBP+f30Oc6dvahyZTlPok7H+BlL6NDKjdIli6eYd/XWHVau38rIgT1MVN27zcHBHmtra7y8PqR5807Ur9+GmjWr4uMzPMX7unf35sSJYP76656JKn1zRgVhcHAwbdq0YdeuXSxfnnw+5s6dO3z11VdGN2RpaYmZmRlHjx6la9eufP7557x48SJTRWd343yHs3nTT9y98+pznx0di9J/YE+mT1tggspylqSkJHxnLcXKyhLfYX1SzLv7IIzBPjMYP7g3tatp+1x1VomNTe4TWLFiLWFhj3n2LJxFi1bRunWzFO/r3t2b9etTP0+eUxh1aDxjxgwWLlyIq6srdevWBZJ7jf/880+jG9LpdPz+++/s27eP6dOnA6DX6zNRcvbX2M2VYsUd6d2vGwBFihRi9XcLWbxgFTeu38bBsSgngvcCySf3bXLn4uL1E1Sr0JikpCRTlp5tKIrC5PkreRYeyfIZPlhZ/vNVffjoCf3HTmNgD2/at2xiwirfbRERkdy//zDdsUddXevg5ORAQMBeFSt7+4wKwgcPHuDq6gr8Mzy/lZVVhoJsxIgR+Pn50aBBA8qVK8ft27dxdnbORMnZh4WFBZaWFliYW2BhYUGuXNbodHo6duiV4j/ur4e3Mcl3Jgd+PUpiYiK1qv7zF9XT+0O8O7en5yeDJAT/ZdqiVdy+84BVcydhk8vaMP3R0+f0He3HJx1a06X9qw8PS0pKIlGnQ6fXoygK8QkJmJuZY2WV/PtI1OlISkoiKUlBp08iPiEBSwtLLCzkbtPUfP/9ZgYN+oxffjlMYqKOYcP6Ehh4wDC/R49O7NgRSHR0jAmrfHNGBWGZMmU4duwYjRs3Nkw7efIk5csbf6K/RYsWtGjRwvD6/fffZ+nSpRkoNfsZNXYwY32GGV53+cSDOTOXMGfmkhTv0+v1RES8ICbmJQCPHz81zHsRGUVioi7FNK17+OgJW3bvx9rKiqad+xumT/5yAPcehHE/9BEr1m1hxbp/HjkavHsdkNx50mf0VMP0Oh/2oE71yvh/8xUAX33zH3b+qwNr1cYApo0ZjGfrplm7UTnUjBmLKVy4EOfPHyYuLp5t2/Ywa1by/9tcuXLh7d2Orl0/N3GVb86o5xqfPXuWgQMH0rRpUwIDA/H09OTgwYMsX76c6tWrG93Y8ePHuXz5MvHx//Q4/fsOFmPIc43VIc81Voc811hdaT3X2Kg9wpo1a7Jz50527tyJt7c3Tk5ObN26FUdHR6MLmDdvHufPn+fGjRs0b96cAwcOGA63hRDClIw6MbJ69WocHBzo378/U6ZMYcCAATg6OuLv7290Q0eOHGH16tUULlwYPz8/AgICePnyZaYLF0KIt8WoIFy2bFmq0zMy6IK1tbXhEprExEQcHBwydB2iEEJklXQPjU+dOgUk98QFBQWl6Ea/f/8+dnZ2RjdkZ2dHbGwsLi4ujB8/Hnt7eywsLDJZthBCvD3pdpa4u7sDEBoaipOT0z8LmZlRpEgRBgwYQPPmzY1q6OnTp+TLlw+9Xo+/vz9RUVH07Nkzw7fqSWeJOqSzRB3SWaKutDpLjOo1Hjt2bLYZiVqCUB0ShOqQIFTXG/Ua9+7d+5W9wtDQUCIjI6lYsaJRBdy6dYuVK1dy9+5ddDqdYfrWrTn71hwhRM5nVBCOGTPmlY6RxMRExowZw65du4xqaMSIEXh4eODl5SXnBoUQ2YpRQfjw4cNXhssqWbIkDx48ML4hS0v69euXseqEEEIFRl0+4+joyMWLKYeMunjxIkWLpj74ZWoaN27M0aNHM1adEEKowKg9ws8++4zBgwfTr18/SpYsyd27d1mzZg2ff278PYaurq4MHjwYc3NzrK2tURQFMzMzwyU6QghhKkYFYZcuXcibNy9bt24lLCwMR0dHxo0bR5s2bYxuaPLkycycOZMqVapgbi4jfQghsg+jghCgbdu2tG3bNtMN5c+fP0PBKYQQakkzCHfs2IGnpyeQ/iUunTp1MqqhFi1a8MMPP9C2bVty5cplmJ47d25jaxVCiCyRZhDu2bPHEIQ//fRTqu8xMzMzOggXLlwIwNSpUzEzMzOcI7x8+XJGaxZCiLfKqDtLshO5s0QdcmeJOuTOEnWldWdJmr0WycOZv/6fsf5+TsnrpgkhhNrSPDSuXLmy4fkk6TH20Pb06dOvTAsJCTFqWSGEyEppBuGBA/88oOXw4cPs27ePgQMHUqxYMR4+fMiqVato1erVh+f8r8DAQAIDA3nw4AEjRowwTI+OjsbGxuYNyxdCiDeXZhAWL/7Pw7TXrl3Ltm3byJcvH5D84KWqVavi7e1Nt27d0m3g/fffp2nTppw/f56mTZsapufJk0eG6hdCZAtGXUcYFRVFbGysIQgB4uLiiIqKeu2yFStWpGLFiri7u1OgQIHMVyqEEFnEqFs8vLy86N27Nz/++CNHjhzhxx9/pG/fvnh5eRnd0MqVK4mKikKn09GtWzdq1qyZ5mU5QgihJqOH4SpZsiR79+7l8ePH2Nvb0717d7p06WJ0QydPnmT8+PEcPnwYBwcHFixYwIABA/Dw8Mh08UII8TYYFYTm5uZ07dqVrl27vnGDISEhtGzZEgcHB6N6pYUQIqsZdWisKAqbN2+mV69etG+ffAFoSEgIe/fuNbqhwoULM3HiRPbu3UujRo3Q6XTo9frMVS2EEG+RUUG4aNEitm7dSpcuXQgNDQWSxyj873//a3RD8+fPp2zZsixYsID8+fMTFhZG7969M1e1EEK8RUbdYufm5sb27dspVKgQdevWJSQkBEVRqFevnuoXRcstduqQW+zUIbfYqeuNHt6k1+sNzzD++7xeTEwMtra2r112zJgxzJ07F29v71TPCcrDm4QQpmZUEDZp0oSZM2fi6+sLJJ8zXLRoEc2aNXvtsr169QJg3Lhxb1CmEEJkHaOC0NfXl7Fjx1K7dm10Oh0uLi40atSI2bNnv3bZqlWrotfr2blzJ19//fUbFyyEEG/ba4NQURTCw8NZvHgxkZGRPHjwACcnJ+zt7Y1uxMLCgrt3Uz82F0IIU3ttEJqZmdG+fXv++OMPChcuTOHChTPVUIMGDfDz88PT0zPFucWyZctman1CCPG2GHVoXKlSJW7fvk2ZMmUy3dDfnSKHDx82TDMzM0sxyo0QQpiCUUFYr149+vfvj5eXF46Ojil6f40dqv/gwYOZq1AIIbKYUUH4xx9/ULx4cYKDg1NMz8gzSwBiY2MJCwtLcUeJHBoLIUzNqCBct27dGze0YcMG5s2bR/78+Q3PNZZDYyFEdpBuEMbGxrJixQquXbtGlSpVGDhwINbW1plqaM2aNezevTvFgK9CCJEdpHuvsZ+fH4cOHaJ06dLs27fPqOsG02Jvby8hKITIltK91/iDDz4gICCAokWLEhoaSvfu3TPc6XHjxg0A9u7dS1xcHO3atUvxgPeMniOUe43VIfcaq0PuNVZXpu41fvnyJUWLFgXAycmJ6OjoDDc8YMCAFK9//vlnw8+ZOUcYEReT4RpExtmV+dDUJWjCy4fHTF2C4DVBqNfrCQoK4u+dRp1Ol+I18NoHMP29B3nixAmqVatmeO7JixcvuHjx4hsVL4QQb0O6h8bu7u7pL5yBPTpPT0+2b99uuAYxKSkJb29vtm/fnoFywdJazjOqQcYOV4fsEarLqkjpVKenu0f4Ni+CVhQlxYXY5ubmMkK1ECJbMGqE6rfBzs6Oc+fOGV6fO3fOqPEMhRAiqxl1QfXbMGbMGIYMGWLoJb5x4wZLly5Vq3khhEiTUUP1vy2RkZGcPXsWRVFwcXEhf/78GV6HnCNUh5wjVIecI1RXWucIVQ3Ct0GCUB0ShOqQIFRXWkGo2jlCIYTIriQIhRCaJ0EohNA8CUIhhOZJEAohNE+CUAiheRKEQgjNkyAUQmieBKEQQvMkCIUQmidBKITQPAlCIYTmSRAKITRPglAIoXkShEIIzZMgFEJongShEELzJAiFEJonQSiE0DwJQiGE5kkQCiE0T4JQCKF5EoRCCM2TIBRCaJ4EoRBC8yQIhRCaJ0EohNA8CUIhhOZJEAohNE+CUAiheRKEQgjNkyAUQmieBKEQQvMkCN+i79Yu5t6dP3j+9AqXLh6jT++uANSvV4uf9/7A47ALhD74k00//AdHx6ImrvbdULbs+0S9uMl3axcbpo0fP5ybN4J59vQK69cvJ2/ePCasMHtLSEhg0swFtOzYi3otOtLpsyEcOxUCwLkLl+k3wpeGbTrTuN3HjJw4nSdPn6dY/tLVG/QaPIa6Lbxo8lFX1m3eYZh35vwlPuk3gnotOuL16SD+OHdB1W3LCAnCt2j2nKWUKdeAQkUq4tXxM/ymjqWWSzUKFszPqtUbKFOuAaXL1iMqKprVq74xdbnvhMWLpnP69DnD6549O9O9uzduTT0p6VyL3LltWLTwaxNWmL3p9Ek4FrVn7bI5BP2ylaH9P2XUpJk8CH3Ei6hoOnu05Zdta/ll23fY2uZm4ox/vrfhEZF8PnIinT3acmLvjwT+uJqG9WoBEPkiimHjptK7WydO7dtCn+6dGTpuKpEvoky1qemSIHyLLl26RkJCAgCKAoqiULpMKX7ed4ht23YTFRVNbGwcy5f707BhXRNXm/N16dKBiMgXHDx03DCtXbuW+Pv/wP37D4mJecm8ucvp3Lk9uXPbmLDS7Ms2tw1D+vaguJMD5ubmNG1Un+LFHLh05TqNXevS2r0xeezsyG1jQzfvDpz585Jh2e82badh/dp81Noda2tr7OxsKVOqJJC8N1i4YAFauzfGwsKC9q3dKVggP/uPnDTVpqZLgvAtW7J4Bi8ibnDpwlFCwx4TGHjglfc0btyAS5eumaC6d0fevHmYMmUMY8f6pem5HM0AABKaSURBVJhuZgZmZmYpXtvY2FCuXGm1S8yRnj4P5869B5Qp7fzKvN/Pnqfs+yUNr/+8eIX8+fLSfeBImrT7hCFjpxAa9jh5pqKgoKRYXlEUbtz6KyvLzzTVgvDKlSuvTDt27Jhazatm2HBfChQqj1tTT3bsCCQ+PiHF/GrVKjFxwheMGz/NRBW+G6Z+Ncaw5/dv+34+RJ8+3XB2fo98+fIyeswQAGxz5zZFmTlKok7H+Klz8GjbgtLOJVLMu3rjNiv8NzJqSD/DtEdPnrIzcD/jvxjIrwHfU9zJkTFfzQagZrXKPHn6nL2/HiZRp+Onvb9y70EocfHxqm6TsVQLwsGDB7Np0yYAkpKSmD9/PrNnz1areVUlJSVx4mQIxYs78fnATw3Ty5Qpxe6d6/hy1BSOnwg2YYU5W40aVXBv3phFi1a9Ms9/7SZ+/HEH+3/dyrmzhzhyOPlQ7P6DULXLzFGSkpLw8ZuLlaUlviMHp5h39/5DBo2axPgvPqd2zaqG6blyWdO8SUOqVapArlzWDO7TnbPnLxEVHUOB/PlYPGsy320KwO2jrhz/7Xca1KmJg30RtTfNKJZqNbR582bGjh3LyZMnefr0Kc7OzmzZskWt5k3C0tKC0v9/iFGyZHH2BW5i+oxFbNiwzcSV5WxuTVwp5VyCWzeT/5jkyWOHhYU5lSqVp179Nvj5zcfPbz4ALVo04f79UB5IEKZJURQmz1zIs+cRrJjvh5XlP7HwMOwR/Ub4MPCzrnRo0zzFcuXLvA//nIUwnJJQlORD4rou1flxdXJvvk6np22XPnzW1TuLtyZzVNsjLFKkCN26dePYsWPcv3+fQYMGkfsdOlyxty9Mly4dsLOzxdzcnFYt3fjkY08OHT5BsWKO/LpvMytWruXbVetMXWqOt+q/66lQsSF16raiTt1WfPvtOvYGHuTDdt0oWLCA4Y9PpUrlmDt3CtOnLzD85xSv8pu7lFt/3WXZnK+wyZXLMP3Rk6f0GTaeTzq252Ovdq8s59WuJQePnuLKtZsk6nSs9N9IrepVyPf/lytdvnaDRJ2O6JgY5i1dhUPRIjSqX1u17coIM0Wlb8isWbM4deoUCxYs4MaNG8yaNYvRo0fz4YcfZmg9ltbFs6jCN1OkSCE2b/qW6tUrY25uzp2791m6dA2r12xk0sQvmTJ5NNHRMSmWKVCovImqfT2z178l25g0aSRly5Si12fDKVeuNNu3r6XEe8V48uQZS5euZuGib01dYppePjTtefKHYY9o5f0Z1tZWWFhYGKZPGTOMuw9CWb56/Ss97iH7txt+3rR9N9+u3URcfDwu1SszcdRQnBzsARgzZZbhmsRG9evgO3IQhQsWUGGr0mZVJPVOM9WCcMKECUyePJlc//8X5969e4wcOTLDh8fZNQjfNTkpCHMyUweh1pg8CFOTmJiIlZVVhpaRIFSHBKE6JAjVlVYQqnaO8NmzZ4wePZru3bsDyZfTbN26Va3mhRAiTaoF4cSJE6lduzYvXrwAoHTp0mzcuFGt5oUQIk2qBeGjR4/o2rWr4YSstbU15uZyY4sQwvRUSyJLy5SXLL548UIuaRBCZAuqXVDdqlUrJk+eTExMDAEBAWzcuBFv7+x5caUQQltU7TXeuXMnBw8eRFEU3N3d8fDwyPA6pNdYHdJrrA7pNVZXtrx8JjMkCNUhQagOCUJ1mfzymWHDhhEREWF4HR4ezogRI9RqXggh0qRaEN67d48CBf65vaZgwYLcvXtXreaFECJNqgWhXq9Hr9cbXicmJhpGcxZCCFNSrdf4gw8+4Msvv+TTT5PH5/v+++9p3LixWs0LIUSaVOssSUxM5D//+Q+HDx9GURSaNWvGgAEDsLa2ztB6pLNEHdJZog7pLFGX9BqLDJEgVIcEobrSCkLVDo0Bjh8/zuXLl4n/13MLhg4dqmYJQgjxCtWCcN68eZw/f54bN27QvHlzDhw4gKurq1rNCyFEmlTrNT5y5AirV6+mcOHC+Pn5ERAQwMuXL9VqXggh0qRaEFpbW2NpaYmZmRmJiYk4ODgQFhamVvNCCJEm1Q6N7ezsiI2NxcXFhfHjx2Nvb5/iGQlCCGEqqvUaP336lHz58qHX6/H39ycqKoqePXtSrFixDK1Heo3VIb3G6pBeY3Vlm8tnYmKSn+RmZ2eXqeUlCNUhQagOCUJ1mXzQhZs3b+Lt7U2DBg1wdXWlU6dO3Lx5U63mhRAiTaoFoY+PDz179uTPP//k3Llz9OzZEx8fH7WaF0KINKkWhDqdDk9PT8zMzDAzM8PDwwOdTqdW80IIkSbVgrBChQqcPn3a8Pr333+nZs2aajUvhBBpUq2zxMPDg2vXrlGyZEkA7ty5Q6VKlQyX0Bj7jGPpLFGHdJaoQzpL1GXye40nTJhg+Dk+Pp7IyEiKFi2qVvNCCJEm1YLwhx9+wM/PDysrKzw8PAgPD2fgwIH07dtXrRKEECJVqp0jvH37Nnnz5uXw4cPUr1+fo0ePsmPHDrWaF0KINKnaawwQEhKCm5sbNjY2mJur1rwQQqRJtSQqU6YMffr0MQy/FRcXp1bTQgiRLtV6jePi4jh+/DgVKlSgRIkSPHr0iKtXr9KkSZMMrUd6jdUhvcbqkF5jdWWbe43flAShOiQI1SFBqC6T32sshBDZlQShEELzJAiFEJonQSiE0DwJQiGE5kkQCiE0T4JQCKF5Oe46QiGEeNtkj1AIoXkShEIIzZMgFEJongShEELzJAiFEJonQSiE0DwJQiGE5kkQCiE0T4JQCKF5EoT/w93dnWvXrhn13vPnzzNq1Kh033P58mX27t37NkoTmbBo0aI0P/8lS5Ywe/ZslSsS2ZFqzzV+1+h0OqpVq8b8+fPTfd/ly5c5fPgwH374oUqViX8bMWKEqUsQOYCmg/DMmTPMmTOHmJgYAMaOHQtAYGAgkyZN4smTJ/Tp04cePXoAyXuL3t7eBAUFUaJECTw8PJg9ezYBAQE8e/aMUaNG8ezZMwBcXV0ZNGgQixcvJjo6Gg8PD+rWrcvEiROpUKECX3zxBfv37yciIoKvv/6akydPcuzYMXQ6HYsWLaJMmTI8efKEkSNHEhMTQ3x8PG5uboYa9+/fz6JFizA3N0ev1zNp0iTq169vgk8xa6T2u8mXLx/Tp0/n5cuX2NraMmHCBKpXr46vry8VKlSgV69eAFy7do1Bgwaxf/9+fHx8qFq1Kj169CAqKooJEyZw48YNnJycKFSoEEWKFDHlZqoqNjaWcePGcePGDSwtLXn//ffp1q0b06dPp0qVKly5cgULCwtmzZpF2bJl0/3+JSQksGDBAo4dO4a5uTklSpRg2bJlAKxatYp9+/ah1+txcHBg2rRp2Nvb4+vrS968efHx8eHp06d06dKFZcuWUalSJVN+LMkUjQoPD1caNmyo/P7774qiKIpOp1MiIiKUZs2aKbNmzVIURVHu3bun1KxZU4mOjlYURVGaNWumTJkyxbCOoKAgxcvLS1EURfH391d8fHwM8yIiIhRFUZRt27Ypw4YNS9F2+fLllfXr1yuKoih79+5VatasqRw6dEhRFEX59ttvlVGjRimKoihxcXGGthMSEpSePXsqR44cURRFUdq3b6+EhIQYao+Kino7H0w2kNrv5smTJ4qbm5ty4sQJRVEU5eTJk4qbm5sSHx+vhISEKJ6enoblZ86cqSxZskRRFEUZN26csm7dOsP08ePHK4qiKM+ePVPc3NwMv2st+OWXX5RevXoZXkdERChBQUFK+fLlld9++01RFEUJCAgwfKfT+/4tWbJEGTJkiBIfH68oSvLnqSiKsmPHDmXixImKXq9XFEVRNmzYoIwcOVJRFEWJjY1VPvroI+XXX39VPvvsM8P/gexAs+cIz549S5kyZahVqxYAFhYW5M+fH8BwGPvee++RL18+wsLCDMt5enqmur4aNWpw4sQJZs+ezaFDh7C1tU23/bZt2wJQpUoVAJo2bQpA1apVuXv3LgB6vZ45c+bQoUMHOnbsyPXr17ly5QoADRo0YNasWfz3v//l5s2b5MmTJzMfQ7aU2u/m2bNnWFlZ0bBhQyB5j9vKyorbt29Tp04dYmJiuHLlCjqdjt27d+Pl5fXKen/77Tc6deoEQKFChWjZsqV6G5UNVKxYkVu3bjF16lQCAwOxtrYGwNnZmXr16gHg4eHBtWvXiI6OTvf7d+jQIXr16mVYR6FChQA4ePAgJ0+exMvLCw8PDzZu3MiDBw8AsLGxYeHChYwZM4Y8efLQvXt3tT+CNGk2CJV0Rh/LlSuX4WcLCwv0er3hdVoB5+Liwo4dO6hatSo//fQTn376abrt/92Gubm54cv092udTgeAv78/L168YMuWLezatYsWLVoQHx8PgK+vL9OnT8fKyooRI0awefPm12xxzpHa70ZRFMzMXn3I6N/TPDw82LFjB0ePHqVMmTIUL/7qY1/T+51rQYkSJdi7dy+NGjXi1KlTeHh4GL5PqUnv+5fWZ6koCoMGDeKnn37ip59+Yvfu3WzatMkw/+bNm9jZ2fHkyRPD9zw70GwQuri4cPPmTc6cOQMk731FRkZmen337t0jT548tGvXDh8fHy5evEhSUhJ58uQhKioqU+uMiorC3t6eXLly8ejRIw4cOGCYd+vWLcN5sQ4dOnD+/PlM157dpPa7KVKkCAkJCQQFBQEQFBSETqejVKlSAHh5ebF79262bNlCx44dU12vq6srAQEBAISHh7N///6s35hsJCwsDAsLC1q0aIGPjw/Pnz8nMjKSO3fucPr0aQB27dpF+fLlDd/btL5/7u7ufPfddyQkJADw/Plzw/SNGzca/i8lJCQY9iLv3bvHjBkzWL9+Pc7OzixcuFDNzU+XZjtLChQowJIlS5g1axYvX77E3NyccePGZXp9wcHB+Pv7Y2FhQVJSElOnTsXc3BxXV1fWrFlDhw4dqFevHhMnTjR6nT179mTEiBF4enri6OiIq6urYd78+fO5c+cOFhYWhk6Ed0Vav5vFixen6CxZtGiRYW+6WLFilC1bluDgYL755ptU1zt48GB8fX358MMPKV68OI0aNVJzs0zu6tWrhqsckpKSGDBgAEWLFqVSpUrs3r2bGTNmYG5uzpw5c4D0v38DBgxg/vz5eHp6YmVlhbOzM4sXL8bT05OIiAhDB6OiKHTt2pXSpUvz5ZdfMmrUKEqVKsWUKVPo1KkTdevWxc3NTf0P43/ICNVCaNhvv/1muPJByzR7aCyEEH+TPUIhhObJHqEQQvMkCIUQmidBKITQPAlCIYAFCxYwfvx41ZcV2YNmryMUWcPFxcXwc2xsLNbW1lhYWAAwdepUOnTokKXtjx49GmdnZ4YNG5al7Yh3iwSheKv+vhsEku8y+Prrrw33B6dGp9NhaSlfQ2FacmgsVLVgwQK++OILRo4ciYuLCzt37mT06NEsWbLE8J6TJ0/i7u5ueB0WFsaQIUNo0KAB7u7ubNiwIVNt+/n50aRJE2rVqoW3tzd//PFHivlxcXEMHz4cFxcXOnbsyNWrV996DSJ7kiAUqtu/fz8fffQRv//++2sHrNXr9QwcOJBq1apx9OhR/P39Wb16NadOncpwu9WrV2fnzp0EBwfTunVrRowYYbhXFuDXX3+lffv2BAcH06ZNG4YOHYpOp3urNYjsSYJQqK5WrVq4u7tjbm6OjY1Nuu89e/Ys0dHRfP7551hbW+Ps7Iy3tzd79uzJcLuenp4UKFAAS0tL+vfvT3R0NHfu3DHMr169Oi1btsTKyoq+ffsSHR3N+fPn32oNInuSkzNCdU5OTka/9+HDh4SGhlKnTh3DNL1en6nRuFetWsW2bdt48uQJZmZmxMbGEh4enmpdFhYWODg48PjxYxISEt5aDSJ7kiAUqvvfcQVtbW2JjY01vH7y5InhZycnJ5ydnQkMDHyjNoOCgli7di1r166lbNmyANSuXTvFuHqhoaGGn5OSknj06BFFixZFr9e/lRpE9iWHxsLkKlasyJEjR4iMjOTx48esW7fOMK9mzZpYWVmxZs0a4uPj0ev1XL16lQsXLqS5Pp1OR3x8vOFfQkICMTExWFhYULBgQRITE1myZEmK8IXkpxLu37+fxMREVq9ejZ2dHdWqVctUDSJnkSAUJtexY0fKlClDs2bN6NevH+3atTPMs7S0ZNWqVfz555+4u7vToEEDpkyZQnR0dJrrW7lyJdWrVzf869u3L25ubjRs2JBWrVrh7u5Onjx5sLe3T7FcixYt2LlzJ/Xq1SMwMJClS5diaWmZqRpEziKjzwghNE/2CIUQmidBKITQPAlCIYTmSRAKITRPglAIoXkShEIIzZMgFEJongShEELzJAiFEJr3f0+SxoArcZcmAAAAAElFTkSuQmCC\n",
      "text/plain": [
       "<Figure size 360x360 with 1 Axes>"
      ]
     },
     "metadata": {},
     "output_type": "display_data"
    }
   ],
   "source": [
    "distinct_label = list(set(labels3)) # since confusion matrix label is automatically sorted, sort the distinct label in train_labels to prepare x, y label for heatmap\n",
    "mat = confusion_matrix(y_test, labels3)\n",
    "plt.figure(figsize = (5, 5))\n",
    "ax = sns.heatmap(mat.T, square = True, annot = True, fmt = \"d\", cbar = False, xticklabels = sorted(set(test[\"Classification\"])), yticklabels = distinct_label)\n",
    "ax.set_ylim(len(distinct_label), 0) # since heatmap cut off numbers, we need to set up y limit \n",
    "\n",
    "plt.xlabel(\"True Label\")\n",
    "plt.ylabel(\"Predicted Label\");"
>>>>>>> Stashed changes
   ]
  },
  {
   "cell_type": "code",
<<<<<<< Updated upstream
   "execution_count": 10,
=======
   "execution_count": 195,
   "metadata": {},
   "outputs": [
    {
     "name": "stdout",
     "output_type": "stream",
     "text": [
      "Micro-average F1 scores: 0.927222\n",
      "Macro-average F1 scores: 0.927365\n"
     ]
    }
   ],
   "source": [
    "print(\"Micro-average F1 scores: \", end = \"\")\n",
    "print(np.round(f1_score(y_test, labels3, average = \"micro\"), 6))\n",
    "print(\"Macro-average F1 scores: \", end = \"\")\n",
    "print(np.round(f1_score(y_test, labels3, average = \"macro\"), 6))"
   ]
  },
  {
   "cell_type": "code",
   "execution_count": 200,
   "metadata": {},
   "outputs": [],
   "source": [
    "filename = 'model3.sav'\n",
    "pickle.dump(model3, open(filename, 'wb'))\n",
    " \n",
    "# some time later...\n",
    " \n",
    "# load the model from disk\n",
    "# loaded_model = pickle.load(open(filename, 'rb'))\n",
    "# result = loaded_model.score(X_test, Y_test)\n",
    "# print(result)"
   ]
  },
  {
   "cell_type": "markdown",
   "metadata": {},
   "source": [
    "## 3-2. MLPClassifier to build neural network model with 2 hidden layer"
   ]
  },
  {
   "cell_type": "code",
   "execution_count": 197,
   "metadata": {},
   "outputs": [
    {
     "name": "stdout",
     "output_type": "stream",
     "text": [
      "Iteration 1, loss = 0.46381920\n",
      "Iteration 2, loss = 0.06173417\n",
      "Iteration 3, loss = 0.01319994\n",
      "Iteration 4, loss = 0.00419660\n",
      "Iteration 5, loss = 0.00210598\n",
      "Iteration 6, loss = 0.00142580\n",
      "Iteration 7, loss = 0.00113915\n",
      "Iteration 8, loss = 0.00098584\n",
      "Iteration 9, loss = 0.00088457\n",
      "Iteration 10, loss = 0.00081891\n",
      "Iteration 11, loss = 0.00076302\n",
      "Iteration 12, loss = 0.00072064\n",
      "Iteration 13, loss = 0.00072091\n",
      "Iteration 14, loss = 0.00064289\n",
      "Iteration 15, loss = 0.00060859\n",
      "Iteration 16, loss = 0.00060698\n",
      "Iteration 17, loss = 0.00063246\n",
      "Iteration 18, loss = 0.00063253\n",
      "Iteration 19, loss = 0.00062355\n",
      "Iteration 20, loss = 0.00059698\n",
      "Training loss did not improve more than tol=0.000100 for 10 consecutive epochs. Stopping.\n"
     ]
    }
   ],
   "source": [
    "# model 4\n",
    "model4 = make_pipeline(TfidfVectorizer(), MLPClassifier(verbose = True, hidden_layer_sizes = (100, 100)))\n",
    "model4.fit(X_train, y_train) # fit the model\n",
    "labels4 = model4.predict(X_test) # predict the labels of test data"
   ]
  },
  {
   "cell_type": "code",
   "execution_count": 198,
>>>>>>> Stashed changes
   "metadata": {},
   "outputs": [
    {
     "data": {
<<<<<<< Updated upstream
      "image/png": "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\n",
=======
      "image/png": "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\n",
>>>>>>> Stashed changes
      "text/plain": [
       "<Figure size 360x360 with 1 Axes>"
      ]
     },
     "metadata": {},
     "output_type": "display_data"
    }
   ],
   "source": [
<<<<<<< Updated upstream
    "distinct_label = sorted(set(distinct_label)) # since confusion matrix label is automatically sorted, sort the distinct label in train_labels to prepare x, y label for heatmap\n",
    "mat = confusion_matrix(test[\"Classification\"], labels)\n",
    "plt.figure(figsize = (5, 5))\n",
    "ax = sns.heatmap(mat.T, square = True, annot = True, fmt = \"d\", cbar = False, xticklabels = distinct_label, yticklabels = distinct_label)\n",
=======
    "distinct_label = list(set(labels4)) # since confusion matrix label is automatically sorted, sort the distinct label in train_labels to prepare x, y label for heatmap\n",
    "mat = confusion_matrix(y_test, labels4)\n",
    "plt.figure(figsize = (5, 5))\n",
    "ax = sns.heatmap(mat.T, square = True, annot = True, fmt = \"d\", cbar = False, xticklabels = sorted(set(test[\"Classification\"])), yticklabels = distinct_label)\n",
>>>>>>> Stashed changes
    "ax.set_ylim(len(distinct_label), 0) # since heatmap cut off numbers, we need to set up y limit \n",
    "\n",
    "plt.xlabel(\"True Label\")\n",
    "plt.ylabel(\"Predicted Label\");"
   ]
  },
  {
   "cell_type": "code",
<<<<<<< Updated upstream
   "execution_count": 11,
=======
   "execution_count": 199,
>>>>>>> Stashed changes
   "metadata": {},
   "outputs": [
    {
     "name": "stdout",
     "output_type": "stream",
     "text": [
<<<<<<< Updated upstream
      "Micro-average F1 scores: 0.935697\n",
      "Macro-average F1 scores: 0.935057\n"
=======
      "Micro-average F1 scores: 0.926528\n",
      "Macro-average F1 scores: 0.926482\n"
>>>>>>> Stashed changes
     ]
    }
   ],
   "source": [
    "print(\"Micro-average F1 scores: \", end = \"\")\n",
<<<<<<< Updated upstream
    "print(np.round(f1_score(test[\"Classification\"], labels, average = \"micro\"), 6))\n",
    "print(\"Macro-average F1 scores: \", end = \"\")\n",
    "print(np.round(f1_score(test[\"Classification\"], labels, average = \"macro\"), 6))"
=======
    "print(np.round(f1_score(y_test, labels4, average = \"micro\"), 6))\n",
    "print(\"Macro-average F1 scores: \", end = \"\")\n",
    "print(np.round(f1_score(y_test, labels4, average = \"macro\"), 6))"
   ]
  },
  {
   "cell_type": "code",
   "execution_count": 201,
   "metadata": {},
   "outputs": [],
   "source": [
    "filename = 'model4.sav'\n",
    "pickle.dump(model4, open(filename, 'wb'))"
>>>>>>> Stashed changes
   ]
  },
  {
   "cell_type": "code",
   "execution_count": null,
   "metadata": {},
   "outputs": [],
   "source": []
  },
  {
   "cell_type": "markdown",
   "metadata": {},
   "source": [
    "## 5. Compute similarities between tweets using Fast Text word embedding"
   ]
  },
  {
   "cell_type": "code",
   "execution_count": 202,
   "metadata": {},
   "outputs": [],
   "source": [
    "#pip install gensim\n",
    "from gensim.test.utils import common_texts\n",
    "from gensim.models import Word2Vec\n",
    "from gensim.models import FastText"
   ]
  },
  {
   "cell_type": "code",
   "execution_count": 206,
   "metadata": {},
   "outputs": [],
   "source": [
    "model_ft = FastText(window = 3, min_count = 1, sentences = data['Text']) #100d word embedding\n",
    "wv = model_ft.wv"
   ]
  },
  {
   "cell_type": "code",
   "execution_count": 204,
   "metadata": {},
   "outputs": [],
   "source": [
    "from nltk.corpus import stopwords\n",
    "import string\n",
    "import numpy as np\n",
    "\n",
    "def calc_doc_embedding(doc, embeddings, embed_size) :\n",
    "    stopset = stopwords.words('english') + list(string.punctuation)\n",
    "    words = [w for w in doc.lower().split() if w not in stopset] # exclude word in stopset\n",
    "    word_cent = np.zeros(embed_size)\n",
    "    \n",
    "    count = 0\n",
    "    for word in words :\n",
    "        word_cent = word_cent + embeddings[word] \n",
    "        count = count + 1 # only count the word that is not stop words and not OOV\n",
    "\n",
    "    if count == 0 :\n",
    "        return None\n",
    "    \n",
    "    doc_embed = word_cent / count\n",
    "    return doc_embed # return value is np array "
   ]
  },
  {
   "cell_type": "code",
   "execution_count": 208,
   "metadata": {},
   "outputs": [],
   "source": [
    "filename = 'model_ft.sav'\n",
    "pickle.dump(model_ft, open(filename, 'wb'))"
   ]
  },
  {
   "cell_type": "code",
   "execution_count": null,
   "metadata": {},
   "outputs": [],
   "source": []
  }
 ],
 "metadata": {
  "kernelspec": {
   "display_name": "Python 3 (3.8)",
   "language": "python",
   "name": "python3"
  },
  "language_info": {
   "codemirror_mode": {
    "name": "ipython",
    "version": 3
   },
   "file_extension": ".py",
   "mimetype": "text/x-python",
   "name": "python",
   "nbconvert_exporter": "python",
   "pygments_lexer": "ipython3",
   "version": "3.8.2"
  }
 },
 "nbformat": 4,
 "nbformat_minor": 4
}
