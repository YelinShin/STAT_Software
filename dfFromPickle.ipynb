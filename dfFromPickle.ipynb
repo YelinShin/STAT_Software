{
 "cells": [
  {
   "cell_type": "code",
   "execution_count": 2,
   "metadata": {},
   "outputs": [],
   "source": [
    "import pandas as pd\n",
    "import pickle"
   ]
  },
  {
   "cell_type": "code",
   "execution_count": 8,
   "metadata": {},
   "outputs": [],
   "source": [
    "with open(\"covid.txt\", \"rb\") as handle : # read text file into dataframe\n",
    "  covid_df = pickle.loads(handle.read())\n",
    "with open(\"christmas.txt\", \"rb\") as handle : # read text file into dataframe\n",
    "  christmas_df = pickle.loads(handle.read())\n",
    "with open(\"spacex.txt\", \"rb\") as handle : # read text file into dataframe\n",
    "  spacex_df = pickle.loads(handle.read())\n",
    "\n",
    "data = pd.concat([covid_df, christmas_df, spacex_df], ignore_index=True)"
   ]
  },
  {
   "cell_type": "code",
   "execution_count": 15,
   "metadata": {},
   "outputs": [
    {
     "name": "stdout",
     "output_type": "stream",
     "text": [
      "Number of labels in train:\n",
      "24816\n",
      "Number of labels in test:\n",
      "6205\n"
     ]
    }
   ],
   "source": [
    "from sklearn.model_selection import train_test_split\n",
    "import random\n",
    "\n",
    "random.seed(123)\n",
    "train, test = train_test_split(data, test_size=0.2)\n",
    "print(\"Number of labels in train:\")\n",
    "print(train.shape[0])\n",
    "print(\"Number of labels in test:\")\n",
    "print(test.shape[0])"
   ]
  },
  {
   "cell_type": "code",
   "execution_count": 38,
   "metadata": {},
   "outputs": [
    {
     "data": {
      "text/html": [
       "<div>\n",
       "<style scoped>\n",
       "    .dataframe tbody tr th:only-of-type {\n",
       "        vertical-align: middle;\n",
       "    }\n",
       "\n",
       "    .dataframe tbody tr th {\n",
       "        vertical-align: top;\n",
       "    }\n",
       "\n",
       "    .dataframe thead th {\n",
       "        text-align: right;\n",
       "    }\n",
       "</style>\n",
       "<table border=\"1\" class=\"dataframe\">\n",
       "  <thead>\n",
       "    <tr style=\"text-align: right;\">\n",
       "      <th></th>\n",
       "      <th>Classification</th>\n",
       "      <th>Text</th>\n",
       "      <th>Hashtag</th>\n",
       "    </tr>\n",
       "  </thead>\n",
       "  <tbody>\n",
       "    <tr>\n",
       "      <th>23632</th>\n",
       "      <td>spacex</td>\n",
       "      <td>crew-1: one or more videos have been added. crew1</td>\n",
       "      <td>[spacextimemachine, crew1]</td>\n",
       "    </tr>\n",
       "    <tr>\n",
       "      <th>16687</th>\n",
       "      <td>christmas</td>\n",
       "      <td>good morning from @rabbithillpark 👋🏻 - and it’...</td>\n",
       "      <td>[]</td>\n",
       "    </tr>\n",
       "    <tr>\n",
       "      <th>15002</th>\n",
       "      <td>christmas</td>\n",
       "      <td>11 days until advent! fixated by @timchesterco...</td>\n",
       "      <td>[advent, fixated]</td>\n",
       "    </tr>\n",
       "    <tr>\n",
       "      <th>16476</th>\n",
       "      <td>christmas</td>\n",
       "      <td>at red butte - lucy maud montgomery navidad - ...</td>\n",
       "      <td>[navidad, aprenderingles, ingles, english, cur...</td>\n",
       "    </tr>\n",
       "    <tr>\n",
       "      <th>8254</th>\n",
       "      <td>covid</td>\n",
       "      <td>u.s. total cases and deaths sorted by: number ...</td>\n",
       "      <td>[coronavirus, covid_19, covid2019, covidー19, c...</td>\n",
       "    </tr>\n",
       "    <tr>\n",
       "      <th>25412</th>\n",
       "      <td>spacex</td>\n",
       "      <td>nasa crew-1 mission makes historic launch to t...</td>\n",
       "      <td>[nasa, iss]</td>\n",
       "    </tr>\n",
       "    <tr>\n",
       "      <th>18050</th>\n",
       "      <td>christmas</td>\n",
       "      <td>arena duos contender league - came second plac...</td>\n",
       "      <td>[fortnite, fortnitechapter2, fortniteseason11,...</td>\n",
       "    </tr>\n",
       "    <tr>\n",
       "      <th>28537</th>\n",
       "      <td>spacex</td>\n",
       "      <td>you can watch live nasa cam at this link. live...</td>\n",
       "      <td>[]</td>\n",
       "    </tr>\n",
       "    <tr>\n",
       "      <th>17988</th>\n",
       "      <td>christmas</td>\n",
       "      <td>i love the framed mini prints at society6 on s...</td>\n",
       "      <td>[society6, society6art, society6artist, artwor...</td>\n",
       "    </tr>\n",
       "    <tr>\n",
       "      <th>15390</th>\n",
       "      <td>christmas</td>\n",
       "      <td>love the hole idea of nanny nellie's panto tel...</td>\n",
       "      <td>[]</td>\n",
       "    </tr>\n",
       "  </tbody>\n",
       "</table>\n",
       "</div>"
      ],
      "text/plain": [
       "      Classification                                               Text  \\\n",
       "23632         spacex  crew-1: one or more videos have been added. crew1   \n",
       "16687      christmas  good morning from @rabbithillpark 👋🏻 - and it’...   \n",
       "15002      christmas  11 days until advent! fixated by @timchesterco...   \n",
       "16476      christmas  at red butte - lucy maud montgomery navidad - ...   \n",
       "8254           covid  u.s. total cases and deaths sorted by: number ...   \n",
       "25412         spacex  nasa crew-1 mission makes historic launch to t...   \n",
       "18050      christmas  arena duos contender league - came second plac...   \n",
       "28537         spacex  you can watch live nasa cam at this link. live...   \n",
       "17988      christmas  i love the framed mini prints at society6 on s...   \n",
       "15390      christmas  love the hole idea of nanny nellie's panto tel...   \n",
       "\n",
       "                                                 Hashtag  \n",
       "23632                         [spacextimemachine, crew1]  \n",
       "16687                                                 []  \n",
       "15002                                  [advent, fixated]  \n",
       "16476  [navidad, aprenderingles, ingles, english, cur...  \n",
       "8254   [coronavirus, covid_19, covid2019, covidー19, c...  \n",
       "25412                                        [nasa, iss]  \n",
       "18050  [fortnite, fortnitechapter2, fortniteseason11,...  \n",
       "28537                                                 []  \n",
       "17988  [society6, society6art, society6artist, artwor...  \n",
       "15390                                                 []  "
      ]
     },
     "execution_count": 38,
     "metadata": {},
     "output_type": "execute_result"
    }
   ],
   "source": [
    "train.head(10)"
   ]
  },
  {
   "cell_type": "code",
   "execution_count": 39,
   "metadata": {},
   "outputs": [
    {
     "data": {
      "text/html": [
       "<div>\n",
       "<style scoped>\n",
       "    .dataframe tbody tr th:only-of-type {\n",
       "        vertical-align: middle;\n",
       "    }\n",
       "\n",
       "    .dataframe tbody tr th {\n",
       "        vertical-align: top;\n",
       "    }\n",
       "\n",
       "    .dataframe thead th {\n",
       "        text-align: right;\n",
       "    }\n",
       "</style>\n",
       "<table border=\"1\" class=\"dataframe\">\n",
       "  <thead>\n",
       "    <tr style=\"text-align: right;\">\n",
       "      <th></th>\n",
       "      <th>Classification</th>\n",
       "      <th>Text</th>\n",
       "      <th>Hashtag</th>\n",
       "    </tr>\n",
       "  </thead>\n",
       "  <tbody>\n",
       "    <tr>\n",
       "      <th>3017</th>\n",
       "      <td>covid</td>\n",
       "      <td>districtwest ensures to do regular and enough ...</td>\n",
       "      <td>[districtwest, covid_19, tested, nocost, sympt...</td>\n",
       "    </tr>\n",
       "    <tr>\n",
       "      <th>7897</th>\n",
       "      <td>covid</td>\n",
       "      <td>naomi has been interviewed by @bbcradiolincs a...</td>\n",
       "      <td>[loneliness]</td>\n",
       "    </tr>\n",
       "    <tr>\n",
       "      <th>30196</th>\n",
       "      <td>spacex</td>\n",
       "      <td>enough with @realdonaldtrump or @joebiden bein...</td>\n",
       "      <td>[election2020, spaceforce]</td>\n",
       "    </tr>\n",
       "    <tr>\n",
       "      <th>273</th>\n",
       "      <td>covid</td>\n",
       "      <td>participants shared findings on virus mutation...</td>\n",
       "      <td>[chinesetraditionalmedicine, china, uk]</td>\n",
       "    </tr>\n",
       "    <tr>\n",
       "      <th>6199</th>\n",
       "      <td>covid</td>\n",
       "      <td>remember hydrocloroquine works, but politician...</td>\n",
       "      <td>[politics]</td>\n",
       "    </tr>\n",
       "    <tr>\n",
       "      <th>6880</th>\n",
       "      <td>covid</td>\n",
       "      <td>my little crony - a visualization of the conne...</td>\n",
       "      <td>[governance, corruption]</td>\n",
       "    </tr>\n",
       "    <tr>\n",
       "      <th>7228</th>\n",
       "      <td>covid</td>\n",
       "      <td>@devisridhar oh that's nothing @devisridhar. e...</td>\n",
       "      <td>[]</td>\n",
       "    </tr>\n",
       "    <tr>\n",
       "      <th>5212</th>\n",
       "      <td>covid</td>\n",
       "      <td>@pfizer launches vaccine delivery trial in fou...</td>\n",
       "      <td>[]</td>\n",
       "    </tr>\n",
       "    <tr>\n",
       "      <th>5875</th>\n",
       "      <td>covid</td>\n",
       "      <td>the ministry of labour, training and skills de...</td>\n",
       "      <td>[online, information, employmentstandards, hea...</td>\n",
       "    </tr>\n",
       "    <tr>\n",
       "      <th>143</th>\n",
       "      <td>covid</td>\n",
       "      <td>this is catchy and humorous, but is no joke. d...</td>\n",
       "      <td>[]</td>\n",
       "    </tr>\n",
       "  </tbody>\n",
       "</table>\n",
       "</div>"
      ],
      "text/plain": [
       "      Classification                                               Text  \\\n",
       "3017           covid  districtwest ensures to do regular and enough ...   \n",
       "7897           covid  naomi has been interviewed by @bbcradiolincs a...   \n",
       "30196         spacex  enough with @realdonaldtrump or @joebiden bein...   \n",
       "273            covid  participants shared findings on virus mutation...   \n",
       "6199           covid  remember hydrocloroquine works, but politician...   \n",
       "6880           covid  my little crony - a visualization of the conne...   \n",
       "7228           covid  @devisridhar oh that's nothing @devisridhar. e...   \n",
       "5212           covid  @pfizer launches vaccine delivery trial in fou...   \n",
       "5875           covid  the ministry of labour, training and skills de...   \n",
       "143            covid  this is catchy and humorous, but is no joke. d...   \n",
       "\n",
       "                                                 Hashtag  \n",
       "3017   [districtwest, covid_19, tested, nocost, sympt...  \n",
       "7897                                        [loneliness]  \n",
       "30196                         [election2020, spaceforce]  \n",
       "273              [chinesetraditionalmedicine, china, uk]  \n",
       "6199                                          [politics]  \n",
       "6880                            [governance, corruption]  \n",
       "7228                                                  []  \n",
       "5212                                                  []  \n",
       "5875   [online, information, employmentstandards, hea...  \n",
       "143                                                   []  "
      ]
     },
     "execution_count": 39,
     "metadata": {},
     "output_type": "execute_result"
    }
   ],
   "source": [
    "test.head(10)"
   ]
  },
  {
   "cell_type": "markdown",
   "metadata": {},
   "source": [
    "Naive Bayes model of product reviews using Python's scikit-learn package"
   ]
  },
  {
   "cell_type": "code",
   "execution_count": 33,
   "metadata": {},
   "outputs": [],
   "source": [
    "from sklearn.feature_extraction.text import TfidfVectorizer\n",
    "from sklearn.naive_bayes import MultinomialNB\n",
    "from sklearn.pipeline import make_pipeline\n",
    "import numpy as np\n",
    "import matplotlib.pyplot as plt\n",
    "#pip install seaborn\n",
    "import seaborn as sns; sns.set() \n",
    "from sklearn.metrics import confusion_matrix\n",
    "from sklearn.metrics import f1_score"
   ]
  },
  {
   "cell_type": "code",
   "execution_count": 29,
   "metadata": {},
   "outputs": [],
   "source": [
    "model = make_pipeline(TfidfVectorizer(), MultinomialNB())\n",
    "\n",
    "model.fit(train['Text'], train['Classification'])\n",
    "labels = model.predict(test['Text'])"
   ]
  },
  {
   "cell_type": "code",
   "execution_count": 30,
   "metadata": {},
   "outputs": [
    {
     "data": {
      "image/png": "[encoded data removed]",
      "text/plain": [
       "<Figure size 360x360 with 1 Axes>"
      ]
     },
     "metadata": {},
     "output_type": "display_data"
    }
   ],
   "source": [
    "distinct_label = sorted(set(train['Classification'])) #since confusion matrix label is automatically sorted, sort the distinct label in train_labels to prepare x,y label for heatmap\n",
    "mat = confusion_matrix(test['Classification'], labels)\n",
    "plt.figure(figsize=(5,5))\n",
    "ax = sns.heatmap(mat.T, square=True, annot=True, fmt='d', cbar=False,\n",
    "            xticklabels=distinct_label, yticklabels=distinct_label)\n",
    "bottom, top = ax.get_ylim()\n",
    "ax.set_ylim(bottom + 0.5, top - 0.5) #since heatmap cut off numbers, we need to set larger y limit to locate number on center\n",
    "plt.xlabel('true label')\n",
    "plt.ylabel('predicted label');"
   ]
  },
  {
   "cell_type": "code",
   "execution_count": 37,
   "metadata": {},
   "outputs": [
    {
     "name": "stdout",
     "output_type": "stream",
     "text": [
      "Microaveraged F1 scores:\n",
      "0.9294117647058824\n",
      "Macroaveraged F1 scores:\n",
      "0.9290906290191528\n"
     ]
    }
   ],
   "source": [
    "print(\"Microaveraged F1 scores:\")\n",
    "print(f1_score(test['Classification'], labels, average='micro'))\n",
    "print(\"Macroaveraged F1 scores:\")\n",
    "print(f1_score(test['Classification'], labels, average='macro'))"
   ]
  },
  {
   "cell_type": "code",
   "execution_count": null,
   "metadata": {},
   "outputs": [],
   "source": []
  }
 ],
 "metadata": {
  "kernelspec": {
   "display_name": "Spark 3 in Python 3 (3.8)",
   "language": "python",
   "name": "pyspark3"
  },
  "language_info": {
   "codemirror_mode": {
    "name": "ipython",
    "version": 3
   },
   "file_extension": ".py",
   "mimetype": "text/x-python",
   "name": "python",
   "nbconvert_exporter": "python",
   "pygments_lexer": "ipython3",
   "version": "3.8.2"
  }
 },
 "nbformat": 4,
 "nbformat_minor": 4
}
