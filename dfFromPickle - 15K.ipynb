{
 "cells": [
  {
   "cell_type": "markdown",
   "metadata": {},
   "source": [
    "## 1. Data Preprocessing"
   ]
  },
  {
   "cell_type": "code",
   "execution_count": 39,
   "metadata": {},
   "outputs": [],
   "source": [
    "import pandas as pd\n",
    "import pickle\n",
    "import numpy as np\n",
    "import re\n",
    "from nltk.corpus import stopwords\n",
    "import string"
   ]
  },
  {
   "cell_type": "code",
   "execution_count": 40,
   "metadata": {},
   "outputs": [],
   "source": [
    "with open(\"covid.txt\", \"rb\") as handle : # read text file into dataframe\n",
    "    covid_df = pickle.loads(handle.read())\n",
    "with open(\"christmas.txt\", \"rb\") as handle : # read text file into dataframe\n",
    "    christmas_df = pickle.loads(handle.read())\n",
    "with open(\"spacex.txt\", \"rb\") as handle : # read text file into dataframe\n",
    "    spacex_df = pickle.loads(handle.read())"
   ]
  },
  {
   "cell_type": "code",
   "execution_count": 41,
   "metadata": {},
   "outputs": [],
   "source": [
    "spacex_df = spacex_df.sample(n = 500) \n",
    "christmas_df = christmas_df.sample(n = 500) \n",
    "covid_df = covid_df.sample(n = 500) "
   ]
  },
  {
   "cell_type": "code",
   "execution_count": 42,
   "metadata": {},
   "outputs": [],
   "source": [
    "data = pd.concat([covid_df, christmas_df, spacex_df], ignore_index = True)"
   ]
  },
  {
   "cell_type": "code",
   "execution_count": 43,
   "metadata": {},
   "outputs": [
    {
     "name": "stdout",
     "output_type": "stream",
     "text": [
      "Number of labels in train: 1200\n",
      "Number of labels in test: 300\n"
     ]
    }
   ],
   "source": [
    "from sklearn.model_selection import train_test_split\n",
    "import random\n",
    "\n",
    "train, test = train_test_split(data, test_size = 0.2)\n",
    "# train.to_pickle(\"train.pkl\")\n",
    "# test.to_pickle(\"test.pkl\")\n",
    "\n",
    "#train = pd.read_pickle(\"train.pkl\")\n",
    "#test = pd.read_pickle(\"test.pkl\")\n",
    "\n",
    "print(\"Number of labels in train: \", end = \"\")\n",
    "print(train.shape[0])\n",
    "print(\"Number of labels in test: \", end = \"\")\n",
    "print(test.shape[0])"
   ]
  },
  {
   "cell_type": "code",
   "execution_count": 44,
   "metadata": {},
   "outputs": [
    {
     "name": "stderr",
     "output_type": "stream",
     "text": [
      "<ipython-input-44-b34948e8a87f>:3: SettingWithCopyWarning: \n",
      "A value is trying to be set on a copy of a slice from a DataFrame.\n",
      "Try using .loc[row_indexer,col_indexer] = value instead\n",
      "\n",
      "See the caveats in the documentation: https://pandas.pydata.org/pandas-docs/stable/user_guide/indexing.html#returning-a-view-versus-a-copy\n",
      "  train['Text'] = train['Text'].apply(lambda x: ' '.join([word for word in x.split() if word not in (stop_set)]))\n",
      "<ipython-input-44-b34948e8a87f>:4: SettingWithCopyWarning: \n",
      "A value is trying to be set on a copy of a slice from a DataFrame.\n",
      "Try using .loc[row_indexer,col_indexer] = value instead\n",
      "\n",
      "See the caveats in the documentation: https://pandas.pydata.org/pandas-docs/stable/user_guide/indexing.html#returning-a-view-versus-a-copy\n",
      "  test['Text'] = test['Text'].apply(lambda x: ' '.join([word for word in x.split() if word not in (stop_set)]))\n"
     ]
    }
   ],
   "source": [
    "# remove stop words from tweet\n",
    "stop_set = stopwords.words('english') + list(string.punctuation)\n",
    "train['Text'] = train['Text'].apply(lambda x: ' '.join([word for word in x.split() if word not in (stop_set)]))\n",
    "test['Text'] = test['Text'].apply(lambda x: ' '.join([word for word in x.split() if word not in (stop_set)]))"
   ]
  },
  {
   "cell_type": "code",
   "execution_count": 45,
   "metadata": {},
   "outputs": [
    {
     "data": {
      "text/html": [
       "<div>\n",
       "<style scoped>\n",
       "    .dataframe tbody tr th:only-of-type {\n",
       "        vertical-align: middle;\n",
       "    }\n",
       "\n",
       "    .dataframe tbody tr th {\n",
       "        vertical-align: top;\n",
       "    }\n",
       "\n",
       "    .dataframe thead th {\n",
       "        text-align: right;\n",
       "    }\n",
       "</style>\n",
       "<table border=\"1\" class=\"dataframe\">\n",
       "  <thead>\n",
       "    <tr style=\"text-align: right;\">\n",
       "      <th></th>\n",
       "      <th>Classification</th>\n",
       "      <th>Text</th>\n",
       "      <th>Hashtag</th>\n",
       "    </tr>\n",
       "  </thead>\n",
       "  <tbody>\n",
       "    <tr>\n",
       "      <th>919</th>\n",
       "      <td>christmas</td>\n",
       "      <td>new tradition wizard wizardry christian darkac...</td>\n",
       "      <td>[wizard, wizardry, christmascountdown2020, chr...</td>\n",
       "    </tr>\n",
       "    <tr>\n",
       "      <th>1231</th>\n",
       "      <td>spacex</td>\n",
       "      <td>hail mary hop kevin hayes russ herewego steele...</td>\n",
       "      <td>[herewego, steelersvsbengals, steelers, bengal...</td>\n",
       "    </tr>\n",
       "    <tr>\n",
       "      <th>571</th>\n",
       "      <td>christmas</td>\n",
       "      <td>competition time wants win bottle mince pie gi...</td>\n",
       "      <td>[competition, mincepie, gin, liqueur]</td>\n",
       "    </tr>\n",
       "    <tr>\n",
       "      <th>840</th>\n",
       "      <td>christmas</td>\n",
       "      <td>looking ideas fun wood slice ornaments painted...</td>\n",
       "      <td>[ad, diy, tuesdaythoughts, tuesdayvibes, ideas]</td>\n",
       "    </tr>\n",
       "    <tr>\n",
       "      <th>878</th>\n",
       "      <td>christmas</td>\n",
       "      <td>legendary aretha franklin queen soul hand sign...</td>\n",
       "      <td>[giftideas, memorabilia, christmas2020]</td>\n",
       "    </tr>\n",
       "    <tr>\n",
       "      <th>1488</th>\n",
       "      <td>spacex</td>\n",
       "      <td>i'm saying prayer right</td>\n",
       "      <td>[]</td>\n",
       "    </tr>\n",
       "    <tr>\n",
       "      <th>719</th>\n",
       "      <td>christmas</td>\n",
       "      <td>dove men care trio gifts set gift men teenager...</td>\n",
       "      <td>[]</td>\n",
       "    </tr>\n",
       "    <tr>\n",
       "      <th>779</th>\n",
       "      <td>christmas</td>\n",
       "      <td>days new design bamboo breadboard available py...</td>\n",
       "      <td>[pyrography, christmasiscoming, christmasgifts]</td>\n",
       "    </tr>\n",
       "    <tr>\n",
       "      <th>393</th>\n",
       "      <td>covid</td>\n",
       "      <td>act urged safe summer ahead restrictions easin...</td>\n",
       "      <td>[coronavirus, covid19, coronainfoch, corona, c...</td>\n",
       "    </tr>\n",
       "    <tr>\n",
       "      <th>738</th>\n",
       "      <td>christmas</td>\n",
       "      <td>also corktoday chat man eats chilis porridge e...</td>\n",
       "      <td>[corktoday, covid, northcork, fermoy]</td>\n",
       "    </tr>\n",
       "  </tbody>\n",
       "</table>\n",
       "</div>"
      ],
      "text/plain": [
       "     Classification                                               Text  \\\n",
       "919       christmas  new tradition wizard wizardry christian darkac...   \n",
       "1231         spacex  hail mary hop kevin hayes russ herewego steele...   \n",
       "571       christmas  competition time wants win bottle mince pie gi...   \n",
       "840       christmas  looking ideas fun wood slice ornaments painted...   \n",
       "878       christmas  legendary aretha franklin queen soul hand sign...   \n",
       "1488         spacex                            i'm saying prayer right   \n",
       "719       christmas  dove men care trio gifts set gift men teenager...   \n",
       "779       christmas  days new design bamboo breadboard available py...   \n",
       "393           covid  act urged safe summer ahead restrictions easin...   \n",
       "738       christmas  also corktoday chat man eats chilis porridge e...   \n",
       "\n",
       "                                                Hashtag  \n",
       "919   [wizard, wizardry, christmascountdown2020, chr...  \n",
       "1231  [herewego, steelersvsbengals, steelers, bengal...  \n",
       "571               [competition, mincepie, gin, liqueur]  \n",
       "840     [ad, diy, tuesdaythoughts, tuesdayvibes, ideas]  \n",
       "878             [giftideas, memorabilia, christmas2020]  \n",
       "1488                                                 []  \n",
       "719                                                  []  \n",
       "779     [pyrography, christmasiscoming, christmasgifts]  \n",
       "393   [coronavirus, covid19, coronainfoch, corona, c...  \n",
       "738               [corktoday, covid, northcork, fermoy]  "
      ]
     },
     "execution_count": 45,
     "metadata": {},
     "output_type": "execute_result"
    }
   ],
   "source": [
    "train.head(10)"
   ]
  },
  {
   "cell_type": "code",
   "execution_count": 46,
   "metadata": {},
   "outputs": [
    {
     "data": {
      "text/html": [
       "<div>\n",
       "<style scoped>\n",
       "    .dataframe tbody tr th:only-of-type {\n",
       "        vertical-align: middle;\n",
       "    }\n",
       "\n",
       "    .dataframe tbody tr th {\n",
       "        vertical-align: top;\n",
       "    }\n",
       "\n",
       "    .dataframe thead th {\n",
       "        text-align: right;\n",
       "    }\n",
       "</style>\n",
       "<table border=\"1\" class=\"dataframe\">\n",
       "  <thead>\n",
       "    <tr style=\"text-align: right;\">\n",
       "      <th></th>\n",
       "      <th>Classification</th>\n",
       "      <th>Text</th>\n",
       "      <th>Hashtag</th>\n",
       "    </tr>\n",
       "  </thead>\n",
       "  <tbody>\n",
       "    <tr>\n",
       "      <th>1218</th>\n",
       "      <td>spacex</td>\n",
       "      <td>decided watch premiere new show theastronauts ...</td>\n",
       "      <td>[theastronauts, spacecases, spacecampalumni]</td>\n",
       "    </tr>\n",
       "    <tr>\n",
       "      <th>58</th>\n",
       "      <td>covid</td>\n",
       "      <td>flu season way infections rise among older vul...</td>\n",
       "      <td>[]</td>\n",
       "    </tr>\n",
       "    <tr>\n",
       "      <th>614</th>\n",
       "      <td>christmas</td>\n",
       "      <td>there's mystery gift scoobydoo scooby pals plu...</td>\n",
       "      <td>[scoobydoo, scooby, ftctoys]</td>\n",
       "    </tr>\n",
       "    <tr>\n",
       "      <th>1322</th>\n",
       "      <td>spacex</td>\n",
       "      <td>godspeed nasa resilience</td>\n",
       "      <td>[nasa, resilience]</td>\n",
       "    </tr>\n",
       "    <tr>\n",
       "      <th>353</th>\n",
       "      <td>covid</td>\n",
       "      <td>unravelled disparities amp inequalities faced ...</td>\n",
       "      <td>[inequalities, bme, edi, bame, nhs]</td>\n",
       "    </tr>\n",
       "    <tr>\n",
       "      <th>37</th>\n",
       "      <td>covid</td>\n",
       "      <td>major effect also overworked staff increased s...</td>\n",
       "      <td>[overworked, staff, stress, disengagement, emp...</td>\n",
       "    </tr>\n",
       "    <tr>\n",
       "      <th>520</th>\n",
       "      <td>christmas</td>\n",
       "      <td>everyone seen new shop new merch listed regula...</td>\n",
       "      <td>[merch, f1]</td>\n",
       "    </tr>\n",
       "    <tr>\n",
       "      <th>11</th>\n",
       "      <td>covid</td>\n",
       "      <td>cancellation tco gdznfhginm tco bcgcgsllv foll...</td>\n",
       "      <td>[]</td>\n",
       "    </tr>\n",
       "    <tr>\n",
       "      <th>1364</th>\n",
       "      <td>spacex</td>\n",
       "      <td>launch seen st pete fl tco hprvwjnaz</td>\n",
       "      <td>[]</td>\n",
       "    </tr>\n",
       "    <tr>\n",
       "      <th>232</th>\n",
       "      <td>covid</td>\n",
       "      <td>grim milestone today dead even take thanksgivi...</td>\n",
       "      <td>[wearadamnmask, wearadamnmask]</td>\n",
       "    </tr>\n",
       "  </tbody>\n",
       "</table>\n",
       "</div>"
      ],
      "text/plain": [
       "     Classification                                               Text  \\\n",
       "1218         spacex  decided watch premiere new show theastronauts ...   \n",
       "58            covid  flu season way infections rise among older vul...   \n",
       "614       christmas  there's mystery gift scoobydoo scooby pals plu...   \n",
       "1322         spacex                           godspeed nasa resilience   \n",
       "353           covid  unravelled disparities amp inequalities faced ...   \n",
       "37            covid  major effect also overworked staff increased s...   \n",
       "520       christmas  everyone seen new shop new merch listed regula...   \n",
       "11            covid  cancellation tco gdznfhginm tco bcgcgsllv foll...   \n",
       "1364         spacex               launch seen st pete fl tco hprvwjnaz   \n",
       "232           covid  grim milestone today dead even take thanksgivi...   \n",
       "\n",
       "                                                Hashtag  \n",
       "1218       [theastronauts, spacecases, spacecampalumni]  \n",
       "58                                                   []  \n",
       "614                        [scoobydoo, scooby, ftctoys]  \n",
       "1322                                 [nasa, resilience]  \n",
       "353                 [inequalities, bme, edi, bame, nhs]  \n",
       "37    [overworked, staff, stress, disengagement, emp...  \n",
       "520                                         [merch, f1]  \n",
       "11                                                   []  \n",
       "1364                                                 []  \n",
       "232                      [wearadamnmask, wearadamnmask]  "
      ]
     },
     "execution_count": 46,
     "metadata": {},
     "output_type": "execute_result"
    }
   ],
   "source": [
    "test.head(10)"
   ]
  },
  {
   "cell_type": "markdown",
   "metadata": {},
   "source": [
    "## 2. Naive Bayes model using Python's scikit-learn package"
   ]
  },
  {
   "cell_type": "code",
   "execution_count": 47,
   "metadata": {},
   "outputs": [],
   "source": [
    "from sklearn.feature_extraction.text import TfidfVectorizer\n",
    "from sklearn.naive_bayes import MultinomialNB\n",
    "from sklearn.pipeline import make_pipeline\n",
    "import matplotlib.pyplot as plt\n",
    "#pip install seaborn\n",
    "import seaborn as sns; sns.set() \n",
    "from sklearn.metrics import confusion_matrix\n",
    "from sklearn.metrics import f1_score"
   ]
  },
  {
   "cell_type": "code",
   "execution_count": 48,
   "metadata": {},
   "outputs": [],
   "source": [
    "model_byes = make_pipeline(TfidfVectorizer(), MultinomialNB())\n",
    "model_byes.fit(train[\"Text\"], train[\"Classification\"]) # fit the model\n",
    "labels = model_byes.predict(test[\"Text\"]) # predict the hashtag of the test data\n",
    "train_labels = model_byes.predict(train[\"Text\"])"
   ]
  },
  {
   "cell_type": "code",
   "execution_count": 49,
   "metadata": {},
   "outputs": [
    {
     "name": "stdout",
     "output_type": "stream",
     "text": [
      "Micro-average F1 scores: 0.89\n",
      "Macro-average F1 scores: 0.890468\n"
     ]
    },
    {
     "data": {
      "image/png": "[encoded data removed]",
      "text/plain": [
       "<Figure size 360x360 with 1 Axes>"
      ]
     },
     "metadata": {},
     "output_type": "display_data"
    }
   ],
   "source": [
    "# confusion matrix for test set\n",
    "distinct_label = sorted(set(test[\"Classification\"])) # since confusion matrix label is automatically sorted, sort the distinct label in train_labels to prepare x, y label for heatmap\n",
    "mat = confusion_matrix(test[\"Classification\"], labels)\n",
    "plt.figure(figsize = (5, 5))\n",
    "ax = sns.heatmap(mat.T, square = True, annot = True, fmt = \"d\", cbar = False, xticklabels = distinct_label, yticklabels = distinct_label)\n",
    "ax.set_ylim(len(distinct_label), 0) # since heatmap cut off numbers, we need to set up y limit \n",
    "\n",
    "plt.xlabel(\"True Label\")\n",
    "plt.ylabel(\"Predicted Label\");\n",
    "\n",
    "print(\"Micro-average F1 scores: \", end = \"\")\n",
    "print(np.round(f1_score(test[\"Classification\"], labels, average = \"micro\"), 6))\n",
    "print(\"Macro-average F1 scores: \", end = \"\")\n",
    "print(np.round(f1_score(test[\"Classification\"], labels, average = \"macro\"), 6))"
   ]
  },
  {
   "cell_type": "code",
   "execution_count": 50,
   "metadata": {},
   "outputs": [
    {
     "name": "stdout",
     "output_type": "stream",
     "text": [
      "Micro-average F1 scores: 0.996667\n",
      "Macro-average F1 scores: 0.996665\n"
     ]
    }
   ],
   "source": [
    "# Training set error\n",
    "print(\"Micro-average F1 scores: \", end = \"\")\n",
    "print(np.round(f1_score(train[\"Classification\"], train_labels, average = \"micro\"), 6))\n",
    "print(\"Macro-average F1 scores: \", end = \"\")\n",
    "print(np.round(f1_score(train[\"Classification\"], train_labels, average = \"macro\"), 6))"
   ]
  },
  {
   "cell_type": "code",
   "execution_count": null,
   "metadata": {},
   "outputs": [],
   "source": []
  },
  {
   "cell_type": "markdown",
   "metadata": {},
   "source": [
    "## 3-1. MLPClassifier to build neural network model with 2 hidden layer"
   ]
  },
  {
   "cell_type": "code",
   "execution_count": 51,
   "metadata": {},
   "outputs": [],
   "source": [
    "%matplotlib inline\n",
    "import numpy as np\n",
    "import matplotlib.pyplot as plt\n",
    "from gensim.test.utils import datapath, get_tmpfile\n",
    "from gensim.models import KeyedVectors\n",
    "from gensim.scripts.glove2word2vec import glove2word2vec\n",
    "from sklearn.model_selection import train_test_split\n",
    "from sklearn.neural_network import MLPClassifier\n",
    "from sklearn.datasets import make_classification\n",
    "from sklearn.feature_extraction.text import TfidfVectorizer\n",
    "from sklearn.pipeline import make_pipeline\n",
    "from sklearn.metrics import accuracy_score\n",
    "import matplotlib.pyplot as plt"
   ]
  },
  {
   "cell_type": "code",
   "execution_count": 52,
   "metadata": {},
   "outputs": [],
   "source": [
    "X_train, X_test, y_train, y_test = train['Text'], test['Text'], train['Classification'], test['Classification']"
   ]
  },
  {
   "cell_type": "code",
   "execution_count": 53,
   "metadata": {},
   "outputs": [],
   "source": [
    "vectorizer = TfidfVectorizer()"
   ]
  },
  {
   "cell_type": "code",
   "execution_count": 54,
   "metadata": {},
   "outputs": [],
   "source": [
    "# reload model without fit again\n",
    "model3_1 = pickle.load(open('model3_1.sav', 'rb'))"
   ]
  },
  {
   "cell_type": "code",
   "execution_count": 55,
   "metadata": {},
   "outputs": [
    {
     "name": "stdout",
     "output_type": "stream",
     "text": [
      "Iteration 1, loss = 1.09467128\n",
      "Validation score: 0.358333\n",
      "Iteration 2, loss = 1.05077384\n",
      "Validation score: 0.708333\n",
      "Iteration 3, loss = 0.98397012\n",
      "Validation score: 0.816667\n",
      "Iteration 4, loss = 0.88020993\n",
      "Validation score: 0.833333\n",
      "Iteration 5, loss = 0.73961149\n",
      "Validation score: 0.825000\n",
      "Iteration 6, loss = 0.57763882\n",
      "Validation score: 0.825000\n",
      "Iteration 7, loss = 0.41184216\n",
      "Validation score: 0.833333\n",
      "Iteration 8, loss = 0.26363033\n",
      "Validation score: 0.841667\n",
      "Iteration 9, loss = 0.15372435\n",
      "Validation score: 0.841667\n",
      "Iteration 10, loss = 0.08550376\n",
      "Validation score: 0.833333\n",
      "Iteration 11, loss = 0.04823934\n",
      "Validation score: 0.833333\n",
      "Iteration 12, loss = 0.02874191\n",
      "Validation score: 0.841667\n",
      "Iteration 13, loss = 0.01876682\n",
      "Validation score: 0.833333\n",
      "Iteration 14, loss = 0.01328507\n",
      "Validation score: 0.825000\n",
      "Iteration 15, loss = 0.00989987\n",
      "Validation score: 0.825000\n",
      "Iteration 16, loss = 0.00787449\n",
      "Validation score: 0.825000\n",
      "Iteration 17, loss = 0.00644067\n",
      "Validation score: 0.825000\n",
      "Iteration 18, loss = 0.00548483\n",
      "Validation score: 0.833333\n",
      "Iteration 19, loss = 0.00473031\n",
      "Validation score: 0.833333\n",
      "Validation score did not improve more than tol=0.000100 for 10 consecutive epochs. Stopping.\n",
      "accuracy score = 0.88\n"
     ]
    },
    {
     "data": {
      "image/png": "[encoded data removed]",
      "text/plain": [
       "<Figure size 432x288 with 1 Axes>"
      ]
     },
     "metadata": {
      "needs_background": "light"
     },
     "output_type": "display_data"
    }
   ],
   "source": [
    "# comment out this two lines when loading model from pickle\n",
    "model3_1 = MLPClassifier(early_stopping = True, verbose = True, hidden_layer_sizes = (100, 100))\n",
    "model3_1.fit(vectorizer.fit_transform(X_train), y_train)\n",
    "\n",
    "label3_1 = model3_1.predict(vectorizer.transform(X_test))\n",
    "label3_1_train = model3_1.predict(vectorizer.transform(X_train))\n",
    "test_acc = accuracy_score(y_test, label3_1)\n",
    "loss_values = model3_1.loss_curve_\n",
    "valid_values = model3_1.validation_scores_\n",
    "\n",
    "print(\"accuracy score = \" + str(test_acc))\n",
    "plt.plot(loss_values,'-b', label = 'loss')\n",
    "plt.plot(valid_values,'-r', label = 'validation score')\n",
    "plt.legend(bbox_to_anchor = (1.05, 1.0), loc = 'upper left')\n",
    "plt.show()"
   ]
  },
  {
   "cell_type": "code",
   "execution_count": 56,
   "metadata": {},
   "outputs": [
    {
     "name": "stdout",
     "output_type": "stream",
     "text": [
      "Micro-average F1 scores: 0.88\n",
      "Macro-average F1 scores: 0.880865\n"
     ]
    },
    {
     "data": {
      "image/png": "[encoded data removed]",
      "text/plain": [
       "<Figure size 360x360 with 1 Axes>"
      ]
     },
     "metadata": {
      "needs_background": "light"
     },
     "output_type": "display_data"
    }
   ],
   "source": [
    "distinct_label = list(set(label3_1)) # since confusion matrix label is automatically sorted, sort the distinct label in train_labels to prepare x, y label for heatmap\n",
    "mat = confusion_matrix(y_test, label3_1)\n",
    "plt.figure(figsize = (5, 5))\n",
    "ax = sns.heatmap(mat.T, square = True, annot = True, fmt = \"d\", cbar = False, xticklabels = sorted(set(test[\"Classification\"])), yticklabels = distinct_label)\n",
    "ax.set_ylim(len(distinct_label), 0) # since heatmap cut off numbers, we need to set up y limit \n",
    "\n",
    "plt.xlabel(\"True Label\")\n",
    "plt.ylabel(\"Predicted Label\");\n",
    "\n",
    "print(\"Micro-average F1 scores: \", end = \"\")\n",
    "print(np.round(f1_score(y_test, label3_1, average = \"micro\"), 6))\n",
    "print(\"Macro-average F1 scores: \", end = \"\")\n",
    "print(np.round(f1_score(y_test, label3_1, average = \"macro\"), 6))"
   ]
  },
  {
   "cell_type": "code",
   "execution_count": 57,
   "metadata": {},
   "outputs": [
    {
     "name": "stdout",
     "output_type": "stream",
     "text": [
      "Micro-average F1 scores: 0.983333\n",
      "Macro-average F1 scores: 0.983322\n"
     ]
    }
   ],
   "source": [
    "# Training set score\n",
    "print(\"Micro-average F1 scores: \", end = \"\")\n",
    "print(np.round(f1_score(y_train, label3_1_train, average = \"micro\"), 6))\n",
    "print(\"Macro-average F1 scores: \", end = \"\")\n",
    "print(np.round(f1_score(y_train, label3_1_train, average = \"macro\"), 6))"
   ]
  },
  {
   "cell_type": "code",
   "execution_count": 38,
   "metadata": {},
   "outputs": [],
   "source": [
    "# save model into file so we don't need to fit everytime\n",
    "filename = 'model3_1.sav'\n",
    "pickle.dump(model3_1, open(filename, 'wb'))\n"
   ]
  },
  {
   "cell_type": "markdown",
   "metadata": {},
   "source": [
    "## 3-2. 3-1 + higher alpha"
   ]
  },
  {
   "cell_type": "code",
   "execution_count": 11,
   "metadata": {
    "collapsed": true
   },
   "outputs": [
    {
     "ename": "FileNotFoundError",
     "evalue": "[Errno 2] No such file or directory: 'model3_2.sav'",
     "output_type": "error",
     "traceback": [
      "\u001b[1;31m---------------------------------------------------------------------------\u001b[0m",
      "\u001b[1;31mFileNotFoundError\u001b[0m                         Traceback (most recent call last)",
      "\u001b[1;32m<ipython-input-11-beb98fde1088>\u001b[0m in \u001b[0;36m<module>\u001b[1;34m\u001b[0m\n\u001b[0;32m      1\u001b[0m \u001b[1;31m#load model\u001b[0m\u001b[1;33m\u001b[0m\u001b[1;33m\u001b[0m\u001b[1;33m\u001b[0m\u001b[0m\n\u001b[1;32m----> 2\u001b[1;33m \u001b[0mmodel3_2\u001b[0m \u001b[1;33m=\u001b[0m \u001b[0mpickle\u001b[0m\u001b[1;33m.\u001b[0m\u001b[0mload\u001b[0m\u001b[1;33m(\u001b[0m\u001b[0mopen\u001b[0m\u001b[1;33m(\u001b[0m\u001b[1;34m'model3_2.sav'\u001b[0m\u001b[1;33m,\u001b[0m \u001b[1;34m'rb'\u001b[0m\u001b[1;33m)\u001b[0m\u001b[1;33m)\u001b[0m\u001b[1;33m\u001b[0m\u001b[1;33m\u001b[0m\u001b[0m\n\u001b[0m",
      "\u001b[1;31mFileNotFoundError\u001b[0m: [Errno 2] No such file or directory: 'model3_2.sav'"
     ]
    }
   ],
   "source": [
    "# load model\n",
    "model3_2 = pickle.load(open('model3_2.sav', 'rb'))"
   ]
  },
  {
   "cell_type": "code",
   "execution_count": 58,
   "metadata": {},
   "outputs": [
    {
     "name": "stdout",
     "output_type": "stream",
     "text": [
      "Iteration 1, loss = 1.45706827\n",
      "Validation score: 0.308333\n",
      "Iteration 2, loss = 1.31428852\n",
      "Validation score: 0.533333\n",
      "Iteration 3, loss = 1.21897668\n",
      "Validation score: 0.808333\n",
      "Iteration 4, loss = 1.14201410\n",
      "Validation score: 0.900000\n",
      "Iteration 5, loss = 1.06734300\n",
      "Validation score: 0.900000\n",
      "Iteration 6, loss = 0.98252976\n",
      "Validation score: 0.900000\n",
      "Iteration 7, loss = 0.88458565\n",
      "Validation score: 0.908333\n",
      "Iteration 8, loss = 0.77442812\n",
      "Validation score: 0.900000\n",
      "Iteration 9, loss = 0.66383180\n",
      "Validation score: 0.900000\n",
      "Iteration 10, loss = 0.56352314\n",
      "Validation score: 0.891667\n",
      "Iteration 11, loss = 0.48169108\n",
      "Validation score: 0.891667\n",
      "Iteration 12, loss = 0.42110358\n",
      "Validation score: 0.875000\n",
      "Iteration 13, loss = 0.37753394\n",
      "Validation score: 0.875000\n",
      "Iteration 14, loss = 0.34618516\n",
      "Validation score: 0.866667\n",
      "Iteration 15, loss = 0.32301090\n",
      "Validation score: 0.875000\n",
      "Iteration 16, loss = 0.30528326\n",
      "Validation score: 0.858333\n",
      "Iteration 17, loss = 0.29141031\n",
      "Validation score: 0.875000\n",
      "Iteration 18, loss = 0.27972987\n",
      "Validation score: 0.875000\n",
      "Validation score did not improve more than tol=0.000100 for 10 consecutive epochs. Stopping.\n",
      "accuracy score = 0.8633333333333333\n"
     ]
    },
    {
     "data": {
      "image/png": "[encoded data removed]",
      "text/plain": [
       "<Figure size 432x288 with 1 Axes>"
      ]
     },
     "metadata": {
      "needs_background": "light"
     },
     "output_type": "display_data"
    },
    {
     "name": "stdout",
     "output_type": "stream",
     "text": [
      "0.9883333333333333\n"
     ]
    }
   ],
   "source": [
    "# comment out this two lines when loading model from pickle\n",
    "model3_2 = MLPClassifier(early_stopping = True, verbose = True, alpha = 0.5, hidden_layer_sizes = (100, 100))\n",
    "model3_2.fit(vectorizer.fit_transform(X_train), y_train)\n",
    "\n",
    "label3_2 = model3_2.predict(vectorizer.transform(X_test))\n",
    "label3_2_train = model3_2.predict(vectorizer.transform(X_train))\n",
    "test_acc = accuracy_score(y_test, label3_2)\n",
    "loss_values = model3_2.loss_curve_\n",
    "valid_values = model3_2.validation_scores_\n",
    "\n",
    "print(\"accuracy score = \" + str(test_acc))\n",
    "plt.plot(loss_values,'-b', label='loss')\n",
    "plt.plot(valid_values,'-r', label = 'validation score')\n",
    "plt.legend(bbox_to_anchor = (1.05, 1.0), loc = 'upper left')\n",
    "plt.show()\n",
    "\n",
    "train_lab = model3_2.predict(vectorizer.transform(X_train))\n",
    "train_accuracy = accuracy_score(y_train, train_lab)\n",
    "print(train_accuracy)"
   ]
  },
  {
   "cell_type": "code",
   "execution_count": 59,
   "metadata": {},
   "outputs": [
    {
     "name": "stdout",
     "output_type": "stream",
     "text": [
      "Micro-average F1 scores: 0.863333\n",
      "Macro-average F1 scores: 0.863105\n"
     ]
    },
    {
     "data": {
      "image/png": "[encoded data removed]",
      "text/plain": [
       "<Figure size 360x360 with 1 Axes>"
      ]
     },
     "metadata": {
      "needs_background": "light"
     },
     "output_type": "display_data"
    }
   ],
   "source": [
    "distinct_label = list(set(label3_2)) # since confusion matrix label is automatically sorted, sort the distinct label in train_labels to prepare x, y label for heatmap\n",
    "mat = confusion_matrix(y_test, label3_2)\n",
    "plt.figure(figsize = (5, 5))\n",
    "ax = sns.heatmap(mat.T, square = True, annot = True, fmt = \"d\", cbar = False, xticklabels = sorted(set(test[\"Classification\"])), yticklabels = distinct_label)\n",
    "ax.set_ylim(len(distinct_label), 0) # since heatmap cut off numbers, we need to set up y limit \n",
    "\n",
    "plt.xlabel(\"True Label\")\n",
    "plt.ylabel(\"Predicted Label\");\n",
    "\n",
    "print(\"Micro-average F1 scores: \", end = \"\")\n",
    "print(np.round(f1_score(y_test, label3_2, average = \"micro\"), 6))\n",
    "print(\"Macro-average F1 scores: \", end = \"\")\n",
    "print(np.round(f1_score(y_test, label3_2, average = \"macro\"), 6))"
   ]
  },
  {
   "cell_type": "code",
   "execution_count": 60,
   "metadata": {},
   "outputs": [
    {
     "name": "stdout",
     "output_type": "stream",
     "text": [
      "Micro-average F1 scores: 0.988333\n",
      "Macro-average F1 scores: 0.988311\n"
     ]
    }
   ],
   "source": [
    "# Training set score\n",
    "label3_3_train = model3_2.predict(vectorizer.transform(X_train))\n",
    "print(\"Micro-average F1 scores: \", end = \"\")\n",
    "print(np.round(f1_score(y_train, label3_2_train, average = \"micro\"), 6))\n",
    "print(\"Macro-average F1 scores: \", end = \"\")\n",
    "print(np.round(f1_score(y_train, label3_2_train, average = \"macro\"), 6))"
   ]
  },
  {
   "cell_type": "code",
   "execution_count": 16,
   "metadata": {},
   "outputs": [],
   "source": [
    "filename = 'model3_2.sav'\n",
    "pickle.dump(model3_2, open(filename, 'wb'))"
   ]
  },
  {
   "cell_type": "markdown",
   "metadata": {},
   "source": [
    "## 4. Tensor Flow model with Bidirectional LSTM"
   ]
  },
  {
   "cell_type": "code",
   "execution_count": 69,
   "metadata": {},
   "outputs": [],
   "source": [
    "#pip install gensim\n",
    "from gensim.test.utils import common_texts\n",
    "from gensim.models import Word2Vec\n",
    "from gensim.models import FastText\n",
    "import numpy as np\n",
    "import re\n",
    "import matplotlib.pyplot as plt"
   ]
  },
  {
   "cell_type": "code",
   "execution_count": 70,
   "metadata": {},
   "outputs": [
    {
     "data": {
      "text/plain": [
       "8251"
      ]
     },
     "execution_count": 70,
     "metadata": {},
     "output_type": "execute_result"
    }
   ],
   "source": [
    "def doc_vocab(l) :\n",
    "    lexicon = set()\n",
    "    for i in l :\n",
    "        for word in i.split() :\n",
    "            if len(word) == 0 :\n",
    "                continue\n",
    "            lexicon.add(word)\n",
    "    return lexicon\n",
    "\n",
    "lexicon = doc_vocab(list(train[\"Text\"]))\n",
    "len(lexicon)"
   ]
  },
  {
   "cell_type": "code",
   "execution_count": 71,
   "metadata": {},
   "outputs": [
    {
     "name": "stdout",
     "output_type": "stream",
     "text": [
      "2.3.1\n"
     ]
    }
   ],
   "source": [
    "import tensorflow as tf\n",
    "import numpy as np\n",
    "from tensorflow.keras.preprocessing.text import Tokenizer\n",
    "from tensorflow.keras.preprocessing.sequence import pad_sequences\n",
    "from sklearn import preprocessing as pp\n",
    "\n",
    "print(tf.__version__)"
   ]
  },
  {
   "cell_type": "code",
   "execution_count": 72,
   "metadata": {},
   "outputs": [],
   "source": [
    "vocab_size = len(lexicon)\n",
    "#vocab_size = 20000\n",
    "embedding_dim = 100\n",
    "max_length = 280\n",
    "\n",
    "train_texts = list(train[\"Text\"])\n",
    "train_labels = list(train[\"Classification\"])\n",
    "test_text = list(test[\"Text\"])\n",
    "test_labels = list(test[\"Classification\"])\n",
    "\n",
    "tokenizer = Tokenizer(num_words = vocab_size, oov_token = '<OOV>')\n",
    "tokenizer.fit_on_texts(train_texts)\n",
    "word_index = tokenizer.word_index\n",
    "\n",
    "train_seq = tokenizer.texts_to_sequences(train_texts)\n",
    "# to make train one-hot-vector length all to 280\n",
    "train_padded = pad_sequences(train_seq, maxlen = max_length, padding = 'post', truncating = 'post')\n",
    "test_seq = tokenizer.texts_to_sequences(test_text)\n",
    "test_padded = pad_sequences(test_seq, maxlen = max_length, padding = 'post', truncating = 'post')\n",
    "\n",
    "labels = list(train_labels)\n",
    "label_tokenizer = pp.LabelEncoder()\n",
    "label_tokenizer.fit(labels)\n",
    "\n",
    "train_label_seq = np.array(label_tokenizer.transform(train_labels))\n",
    "test_label_seq = np.array(label_tokenizer.transform(test_labels))\n",
    "\n",
    "lab = list(set(labels))\n",
    "lab.sort()"
   ]
  },
  {
   "cell_type": "markdown",
   "metadata": {},
   "source": [
    "## 4-1. Bidirectional LSTM with single 100 unit hidden layer with 0.5 drop out"
   ]
  },
  {
   "cell_type": "code",
   "execution_count": 73,
   "metadata": {},
   "outputs": [
    {
     "name": "stdout",
     "output_type": "stream",
     "text": [
      "Model: \"sequential_1\"\n",
      "_________________________________________________________________\n",
      "Layer (type)                 Output Shape              Param #   \n",
      "=================================================================\n",
      "embedding_1 (Embedding)      (None, None, 100)         825100    \n",
      "_________________________________________________________________\n",
      "dropout_1 (Dropout)          (None, None, 100)         0         \n",
      "_________________________________________________________________\n",
      "bidirectional_1 (Bidirection (None, 200)               160800    \n",
      "_________________________________________________________________\n",
      "dense_3 (Dense)              (None, 100)               20100     \n",
      "_________________________________________________________________\n",
      "dense_4 (Dense)              (None, 50)                5050      \n",
      "_________________________________________________________________\n",
      "dense_5 (Dense)              (None, 3)                 153       \n",
      "=================================================================\n",
      "Total params: 1,011,203\n",
      "Trainable params: 1,011,203\n",
      "Non-trainable params: 0\n",
      "_________________________________________________________________\n"
     ]
    }
   ],
   "source": [
    "model_biLSTM = tf.keras.Sequential([\n",
    "    # Add an Embedding layer expecting input vocab of size 20000, and output embedding dimension of size 100 we set at the top\n",
    "    tf.keras.layers.Embedding(vocab_size, embedding_dim),\n",
    "    tf.keras.layers.Dropout(.5,input_shape = (100, )),\n",
    "    tf.keras.layers.Bidirectional(tf.keras.layers.LSTM(embedding_dim)),\n",
    "    tf.keras.layers.Dense(100, activation = 'relu'),\n",
    "    tf.keras.layers.Dense(50, activation = 'relu'),\n",
    "    # Add a Dense layer with 100 units and relu activation.\n",
    "    # When we have multiple outputs, softmax convert outputs layers into a probability distribution.\n",
    "    tf.keras.layers.Dense(3, activation = 'softmax')\n",
    "])\n",
    "model_biLSTM.summary()"
   ]
  },
  {
   "cell_type": "code",
   "execution_count": 74,
   "metadata": {},
   "outputs": [
    {
     "name": "stdout",
     "output_type": "stream",
     "text": [
      "Epoch 1/5\n",
      "34/34 - 5s - loss: 1.0682 - accuracy: 0.4269 - val_loss: 0.9610 - val_accuracy: 0.5333\n",
      "Epoch 2/5\n",
      "34/34 - 4s - loss: 0.6056 - accuracy: 0.7074 - val_loss: 0.5925 - val_accuracy: 0.6833\n",
      "Epoch 3/5\n",
      "34/34 - 4s - loss: 0.2993 - accuracy: 0.8898 - val_loss: 0.6633 - val_accuracy: 0.7333\n",
      "Epoch 4/5\n",
      "34/34 - 4s - loss: 0.1776 - accuracy: 0.9509 - val_loss: 0.7985 - val_accuracy: 0.6917\n",
      "Epoch 5/5\n",
      "34/34 - 4s - loss: 0.0645 - accuracy: 0.9870 - val_loss: 1.0177 - val_accuracy: 0.7167\n"
     ]
    }
   ],
   "source": [
    "model_biLSTM.compile(loss = 'sparse_categorical_crossentropy', optimizer = 'adam', metrics = ['accuracy'])\n",
    "num_epochs = 5\n",
    "history = model_biLSTM.fit(train_padded, train_label_seq, batch_size = 32,\n",
    "                           validation_split = 0.1, epochs = num_epochs, verbose = 2)\n",
    "\n",
    "pred = model_biLSTM.predict(test_padded)\n",
    "pred_tain = model_biLSTM.predict(train_padded)\n",
    "\n",
    "pred_label = []\n",
    "for i in pred :\n",
    "    pred_label.append(lab[np.argmax(i)])\n",
    "    \n",
    "pred_label_train = []\n",
    "for i in pred_tain :\n",
    "    pred_label_train.append(lab[np.argmax(i)])\n",
    "\n"
   ]
  },
  {
   "cell_type": "code",
   "execution_count": 75,
   "metadata": {},
   "outputs": [
    {
     "name": "stdout",
     "output_type": "stream",
     "text": [
      "Test F1 scores:\n",
      "Micro-average F1 scores: 0.766667\n",
      "Macro-average F1 scores: 0.76641\n",
      "Train F1 scores:\n",
      "Micro-average F1 scores: 0.966667\n",
      "Macro-average F1 scores: 0.966824\n"
     ]
    },
    {
     "data": {
      "image/png": "[encoded data removed]",
      "text/plain": [
       "<Figure size 360x360 with 1 Axes>"
      ]
     },
     "metadata": {
      "needs_background": "light"
     },
     "output_type": "display_data"
    }
   ],
   "source": [
    "distinct_label = lab # since confusion matrix label is automatically sorted, sort the distinct label in train_labels to prepare x, y label for heatmap\n",
    "mat = confusion_matrix(test[\"Classification\"], pred_label)\n",
    "plt.figure(figsize = (5, 5))\n",
    "ax = sns.heatmap(mat.T, square = True, annot = True, fmt = \"d\", cbar = False, xticklabels = sorted(set(test[\"Classification\"])), yticklabels = distinct_label)\n",
    "ax.set_ylim(len(distinct_label), 0) # since heatmap cut off numbers, we need to set up y limit \n",
    "\n",
    "plt.xlabel(\"True Label\")\n",
    "plt.ylabel(\"Predicted Label\");\n",
    "\n",
    "print(\"Test F1 scores:\")\n",
    "print(\"Micro-average F1 scores: \", end = \"\")\n",
    "print(np.round(f1_score(test_labels, pred_label, average = \"micro\"), 6))\n",
    "print(\"Macro-average F1 scores: \", end = \"\")\n",
    "print(np.round(f1_score(test_labels, pred_label, average = \"macro\"), 6))\n",
    "\n",
    "# Training set score\n",
    "print(\"Train F1 scores:\")\n",
    "print(\"Micro-average F1 scores: \", end = \"\")\n",
    "print(np.round(f1_score(train_labels, pred_label_train, average = \"micro\"), 6))\n",
    "print(\"Macro-average F1 scores: \", end = \"\")\n",
    "print(np.round(f1_score(train_labels, pred_label_train, average = \"macro\"), 6))"
   ]
  },
  {
   "cell_type": "code",
   "execution_count": 76,
   "metadata": {},
   "outputs": [
    {
     "data": {
      "image/png": "[encoded data removed]",
      "text/plain": [
       "<Figure size 432x288 with 1 Axes>"
      ]
     },
     "metadata": {
      "needs_background": "light"
     },
     "output_type": "display_data"
    }
   ],
   "source": [
    "plt.plot(history.history[\"accuracy\"], '-b')\n",
    "plt.plot(history.history[\"loss\"], '-r')\n",
    "plt.plot(history.history[\"val_accuracy\"], '-c')\n",
    "plt.plot(history.history[\"val_loss\"], '-m')\n",
    "plt.xlabel(\"Epochs\")\n",
    "plt.legend([\"accuracy\", \"loss\", \"val_accuracy\", \"val_loss\"])\n",
    "plt.xticks(np.arange(len(history.history[\"accuracy\"])), np.arange(1, len(history.history[\"accuracy\"]) + 1))\n",
    "plt.show()"
   ]
  },
  {
   "cell_type": "markdown",
   "metadata": {},
   "source": [
    "## 4-2. Bidirectional LSTM with 3 hidden layer (100,200,50) with 0.5 drop out"
   ]
  },
  {
   "cell_type": "code",
   "execution_count": 77,
   "metadata": {},
   "outputs": [
    {
     "name": "stdout",
     "output_type": "stream",
     "text": [
      "Model: \"sequential_2\"\n",
      "_________________________________________________________________\n",
      "Layer (type)                 Output Shape              Param #   \n",
      "=================================================================\n",
      "embedding_2 (Embedding)      (None, None, 100)         825100    \n",
      "_________________________________________________________________\n",
      "dropout_2 (Dropout)          (None, None, 100)         0         \n",
      "_________________________________________________________________\n",
      "bidirectional_2 (Bidirection (None, 200)               160800    \n",
      "_________________________________________________________________\n",
      "dense_6 (Dense)              (None, 100)               20100     \n",
      "_________________________________________________________________\n",
      "dense_7 (Dense)              (None, 50)                5050      \n",
      "_________________________________________________________________\n",
      "dense_8 (Dense)              (None, 35)                1785      \n",
      "_________________________________________________________________\n",
      "dense_9 (Dense)              (None, 3)                 108       \n",
      "=================================================================\n",
      "Total params: 1,012,943\n",
      "Trainable params: 1,012,943\n",
      "Non-trainable params: 0\n",
      "_________________________________________________________________\n"
     ]
    }
   ],
   "source": [
    "model_biLSTM2 = tf.keras.Sequential([\n",
    "    tf.keras.layers.Embedding(vocab_size, embedding_dim),\n",
    "    tf.keras.layers.Dropout(.5, input_shape = (100, )),\n",
    "    tf.keras.layers.Bidirectional(tf.keras.layers.LSTM(embedding_dim)),\n",
    "    tf.keras.layers.Dense(100, activation = 'relu'),\n",
    "    tf.keras.layers.Dense(50, activation = 'relu'),\n",
    "    tf.keras.layers.Dense(35, activation = 'relu'),\n",
    "    tf.keras.layers.Dense(3, activation = 'softmax')\n",
    "])\n",
    "model_biLSTM2.summary()"
   ]
  },
  {
   "cell_type": "code",
   "execution_count": 78,
   "metadata": {},
   "outputs": [
    {
     "name": "stdout",
     "output_type": "stream",
     "text": [
      "Epoch 1/3\n",
      "34/34 - 6s - loss: 1.0745 - accuracy: 0.4148 - val_loss: 1.0445 - val_accuracy: 0.5083\n",
      "Epoch 2/3\n",
      "34/34 - 5s - loss: 0.8543 - accuracy: 0.6796 - val_loss: 0.6851 - val_accuracy: 0.6750\n",
      "Epoch 3/3\n",
      "34/34 - 5s - loss: 0.3624 - accuracy: 0.8704 - val_loss: 0.7804 - val_accuracy: 0.6667\n",
      "Test F1 scores:\n",
      "Micro-average F1 scores: 0.766667\n",
      "Macro-average F1 scores: 0.77195\n",
      "Train F1 scores:\n",
      "Micro-average F1 scores: 0.915\n",
      "Macro-average F1 scores: 0.914493\n"
     ]
    },
    {
     "data": {
      "image/png": "[encoded data removed]",
      "text/plain": [
       "<Figure size 360x360 with 1 Axes>"
      ]
     },
     "metadata": {
      "needs_background": "light"
     },
     "output_type": "display_data"
    }
   ],
   "source": [
    "model_biLSTM2.compile(loss = 'sparse_categorical_crossentropy', optimizer = 'adam', metrics = ['accuracy'])\n",
    "num_epochs = 3\n",
    "history = model_biLSTM2.fit(train_padded, train_label_seq, batch_size = 32,\n",
    "                            validation_split = 0.1, epochs = num_epochs, verbose = 2)\n",
    "\n",
    "pred = model_biLSTM2.predict(test_padded)\n",
    "pred_tain = model_biLSTM2.predict(train_padded)\n",
    "\n",
    "pred_label = []\n",
    "for i in pred :\n",
    "    pred_label.append(lab[np.argmax(i)])\n",
    "    \n",
    "pred_label_train = []\n",
    "for i in pred_tain :\n",
    "    pred_label_train.append(lab[np.argmax(i)])\n",
    "\n",
    "distinct_label = lab # since confusion matrix label is automatically sorted, sort the distinct label in train_labels to prepare x, y label for heatmap\n",
    "mat = confusion_matrix(test[\"Classification\"], pred_label)\n",
    "plt.figure(figsize = (5, 5))\n",
    "ax = sns.heatmap(mat.T, square = True, annot = True, fmt = \"d\", cbar = False, xticklabels = sorted(set(test[\"Classification\"])), yticklabels = distinct_label)\n",
    "ax.set_ylim(len(distinct_label), 0) # since heatmap cut off numbers, we need to set up y limit \n",
    "\n",
    "plt.xlabel(\"True Label\")\n",
    "plt.ylabel(\"Predicted Label\");\n",
    "\n",
    "print(\"Test F1 scores:\")\n",
    "print(\"Micro-average F1 scores: \", end = \"\")\n",
    "print(np.round(f1_score(test_labels, pred_label, average = \"micro\"), 6))\n",
    "print(\"Macro-average F1 scores: \", end = \"\")\n",
    "print(np.round(f1_score(test_labels, pred_label, average = \"macro\"), 6))\n",
    "\n",
    "# Training set score\n",
    "print(\"Train F1 scores:\")\n",
    "print(\"Micro-average F1 scores: \", end = \"\")\n",
    "print(np.round(f1_score(train_labels, pred_label_train, average = \"micro\"), 6))\n",
    "print(\"Macro-average F1 scores: \", end = \"\")\n",
    "print(np.round(f1_score(train_labels, pred_label_train, average = \"macro\"), 6))"
   ]
  },
  {
   "cell_type": "code",
   "execution_count": 79,
   "metadata": {},
   "outputs": [
    {
     "data": {
      "image/png": "[encoded data removed]",
      "text/plain": [
       "<Figure size 432x288 with 1 Axes>"
      ]
     },
     "metadata": {
      "needs_background": "light"
     },
     "output_type": "display_data"
    }
   ],
   "source": [
    "plt.plot(history.history[\"accuracy\"], '-b')\n",
    "plt.plot(history.history[\"loss\"], '-r')\n",
    "plt.plot(history.history[\"val_accuracy\"], '-c')\n",
    "plt.plot(history.history[\"val_loss\"], '-m')\n",
    "plt.xlabel(\"Epochs\")\n",
    "plt.legend([\"accuracy\", \"loss\",\"val_accuracy\", \"val_loss\"])\n",
    "plt.xticks(np.arange(len(history.history[\"accuracy\"])), np.arange(1, len(history.history[\"accuracy\"]) + 1))\n",
    "plt.show()"
   ]
  },
  {
   "cell_type": "markdown",
   "metadata": {},
   "source": [
    "# 3 layers"
   ]
  },
  {
   "cell_type": "code",
   "execution_count": 80,
   "metadata": {},
   "outputs": [
    {
     "name": "stdout",
     "output_type": "stream",
     "text": [
      "Model: \"sequential_3\"\n",
      "_________________________________________________________________\n",
      "Layer (type)                 Output Shape              Param #   \n",
      "=================================================================\n",
      "embedding_3 (Embedding)      (None, None, 100)         825100    \n",
      "_________________________________________________________________\n",
      "dropout_3 (Dropout)          (None, None, 100)         0         \n",
      "_________________________________________________________________\n",
      "bidirectional_3 (Bidirection (None, 200)               160800    \n",
      "_________________________________________________________________\n",
      "dense_10 (Dense)             (None, 100)               20100     \n",
      "_________________________________________________________________\n",
      "dense_11 (Dense)             (None, 50)                5050      \n",
      "_________________________________________________________________\n",
      "dense_12 (Dense)             (None, 35)                1785      \n",
      "_________________________________________________________________\n",
      "dense_13 (Dense)             (None, 70)                2520      \n",
      "_________________________________________________________________\n",
      "dense_14 (Dense)             (None, 3)                 213       \n",
      "=================================================================\n",
      "Total params: 1,015,568\n",
      "Trainable params: 1,015,568\n",
      "Non-trainable params: 0\n",
      "_________________________________________________________________\n"
     ]
    }
   ],
   "source": [
    "model_biLSTM3 = tf.keras.Sequential([\n",
    "    tf.keras.layers.Embedding(vocab_size, embedding_dim),\n",
    "    tf.keras.layers.Dropout(.5, input_shape = (100, )),\n",
    "    tf.keras.layers.Bidirectional(tf.keras.layers.LSTM(embedding_dim)),\n",
    "    tf.keras.layers.Dense(100, activation = 'relu'),\n",
    "    tf.keras.layers.Dense(50, activation = 'relu'),\n",
    "    tf.keras.layers.Dense(35, activation = 'relu'),\n",
    "    tf.keras.layers.Dense(70, activation = 'relu'),\n",
    "    tf.keras.layers.Dense(3, activation = 'softmax')\n",
    "])\n",
    "model_biLSTM3.summary()"
   ]
  },
  {
   "cell_type": "code",
   "execution_count": 81,
   "metadata": {},
   "outputs": [
    {
     "name": "stdout",
     "output_type": "stream",
     "text": [
      "Epoch 1/3\n",
      "34/34 - 5s - loss: 1.0864 - accuracy: 0.3778 - val_loss: 1.0304 - val_accuracy: 0.4750\n",
      "Epoch 2/3\n",
      "34/34 - 5s - loss: 0.7766 - accuracy: 0.6565 - val_loss: 0.7913 - val_accuracy: 0.6333\n",
      "Epoch 3/3\n",
      "34/34 - 5s - loss: 0.2947 - accuracy: 0.8833 - val_loss: 0.8113 - val_accuracy: 0.6667\n",
      "Test F1 scores:\n",
      "Micro-average F1 scores: 0.746667\n",
      "Macro-average F1 scores: 0.754276\n",
      "Train F1 scores:\n",
      "Micro-average F1 scores: 0.909167\n",
      "Macro-average F1 scores: 0.910349\n"
     ]
    },
    {
     "data": {
      "image/png": "[encoded data removed]",
      "text/plain": [
       "<Figure size 360x360 with 1 Axes>"
      ]
     },
     "metadata": {
      "needs_background": "light"
     },
     "output_type": "display_data"
    }
   ],
   "source": [
    "model_biLSTM3.compile(loss = 'sparse_categorical_crossentropy', optimizer = 'adam', metrics = ['accuracy'])\n",
    "num_epochs = 3\n",
    "history = model_biLSTM3.fit(train_padded, train_label_seq, batch_size = 32,\n",
    "                            validation_split = 0.1, epochs = num_epochs, verbose = 2)\n",
    "\n",
    "pred = model_biLSTM3.predict(test_padded)\n",
    "pred_tain = model_biLSTM3.predict(train_padded)\n",
    "\n",
    "pred_label = []\n",
    "for i in pred :\n",
    "    pred_label.append(lab[np.argmax(i)])\n",
    "    \n",
    "pred_label_train = []\n",
    "for i in pred_tain :\n",
    "    pred_label_train.append(lab[np.argmax(i)])\n",
    "\n",
    "distinct_label = lab # since confusion matrix label is automatically sorted, sort the distinct label in train_labels to prepare x, y label for heatmap\n",
    "mat = confusion_matrix(test[\"Classification\"], pred_label)\n",
    "plt.figure(figsize = (5, 5))\n",
    "ax = sns.heatmap(mat.T, square = True, annot = True, fmt = \"d\", cbar = False, xticklabels = sorted(set(test[\"Classification\"])), yticklabels = distinct_label)\n",
    "ax.set_ylim(len(distinct_label), 0) # since heatmap cut off numbers, we need to set up y limit \n",
    "\n",
    "plt.xlabel(\"True Label\")\n",
    "plt.ylabel(\"Predicted Label\");\n",
    "\n",
    "print(\"Test F1 scores:\")\n",
    "print(\"Micro-average F1 scores: \", end = \"\")\n",
    "print(np.round(f1_score(test_labels, pred_label, average = \"micro\"), 6))\n",
    "print(\"Macro-average F1 scores: \", end = \"\")\n",
    "print(np.round(f1_score(test_labels, pred_label, average = \"macro\"), 6))\n",
    "\n",
    "# Training set score\n",
    "print(\"Train F1 scores:\")\n",
    "print(\"Micro-average F1 scores: \", end = \"\")\n",
    "print(np.round(f1_score(train_labels, pred_label_train, average = \"micro\"), 6))\n",
    "print(\"Macro-average F1 scores: \", end = \"\")\n",
    "print(np.round(f1_score(train_labels, pred_label_train, average = \"macro\"), 6))"
   ]
  },
  {
   "cell_type": "code",
   "execution_count": 82,
   "metadata": {},
   "outputs": [
    {
     "data": {
      "image/png": "[encoded data removed]",
      "text/plain": [
       "<Figure size 432x288 with 1 Axes>"
      ]
     },
     "metadata": {
      "needs_background": "light"
     },
     "output_type": "display_data"
    }
   ],
   "source": [
    "plt.plot(history.history[\"accuracy\"], '-b')\n",
    "plt.plot(history.history[\"loss\"], '-r')\n",
    "plt.plot(history.history[\"val_accuracy\"], '-c')\n",
    "plt.plot(history.history[\"val_loss\"], '-m')\n",
    "plt.xlabel(\"Epochs\")\n",
    "plt.legend([\"accuracy\", \"loss\",\"val_accuracy\", \"val_loss\"])\n",
    "plt.xticks(np.arange(len(history.history[\"accuracy\"])), np.arange(1, len(history.history[\"accuracy\"]) + 1))\n",
    "plt.show()"
   ]
  },
  {
   "cell_type": "code",
   "execution_count": null,
   "metadata": {},
   "outputs": [],
   "source": []
  },
  {
   "cell_type": "markdown",
   "metadata": {},
   "source": [
    "## 5. Compute similarities between tweets using Fast Text word embedding"
   ]
  },
  {
   "cell_type": "code",
   "execution_count": 83,
   "metadata": {},
   "outputs": [],
   "source": [
    "#pip install gensim\n",
    "from gensim.test.utils import common_texts\n",
    "from gensim.models import Word2Vec\n",
    "from gensim.models import FastText"
   ]
  },
  {
   "cell_type": "code",
   "execution_count": 84,
   "metadata": {},
   "outputs": [],
   "source": [
    "model_ft = FastText(window = 3, min_count = 1, sentences = data['Text']) #100d word embedding\n",
    "wv = model_ft.wv"
   ]
  },
  {
   "cell_type": "code",
   "execution_count": 85,
   "metadata": {},
   "outputs": [],
   "source": [
    "from nltk.corpus import stopwords\n",
    "import string\n",
    "import numpy as np\n",
    "\n",
    "def calc_doc_embedding(doc, embeddings, embed_size) :\n",
    "    stopset = stopwords.words('english') + list(string.punctuation)\n",
    "    words = [w for w in doc.lower().split() if w not in stopset] # exclude word in stopset\n",
    "    word_cent = np.zeros(embed_size)\n",
    "    \n",
    "    count = 0\n",
    "    for word in words :\n",
    "        word_cent = word_cent + embeddings[word] \n",
    "        count = count + 1 # only count the word that is not stop words and not OOV\n",
    "\n",
    "    if count == 0 :\n",
    "        return None\n",
    "    \n",
    "    doc_embed = word_cent / count\n",
    "    return doc_embed # return value is np array "
   ]
  },
  {
   "cell_type": "code",
   "execution_count": 86,
   "metadata": {},
   "outputs": [],
   "source": [
    "# function for calculating the cosine similarity\n",
    "def cal_similarity(a, b) :\n",
    "    return np.round(np.dot(a, b) / (np.linalg.norm(a) * np.linalg.norm(b)), 6)\n",
    "\n",
    "# function for removing emoji\n",
    "def remove_emoji(string) :\n",
    "    emoji_pattern = re.compile(\"[\"\n",
    "                               u\"\\U0001F600-\\U0001F64F\"  # emoticons\n",
    "                               u\"\\U0001F300-\\U0001F5FF\"  # symbols & pictographs\n",
    "                               u\"\\U0001F680-\\U0001F6FF\"  # transport & map symbols\n",
    "                               u\"\\U0001F1E0-\\U0001F1FF\"  # flags (iOS)\n",
    "                               u\"\\U00002500-\\U00002BEF\"  # chinese char\n",
    "                               u\"\\U00002702-\\U000027B0\"\n",
    "                               u\"\\U00002702-\\U000027B0\"\n",
    "                               u\"\\U000024C2-\\U0001F251\"\n",
    "                               u\"\\U0001f926-\\U0001f937\"\n",
    "                               u\"\\U00010000-\\U0010ffff\"\n",
    "                               u\"\\u2640-\\u2642\"\n",
    "                               u\"\\u2600-\\u2B55\"\n",
    "                               u\"\\u200d\"\n",
    "                               u\"\\u23cf\"\n",
    "                               u\"\\u23e9\"\n",
    "                               u\"\\u231a\"\n",
    "                               u\"\\ufe0f\"  # dingbats\n",
    "                               u\"\\u3030\"\n",
    "                               \"]+\", flags = re.UNICODE)\n",
    "    return emoji_pattern.sub(r'', string)\n",
    "\n",
    "# function for cleaning text\n",
    "def clean(Text) :\n",
    "    Text = remove_emoji(Text) # remove emoji\n",
    "    Text = re.sub(\"[-/]\", \" \", Text) # substitute dash and slash with space       \n",
    "    text_split = Text.lower().split() # split string into list\n",
    "    remove_list = []\n",
    "    for t in text_split :\n",
    "        if (\"covid\" or \"christmas\" or \"spacex\") in t : # remove all words containing our three hashtags\n",
    "            remove_list.append(t)\n",
    "        if 'http' in t : # remove link\n",
    "            remove_list.append(t)\n",
    "        if '@' in t : # remove ...@...\n",
    "            remove_list.append(t)\n",
    "        if t == '\\n' : # remove new line character\n",
    "            remove_list.append(t)\n",
    "    text_split = [t for t in text_split if t not in remove_list]     \n",
    "    \n",
    "    for i in range(len(text_split)) :\n",
    "        t = text_split[i]\n",
    "        if t.startswith(\"'\") or t.startswith('\"') : # remove quotation mark\n",
    "            text_split[i] = t[1:] \n",
    "        if t.endswith(\"'\") or t.endswith('\"') : \n",
    "            text_split[i] = t[:len(t) - 1]         \n",
    "        text_split[i] = re.sub(\"[^a-z']\", \"\", t)\n",
    "\n",
    "    stopset = stopwords.words('english') + list(string.punctuation)\n",
    "    text_split = [t for t in text_split if t not in stopset]  \n",
    "            \n",
    "    Text = ' '.join(text_split) # join the list back to string\n",
    "\n",
    "    return Text"
   ]
  },
  {
   "cell_type": "code",
   "execution_count": 87,
   "metadata": {},
   "outputs": [],
   "source": [
    "# function to find hashtag suggestion using the best model and similarity \n",
    "def hashtag_suggestion() :\n",
    "    hashtag1 = \"\"\n",
    "    hashtag2 = []\n",
    "    similarlity_dict = dict()\n",
    "    doc1 = clean(input(\"Please enter tweet: \"))\n",
    "    if len(doc1) == 0 :\n",
    "        return \"Error! Impossible to suggest hashtags. Please enter tweet again.\"\n",
    "    else :\n",
    "        hashtag1 = model3_2.predict(vectorizer.transform([doc1]))[0] # get predicted hashtag by the best model\n",
    "        data2 = data[data['Classification'] == hashtag1].reset_index() # get data from the same hashtag and then calculate similarity between these data and the text\n",
    "        \n",
    "        for i in range(len(data2)) :   \n",
    "            doc2 = data2['Text'][i]         \n",
    "            similarlity_dict[i] = cal_similarity(calc_doc_embedding(doc1, embeddings, embed_size), calc_doc_embedding(doc2, embeddings, embed_size))\n",
    "\n",
    "        # find top 5 similarities\n",
    "        n = 0\n",
    "        for i in sorted(similarlity_dict.items(), reverse = True, key = lambda t: t[1]) :     \n",
    "            for h in data2['Hashtag'][i[0]] :\n",
    "                if h not in hashtag2 : \n",
    "                    hashtag2.append(h)\n",
    "            n = n + 1\n",
    "            if n == 5 :\n",
    "                break \n",
    "    \n",
    "        # print all suggested hashtags\n",
    "        print(\"1. \", end = \"\")\n",
    "        print(hashtag1)\n",
    "        c = 2\n",
    "        for i in hashtag2 :\n",
    "            print(c, end = \"\")\n",
    "            print(\". \", end = \"\")\n",
    "            print(i)\n",
    "            c = c + 1\n",
    "                              \n",
    "        return "
   ]
  },
  {
   "cell_type": "code",
   "execution_count": 88,
   "metadata": {},
   "outputs": [],
   "source": [
    "embeddings, embed_size = wv, 100"
   ]
  },
  {
   "cell_type": "code",
   "execution_count": 208,
   "metadata": {},
   "outputs": [],
   "source": [
    "filename = 'model_ft.sav'\n",
    "pickle.dump(model_ft, open(filename, 'wb'))"
   ]
  },
  {
   "cell_type": "code",
   "execution_count": null,
   "metadata": {},
   "outputs": [],
   "source": []
  },
  {
   "cell_type": "code",
   "execution_count": 89,
   "metadata": {},
   "outputs": [
    {
     "name": "stdout",
     "output_type": "stream",
     "text": [
      "Please enter tweet: Holidays are coming soon!!! 🥰🥰🥰\n",
      "1. christmas\n",
      "2. homealone\n",
      "3. diehard\n",
      "4. happynewyear\n",
      "5. art\n",
      "6. original\n",
      "7. cute\n",
      "8. beautiful\n",
      "9. anime\n",
      "10. manga\n",
      "11. pencil\n",
      "12. kawaii\n",
      "13. drawing\n",
      "14. santa\n",
      "15. holidays\n",
      "16. fanart\n",
      "17. christmastree\n"
     ]
    }
   ],
   "source": [
    "hashtag_suggestion()"
   ]
  },
  {
   "cell_type": "code",
   "execution_count": 90,
   "metadata": {},
   "outputs": [
    {
     "name": "stdout",
     "output_type": "stream",
     "text": [
      "Please enter tweet: Hope the weather is good. So excited to see the launch!!!\n",
      "1. spacex\n",
      "2. dragon\n",
      "3. spacelaunchlive\n",
      "4. launchamerica\n",
      "5. theastronauts\n",
      "6. spacecases\n",
      "7. spacecampalumni\n"
     ]
    }
   ],
   "source": [
    "hashtag_suggestion()"
   ]
  },
  {
   "cell_type": "code",
   "execution_count": 91,
   "metadata": {},
   "outputs": [
    {
     "name": "stdout",
     "output_type": "stream",
     "text": [
      "Please enter tweet: we have already lived with pandemic for 1 years!!\n",
      "1. covid\n",
      "2. covid19\n",
      "3. investing\n",
      "4. investments\n",
      "5. investors\n",
      "6. travel\n",
      "7. traveling\n"
     ]
    }
   ],
   "source": [
    "hashtag_suggestion()"
   ]
  },
  {
   "cell_type": "code",
   "execution_count": null,
   "metadata": {},
   "outputs": [],
   "source": []
  }
 ],
 "metadata": {
  "kernelspec": {
   "display_name": "Python 3",
   "language": "python",
   "name": "python3"
  },
  "language_info": {
   "codemirror_mode": {
    "name": "ipython",
    "version": 3
   },
   "file_extension": ".py",
   "mimetype": "text/x-python",
   "name": "python",
   "nbconvert_exporter": "python",
   "pygments_lexer": "ipython3",
   "version": "3.8.5"
  }
 },
 "nbformat": 4,
 "nbformat_minor": 4
}
