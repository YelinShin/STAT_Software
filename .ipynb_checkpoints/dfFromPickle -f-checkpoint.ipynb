{
 "cells": [
  {
   "cell_type": "markdown",
   "metadata": {},
   "source": [
    "## 1. Data Preprocessing"
   ]
  },
  {
   "cell_type": "code",
   "execution_count": 1,
   "metadata": {},
   "outputs": [],
   "source": [
    "import pandas as pd\n",
    "import pickle\n",
    "import numpy as np\n",
    "import re\n",
    "from nltk.corpus import stopwords\n",
    "import string"
   ]
  },
  {
   "cell_type": "code",
   "execution_count": 2,
   "metadata": {},
   "outputs": [],
   "source": [
    "with open(\"covid.txt\", \"rb\") as handle : # read text file into dataframe\n",
    "    covid_df = pickle.loads(handle.read())\n",
    "with open(\"christmas.txt\", \"rb\") as handle : # read text file into dataframe\n",
    "    christmas_df = pickle.loads(handle.read())\n",
    "with open(\"spacex.txt\", \"rb\") as handle : # read text file into dataframe\n",
    "    spacex_df = pickle.loads(handle.read())\n",
    "\n",
    "data = pd.concat([covid_df, christmas_df, spacex_df], ignore_index = True)"
   ]
  },
  {
   "cell_type": "code",
   "execution_count": 3,
   "metadata": {},
   "outputs": [
    {
     "name": "stdout",
     "output_type": "stream",
     "text": [
      "Number of labels in train: 28800\n",
      "Number of labels in test: 7200\n"
     ]
    }
   ],
   "source": [
    "from sklearn.model_selection import train_test_split\n",
    "import random\n",
    "\n",
    "# train, test = train_test_split(data, test_size = 0.2)\n",
    "# train.to_pickle(\"train.pkl\")\n",
    "# test.to_pickle(\"test.pkl\")\n",
    "\n",
    "train = pd.read_pickle(\"train.pkl\")\n",
    "test = pd.read_pickle(\"test.pkl\")\n",
    "\n",
    "print(\"Number of labels in train: \", end = \"\")\n",
    "print(train.shape[0])\n",
    "print(\"Number of labels in test: \", end = \"\")\n",
    "print(test.shape[0])"
   ]
  },
  {
   "cell_type": "code",
   "execution_count": 4,
   "metadata": {},
   "outputs": [],
   "source": [
    "# remove stop words from tweet\n",
    "stop_set = stopwords.words('english') + list(string.punctuation)\n",
    "train['Text'] = train['Text'].apply(lambda x: ' '.join([word for word in x.split() if word not in (stop_set)]))\n",
    "test['Text'] = test['Text'].apply(lambda x: ' '.join([word for word in x.split() if word not in (stop_set)]))"
   ]
  },
  {
   "cell_type": "code",
   "execution_count": 5,
   "metadata": {},
   "outputs": [
    {
     "data": {
      "text/html": [
       "<div>\n",
       "<style scoped>\n",
       "    .dataframe tbody tr th:only-of-type {\n",
       "        vertical-align: middle;\n",
       "    }\n",
       "\n",
       "    .dataframe tbody tr th {\n",
       "        vertical-align: top;\n",
       "    }\n",
       "\n",
       "    .dataframe thead th {\n",
       "        text-align: right;\n",
       "    }\n",
       "</style>\n",
       "<table border=\"1\" class=\"dataframe\">\n",
       "  <thead>\n",
       "    <tr style=\"text-align: right;\">\n",
       "      <th></th>\n",
       "      <th>Classification</th>\n",
       "      <th>Text</th>\n",
       "      <th>Hashtag</th>\n",
       "    </tr>\n",
       "  </thead>\n",
       "  <tbody>\n",
       "    <tr>\n",
       "      <th>14981</th>\n",
       "      <td>christmas</td>\n",
       "      <td>case dont want cats dogs lovely red green card...</td>\n",
       "      <td>[earlybiz, handmade]</td>\n",
       "    </tr>\n",
       "    <tr>\n",
       "      <th>12949</th>\n",
       "      <td>christmas</td>\n",
       "      <td>befana candle spicy composition warming hints ...</td>\n",
       "      <td>[christmasscents, giftideas, candles, cinnamon]</td>\n",
       "    </tr>\n",
       "    <tr>\n",
       "      <th>24667</th>\n",
       "      <td>spacex</td>\n",
       "      <td>methane farm aerial update whats going thought...</td>\n",
       "      <td>[bocachica]</td>\n",
       "    </tr>\n",
       "    <tr>\n",
       "      <th>35424</th>\n",
       "      <td>spacex</td>\n",
       "      <td>congrats nasa collaborative launch today scien...</td>\n",
       "      <td>[science, innovation, collaboration, spacexlau...</td>\n",
       "    </tr>\n",
       "    <tr>\n",
       "      <th>26290</th>\n",
       "      <td>spacex</td>\n",
       "      <td>excited launch astronauts todaysaturday looks ...</td>\n",
       "      <td>[]</td>\n",
       "    </tr>\n",
       "    <tr>\n",
       "      <th>23474</th>\n",
       "      <td>christmas</td>\n",
       "      <td>amazing treat would count please would love lu...</td>\n",
       "      <td>[competition]</td>\n",
       "    </tr>\n",
       "    <tr>\n",
       "      <th>31140</th>\n",
       "      <td>spacex</td>\n",
       "      <td>history hopefully made week elon musk said twe...</td>\n",
       "      <td>[starship]</td>\n",
       "    </tr>\n",
       "    <tr>\n",
       "      <th>15212</th>\n",
       "      <td>christmas</td>\n",
       "      <td>design tco yzbyudbe us get real second chance ...</td>\n",
       "      <td>[lunalakecabins, secondchance, romance, kindle...</td>\n",
       "    </tr>\n",
       "    <tr>\n",
       "      <th>35176</th>\n",
       "      <td>spacex</td>\n",
       "      <td>go safe mission god speed go nasa go go resili...</td>\n",
       "      <td>[crew1, launchamerica, nasa, dragonresilience,...</td>\n",
       "    </tr>\n",
       "    <tr>\n",
       "      <th>30147</th>\n",
       "      <td>spacex</td>\n",
       "      <td>swag haul go crew big love dragon engineers te...</td>\n",
       "      <td>[launchamerica]</td>\n",
       "    </tr>\n",
       "  </tbody>\n",
       "</table>\n",
       "</div>"
      ],
      "text/plain": [
       "      Classification                                               Text  \\\n",
       "14981      christmas  case dont want cats dogs lovely red green card...   \n",
       "12949      christmas  befana candle spicy composition warming hints ...   \n",
       "24667         spacex  methane farm aerial update whats going thought...   \n",
       "35424         spacex  congrats nasa collaborative launch today scien...   \n",
       "26290         spacex  excited launch astronauts todaysaturday looks ...   \n",
       "23474      christmas  amazing treat would count please would love lu...   \n",
       "31140         spacex  history hopefully made week elon musk said twe...   \n",
       "15212      christmas  design tco yzbyudbe us get real second chance ...   \n",
       "35176         spacex  go safe mission god speed go nasa go go resili...   \n",
       "30147         spacex  swag haul go crew big love dragon engineers te...   \n",
       "\n",
       "                                                 Hashtag  \n",
       "14981                               [earlybiz, handmade]  \n",
       "12949    [christmasscents, giftideas, candles, cinnamon]  \n",
       "24667                                        [bocachica]  \n",
       "35424  [science, innovation, collaboration, spacexlau...  \n",
       "26290                                                 []  \n",
       "23474                                      [competition]  \n",
       "31140                                         [starship]  \n",
       "15212  [lunalakecabins, secondchance, romance, kindle...  \n",
       "35176  [crew1, launchamerica, nasa, dragonresilience,...  \n",
       "30147                                    [launchamerica]  "
      ]
     },
     "execution_count": 5,
     "metadata": {},
     "output_type": "execute_result"
    }
   ],
   "source": [
    "train.head(10)"
   ]
  },
  {
   "cell_type": "code",
   "execution_count": 6,
   "metadata": {},
   "outputs": [
    {
     "data": {
      "text/html": [
       "<div>\n",
       "<style scoped>\n",
       "    .dataframe tbody tr th:only-of-type {\n",
       "        vertical-align: middle;\n",
       "    }\n",
       "\n",
       "    .dataframe tbody tr th {\n",
       "        vertical-align: top;\n",
       "    }\n",
       "\n",
       "    .dataframe thead th {\n",
       "        text-align: right;\n",
       "    }\n",
       "</style>\n",
       "<table border=\"1\" class=\"dataframe\">\n",
       "  <thead>\n",
       "    <tr style=\"text-align: right;\">\n",
       "      <th></th>\n",
       "      <th>Classification</th>\n",
       "      <th>Text</th>\n",
       "      <th>Hashtag</th>\n",
       "    </tr>\n",
       "  </thead>\n",
       "  <tbody>\n",
       "    <tr>\n",
       "      <th>34959</th>\n",
       "      <td>spacex</td>\n",
       "      <td>humans pretty cool shit</td>\n",
       "      <td>[]</td>\n",
       "    </tr>\n",
       "    <tr>\n",
       "      <th>11236</th>\n",
       "      <td>covid</td>\n",
       "      <td>thanks tanaiste joining council group leaders ...</td>\n",
       "      <td>[council, brexit, affordable, public, urbanreg...</td>\n",
       "    </tr>\n",
       "    <tr>\n",
       "      <th>652</th>\n",
       "      <td>covid</td>\n",
       "      <td>tomorrow join ourneighbours across west yorksh...</td>\n",
       "      <td>[ourneighbours]</td>\n",
       "    </tr>\n",
       "    <tr>\n",
       "      <th>16807</th>\n",
       "      <td>christmas</td>\n",
       "      <td>wish merry pissmas roblox robloxart robloxavat...</td>\n",
       "      <td>[roblox, robloxart, robloxavatar]</td>\n",
       "    </tr>\n",
       "    <tr>\n",
       "      <th>23076</th>\n",
       "      <td>christmas</td>\n",
       "      <td>anyone want list quivr tour dekadeedition drum...</td>\n",
       "      <td>[quivr, dekadeedition, drummers]</td>\n",
       "    </tr>\n",
       "    <tr>\n",
       "      <th>6984</th>\n",
       "      <td>covid</td>\n",
       "      <td>people infected asymptomatic presymptomatic tc...</td>\n",
       "      <td>[asymptomatic]</td>\n",
       "    </tr>\n",
       "    <tr>\n",
       "      <th>19874</th>\n",
       "      <td>christmas</td>\n",
       "      <td>since theyre already playing holiday movies iv...</td>\n",
       "      <td>[movies, holidayfeels, hohoho, letseat, radiod...</td>\n",
       "    </tr>\n",
       "    <tr>\n",
       "      <th>9460</th>\n",
       "      <td>covid</td>\n",
       "      <td>fundamentally safe really mean truthbetold one...</td>\n",
       "      <td>[truthbetold, schools, testandtrace]</td>\n",
       "    </tr>\n",
       "    <tr>\n",
       "      <th>12497</th>\n",
       "      <td>christmas</td>\n",
       "      <td>retweet follow chance win festive house paws d...</td>\n",
       "      <td>[win, competition]</td>\n",
       "    </tr>\n",
       "    <tr>\n",
       "      <th>35330</th>\n",
       "      <td>spacex</td>\n",
       "      <td>nasa jpl im giddy todays launch gods speed sha...</td>\n",
       "      <td>[nasa, jpl, shannonwalker, t1d, diabetic, iss,...</td>\n",
       "    </tr>\n",
       "  </tbody>\n",
       "</table>\n",
       "</div>"
      ],
      "text/plain": [
       "      Classification                                               Text  \\\n",
       "34959         spacex                            humans pretty cool shit   \n",
       "11236          covid  thanks tanaiste joining council group leaders ...   \n",
       "652            covid  tomorrow join ourneighbours across west yorksh...   \n",
       "16807      christmas  wish merry pissmas roblox robloxart robloxavat...   \n",
       "23076      christmas  anyone want list quivr tour dekadeedition drum...   \n",
       "6984           covid  people infected asymptomatic presymptomatic tc...   \n",
       "19874      christmas  since theyre already playing holiday movies iv...   \n",
       "9460           covid  fundamentally safe really mean truthbetold one...   \n",
       "12497      christmas  retweet follow chance win festive house paws d...   \n",
       "35330         spacex  nasa jpl im giddy todays launch gods speed sha...   \n",
       "\n",
       "                                                 Hashtag  \n",
       "34959                                                 []  \n",
       "11236  [council, brexit, affordable, public, urbanreg...  \n",
       "652                                      [ourneighbours]  \n",
       "16807                  [roblox, robloxart, robloxavatar]  \n",
       "23076                   [quivr, dekadeedition, drummers]  \n",
       "6984                                      [asymptomatic]  \n",
       "19874  [movies, holidayfeels, hohoho, letseat, radiod...  \n",
       "9460                [truthbetold, schools, testandtrace]  \n",
       "12497                                 [win, competition]  \n",
       "35330  [nasa, jpl, shannonwalker, t1d, diabetic, iss,...  "
      ]
     },
     "execution_count": 6,
     "metadata": {},
     "output_type": "execute_result"
    }
   ],
   "source": [
    "test.head(10)"
   ]
  },
  {
   "cell_type": "markdown",
   "metadata": {},
   "source": [
    "## 2. Naive Bayes model using Python's scikit-learn package"
   ]
  },
  {
   "cell_type": "code",
   "execution_count": 7,
   "metadata": {},
   "outputs": [],
   "source": [
    "from sklearn.feature_extraction.text import TfidfVectorizer\n",
    "from sklearn.naive_bayes import MultinomialNB\n",
    "from sklearn.pipeline import make_pipeline\n",
    "import matplotlib.pyplot as plt\n",
    "#pip install seaborn\n",
    "import seaborn as sns; sns.set() \n",
    "from sklearn.metrics import confusion_matrix\n",
    "from sklearn.metrics import f1_score"
   ]
  },
  {
   "cell_type": "code",
   "execution_count": 8,
   "metadata": {},
   "outputs": [],
   "source": [
    "model_byes = make_pipeline(TfidfVectorizer(), MultinomialNB())\n",
    "model_byes.fit(train[\"Text\"], train[\"Classification\"]) # fit the model\n",
    "labels = model_byes.predict(test[\"Text\"]) # predict the hashtag of the test data\n",
    "train_labels = model_byes.predict(train[\"Text\"])"
   ]
  },
  {
   "cell_type": "code",
   "execution_count": 9,
   "metadata": {},
   "outputs": [
    {
     "name": "stdout",
     "output_type": "stream",
     "text": [
      "Micro-average F1 scores: 0.927222\n",
      "Macro-average F1 scores: 0.927502\n"
     ]
    },
    {
     "data": {
      "image/png": "[encoded data removed]",
      "text/plain": [
       "<Figure size 360x360 with 1 Axes>"
      ]
     },
     "metadata": {},
     "output_type": "display_data"
    }
   ],
   "source": [
    "# confusion matrix for test set\n",
    "distinct_label = sorted(set(test[\"Classification\"])) # since confusion matrix label is automatically sorted, sort the distinct label in train_labels to prepare x, y label for heatmap\n",
    "mat = confusion_matrix(test[\"Classification\"], labels)\n",
    "plt.figure(figsize = (5, 5))\n",
    "ax = sns.heatmap(mat.T, square = True, annot = True, fmt = \"d\", cbar = False, xticklabels = distinct_label, yticklabels = distinct_label)\n",
    "ax.set_ylim(len(distinct_label), 0) # since heatmap cut off numbers, we need to set up y limit \n",
    "\n",
    "plt.xlabel(\"True Label\")\n",
    "plt.ylabel(\"Predicted Label\");\n",
    "\n",
    "print(\"Micro-average F1 scores: \", end = \"\")\n",
    "print(np.round(f1_score(test[\"Classification\"], labels, average = \"micro\"), 6))\n",
    "print(\"Macro-average F1 scores: \", end = \"\")\n",
    "print(np.round(f1_score(test[\"Classification\"], labels, average = \"macro\"), 6))"
   ]
  },
  {
   "cell_type": "code",
   "execution_count": 10,
   "metadata": {},
   "outputs": [
    {
     "name": "stdout",
     "output_type": "stream",
     "text": [
      "Micro-average F1 scores: 0.963542\n",
      "Macro-average F1 scores: 0.963652\n"
     ]
    }
   ],
   "source": [
    "# Training set error\n",
    "print(\"Micro-average F1 scores: \", end = \"\")\n",
    "print(np.round(f1_score(train[\"Classification\"], train_labels, average = \"micro\"), 6))\n",
    "print(\"Macro-average F1 scores: \", end = \"\")\n",
    "print(np.round(f1_score(train[\"Classification\"], train_labels, average = \"macro\"), 6))"
   ]
  },
  {
   "cell_type": "code",
   "execution_count": null,
   "metadata": {},
   "outputs": [],
   "source": []
  },
  {
   "cell_type": "markdown",
   "metadata": {},
   "source": [
    "## 3-1. MLPClassifier to build neural network model with 2 hidden layer"
   ]
  },
  {
   "cell_type": "code",
   "execution_count": 8,
   "metadata": {},
   "outputs": [],
   "source": [
    "%matplotlib inline\n",
    "import numpy as np\n",
    "import matplotlib.pyplot as plt\n",
    "from gensim.test.utils import datapath, get_tmpfile\n",
    "from gensim.models import KeyedVectors\n",
    "from gensim.scripts.glove2word2vec import glove2word2vec\n",
    "from sklearn.model_selection import train_test_split\n",
    "from sklearn.neural_network import MLPClassifier\n",
    "from sklearn.datasets import make_classification\n",
    "from sklearn.feature_extraction.text import TfidfVectorizer\n",
    "from sklearn.pipeline import make_pipeline\n",
    "from sklearn.metrics import accuracy_score\n",
    "import matplotlib.pyplot as plt"
   ]
  },
  {
   "cell_type": "code",
   "execution_count": 9,
   "metadata": {},
   "outputs": [],
   "source": [
    "X_train, X_test, y_train, y_test = train['Text'], test['Text'], train['Classification'], test['Classification']"
   ]
  },
  {
   "cell_type": "code",
   "execution_count": 10,
   "metadata": {},
   "outputs": [],
   "source": [
    "vectorizer = TfidfVectorizer()"
   ]
  },
  {
   "cell_type": "code",
   "execution_count": 44,
   "metadata": {},
   "outputs": [],
   "source": [
    "# reload model without fit again\n",
    "model3_1 = pickle.load(open('model3_1.sav', 'rb'))"
   ]
  },
  {
   "cell_type": "code",
   "execution_count": 45,
   "metadata": {},
   "outputs": [
    {
     "name": "stdout",
     "output_type": "stream",
     "text": [
      "accuracy score = 0.9347222222222222\n"
     ]
    },
    {
     "data": {
      "image/png": "[encoded data removed]",
      "text/plain": [
       "<Figure size 432x288 with 1 Axes>"
      ]
     },
     "metadata": {
      "needs_background": "light"
     },
     "output_type": "display_data"
    }
   ],
   "source": [
    "# comment out this two lines when loading model from pickle\n",
    "model3_1 = MLPClassifier(early_stopping = True, verbose = True, hidden_layer_sizes = (100, 100))\n",
    "model3_1.fit(vectorizer.fit_transform(X_train), y_train)\n",
    "\n",
    "label3_1 = model3_1.predict(vectorizer.transform(X_test))\n",
    "label3_1_train = model3_1.predict(vectorizer.transform(X_train))\n",
    "test_acc = accuracy_score(y_test, label3_1)\n",
    "loss_values = model3_1.loss_curve_\n",
    "valid_values = model3_1.validation_scores_\n",
    "\n",
    "print(\"accuracy score = \" + str(test_acc))\n",
    "plt.plot(loss_values,'-b', label = 'loss')\n",
    "plt.plot(valid_values,'-r', label = 'validation score')\n",
    "plt.legend(bbox_to_anchor = (1.05, 1.0), loc = 'upper left')\n",
    "plt.show()"
   ]
  },
  {
   "cell_type": "code",
   "execution_count": 46,
   "metadata": {},
   "outputs": [
    {
     "name": "stdout",
     "output_type": "stream",
     "text": [
      "Micro-average F1 scores: 0.934722\n",
      "Macro-average F1 scores: 0.934868\n"
     ]
    },
    {
     "data": {
      "image/png": "[encoded data removed]",
      "text/plain": [
       "<Figure size 360x360 with 1 Axes>"
      ]
     },
     "metadata": {
      "needs_background": "light"
     },
     "output_type": "display_data"
    }
   ],
   "source": [
    "distinct_label = list(set(label3_1)) # since confusion matrix label is automatically sorted, sort the distinct label in train_labels to prepare x, y label for heatmap\n",
    "mat = confusion_matrix(y_test, label3_1)\n",
    "plt.figure(figsize = (5, 5))\n",
    "ax = sns.heatmap(mat.T, square = True, annot = True, fmt = \"d\", cbar = False, xticklabels = sorted(set(test[\"Classification\"])), yticklabels = distinct_label)\n",
    "ax.set_ylim(len(distinct_label), 0) # since heatmap cut off numbers, we need to set up y limit \n",
    "\n",
    "plt.xlabel(\"True Label\")\n",
    "plt.ylabel(\"Predicted Label\");\n",
    "\n",
    "print(\"Micro-average F1 scores: \", end = \"\")\n",
    "print(np.round(f1_score(y_test, label3_1, average = \"micro\"), 6))\n",
    "print(\"Macro-average F1 scores: \", end = \"\")\n",
    "print(np.round(f1_score(y_test, label3_1, average = \"macro\"), 6))"
   ]
  },
  {
   "cell_type": "code",
   "execution_count": 47,
   "metadata": {},
   "outputs": [
    {
     "name": "stdout",
     "output_type": "stream",
     "text": [
      "Micro-average F1 scores: 0.99184\n",
      "Macro-average F1 scores: 0.991842\n"
     ]
    }
   ],
   "source": [
    "# Training set score\n",
    "print(\"Micro-average F1 scores: \", end = \"\")\n",
    "print(np.round(f1_score(y_train, label3_1_train, average = \"micro\"), 6))\n",
    "print(\"Macro-average F1 scores: \", end = \"\")\n",
    "print(np.round(f1_score(y_train, label3_1_train, average = \"macro\"), 6))"
   ]
  },
  {
   "cell_type": "code",
   "execution_count": 34,
   "metadata": {},
   "outputs": [],
   "source": [
    "# save model into file so we don't need to fit everytime\n",
    "filename = 'model3_1.sav'\n",
    "pickle.dump(model3_1, open(filename, 'wb'))\n"
   ]
  },
  {
   "cell_type": "markdown",
   "metadata": {},
   "source": [
    "## 3-2. 3-1 + higher alpha"
   ]
  },
  {
   "cell_type": "code",
   "execution_count": 11,
   "metadata": {
    "collapsed": true
   },
   "outputs": [
    {
     "ename": "FileNotFoundError",
     "evalue": "[Errno 2] No such file or directory: 'model3_2.sav'",
     "output_type": "error",
     "traceback": [
      "\u001b[1;31m---------------------------------------------------------------------------\u001b[0m",
      "\u001b[1;31mFileNotFoundError\u001b[0m                         Traceback (most recent call last)",
      "\u001b[1;32m<ipython-input-11-beb98fde1088>\u001b[0m in \u001b[0;36m<module>\u001b[1;34m\u001b[0m\n\u001b[0;32m      1\u001b[0m \u001b[1;31m#load model\u001b[0m\u001b[1;33m\u001b[0m\u001b[1;33m\u001b[0m\u001b[1;33m\u001b[0m\u001b[0m\n\u001b[1;32m----> 2\u001b[1;33m \u001b[0mmodel3_2\u001b[0m \u001b[1;33m=\u001b[0m \u001b[0mpickle\u001b[0m\u001b[1;33m.\u001b[0m\u001b[0mload\u001b[0m\u001b[1;33m(\u001b[0m\u001b[0mopen\u001b[0m\u001b[1;33m(\u001b[0m\u001b[1;34m'model3_2.sav'\u001b[0m\u001b[1;33m,\u001b[0m \u001b[1;34m'rb'\u001b[0m\u001b[1;33m)\u001b[0m\u001b[1;33m)\u001b[0m\u001b[1;33m\u001b[0m\u001b[1;33m\u001b[0m\u001b[0m\n\u001b[0m",
      "\u001b[1;31mFileNotFoundError\u001b[0m: [Errno 2] No such file or directory: 'model3_2.sav'"
     ]
    }
   ],
   "source": [
    "# load model\n",
    "model3_2 = pickle.load(open('model3_2.sav', 'rb'))"
   ]
  },
  {
   "cell_type": "code",
   "execution_count": 12,
   "metadata": {},
   "outputs": [
    {
     "name": "stdout",
     "output_type": "stream",
     "text": [
      "Iteration 1, loss = 0.80610944\n",
      "Validation score: 0.930556\n",
      "Iteration 2, loss = 0.46130274\n",
      "Validation score: 0.930208\n",
      "Iteration 3, loss = 0.41316742\n",
      "Validation score: 0.925694\n",
      "Iteration 4, loss = 0.39012572\n",
      "Validation score: 0.932639\n",
      "Iteration 5, loss = 0.38097686\n",
      "Validation score: 0.931944\n",
      "Iteration 6, loss = 0.36738703\n",
      "Validation score: 0.929514\n",
      "Iteration 7, loss = 0.36245915\n",
      "Validation score: 0.924653\n",
      "Iteration 8, loss = 0.35508775\n",
      "Validation score: 0.931944\n",
      "Iteration 9, loss = 0.35411411\n",
      "Validation score: 0.932639\n",
      "Iteration 10, loss = 0.34715367\n",
      "Validation score: 0.935417\n",
      "Iteration 11, loss = 0.34046191\n",
      "Validation score: 0.929514\n",
      "Iteration 12, loss = 0.33900370\n",
      "Validation score: 0.935069\n",
      "Iteration 13, loss = 0.33351018\n",
      "Validation score: 0.929514\n",
      "Iteration 14, loss = 0.32836727\n",
      "Validation score: 0.935417\n",
      "Iteration 15, loss = 0.32215899\n",
      "Validation score: 0.935069\n",
      "Iteration 16, loss = 0.31959725\n",
      "Validation score: 0.931597\n",
      "Iteration 17, loss = 0.31495703\n",
      "Validation score: 0.927083\n",
      "Iteration 18, loss = 0.31216117\n",
      "Validation score: 0.936806\n",
      "Iteration 19, loss = 0.30739231\n",
      "Validation score: 0.934722\n",
      "Iteration 20, loss = 0.30291477\n",
      "Validation score: 0.932639\n",
      "Iteration 21, loss = 0.29953054\n",
      "Validation score: 0.930556\n",
      "Iteration 22, loss = 0.29654233\n",
      "Validation score: 0.936458\n",
      "Iteration 23, loss = 0.29388191\n",
      "Validation score: 0.928125\n",
      "Iteration 24, loss = 0.29318658\n",
      "Validation score: 0.934028\n",
      "Iteration 25, loss = 0.28952127\n",
      "Validation score: 0.931597\n",
      "Iteration 26, loss = 0.28791460\n",
      "Validation score: 0.932639\n",
      "Iteration 27, loss = 0.28519908\n",
      "Validation score: 0.931597\n",
      "Iteration 28, loss = 0.28220637\n",
      "Validation score: 0.932986\n",
      "Iteration 29, loss = 0.28170030\n",
      "Validation score: 0.929514\n",
      "Validation score did not improve more than tol=0.000100 for 10 consecutive epochs. Stopping.\n",
      "accuracy score = 0.9301388888888888\n"
     ]
    },
    {
     "data": {
      "image/png": "[encoded data removed]",
      "text/plain": [
       "<Figure size 432x288 with 1 Axes>"
      ]
     },
     "metadata": {
      "needs_background": "light"
     },
     "output_type": "display_data"
    },
    {
     "name": "stdout",
     "output_type": "stream",
     "text": [
      "0.9911805555555555\n"
     ]
    }
   ],
   "source": [
    "# comment out this two lines when loading model from pickle\n",
    "model3_2 = MLPClassifier(early_stopping = True, verbose = True, alpha = 0.5, hidden_layer_sizes = (100, 100))\n",
    "model3_2.fit(vectorizer.fit_transform(X_train), y_train)\n",
    "\n",
    "label3_2 = model3_2.predict(vectorizer.transform(X_test))\n",
    "label3_2_train = model3_2.predict(vectorizer.transform(X_train))\n",
    "test_acc = accuracy_score(y_test, label3_2)\n",
    "loss_values = model3_2.loss_curve_\n",
    "valid_values = model3_2.validation_scores_\n",
    "\n",
    "print(\"accuracy score = \" + str(test_acc))\n",
    "plt.plot(loss_values,'-b', label='loss')\n",
    "plt.plot(valid_values,'-r', label = 'validation score')\n",
    "plt.legend(bbox_to_anchor = (1.05, 1.0), loc = 'upper left')\n",
    "plt.show()\n",
    "\n",
    "train_lab = model3_2.predict(vectorizer.transform(X_train))\n",
    "train_accuracy = accuracy_score(y_train, train_lab)\n",
    "print(train_accuracy)"
   ]
  },
  {
   "cell_type": "code",
   "execution_count": 13,
   "metadata": {},
   "outputs": [
    {
     "name": "stdout",
     "output_type": "stream",
     "text": [
      "Micro-average F1 scores: 0.930139\n",
      "Macro-average F1 scores: 0.930318\n"
     ]
    },
    {
     "data": {
      "image/png": "[encoded data removed]",
      "text/plain": [
       "<Figure size 360x360 with 1 Axes>"
      ]
     },
     "metadata": {
      "needs_background": "light"
     },
     "output_type": "display_data"
    }
   ],
   "source": [
    "distinct_label = list(set(label3_2)) # since confusion matrix label is automatically sorted, sort the distinct label in train_labels to prepare x, y label for heatmap\n",
    "mat = confusion_matrix(y_test, label3_2)\n",
    "plt.figure(figsize = (5, 5))\n",
    "ax = sns.heatmap(mat.T, square = True, annot = True, fmt = \"d\", cbar = False, xticklabels = sorted(set(test[\"Classification\"])), yticklabels = distinct_label)\n",
    "ax.set_ylim(len(distinct_label), 0) # since heatmap cut off numbers, we need to set up y limit \n",
    "\n",
    "plt.xlabel(\"True Label\")\n",
    "plt.ylabel(\"Predicted Label\");\n",
    "\n",
    "print(\"Micro-average F1 scores: \", end = \"\")\n",
    "print(np.round(f1_score(y_test, label3_2, average = \"micro\"), 6))\n",
    "print(\"Macro-average F1 scores: \", end = \"\")\n",
    "print(np.round(f1_score(y_test, label3_2, average = \"macro\"), 6))"
   ]
  },
  {
   "cell_type": "code",
   "execution_count": 14,
   "metadata": {},
   "outputs": [
    {
     "name": "stdout",
     "output_type": "stream",
     "text": [
      "Micro-average F1 scores: 0.991181\n",
      "Macro-average F1 scores: 0.991182\n"
     ]
    }
   ],
   "source": [
    "# Training set score\n",
    "label3_3_train = model3_2.predict(vectorizer.transform(X_train))\n",
    "print(\"Micro-average F1 scores: \", end = \"\")\n",
    "print(np.round(f1_score(y_train, label3_2_train, average = \"micro\"), 6))\n",
    "print(\"Macro-average F1 scores: \", end = \"\")\n",
    "print(np.round(f1_score(y_train, label3_2_train, average = \"macro\"), 6))"
   ]
  },
  {
   "cell_type": "code",
   "execution_count": 16,
   "metadata": {},
   "outputs": [],
   "source": [
    "filename = 'model3_2.sav'\n",
    "pickle.dump(model3_2, open(filename, 'wb'))"
   ]
  },
  {
   "cell_type": "markdown",
   "metadata": {},
   "source": [
    "## 4. Tensor Flow model with Bidirectional LSTM"
   ]
  },
  {
   "cell_type": "code",
   "execution_count": 48,
   "metadata": {},
   "outputs": [],
   "source": [
    "#pip install gensim\n",
    "from gensim.test.utils import common_texts\n",
    "from gensim.models import Word2Vec\n",
    "from gensim.models import FastText\n",
    "import numpy as np\n",
    "import re\n",
    "import matplotlib.pyplot as plt"
   ]
  },
  {
   "cell_type": "code",
   "execution_count": 49,
   "metadata": {},
   "outputs": [
    {
     "data": {
      "text/plain": [
       "78985"
      ]
     },
     "execution_count": 49,
     "metadata": {},
     "output_type": "execute_result"
    }
   ],
   "source": [
    "def doc_vocab(l) :\n",
    "    lexicon = set()\n",
    "    for i in l :\n",
    "        for word in i.split() :\n",
    "            if len(word) == 0 :\n",
    "                continue\n",
    "            lexicon.add(word)\n",
    "    return lexicon\n",
    "\n",
    "lexicon = doc_vocab(list(train[\"Text\"]))\n",
    "len(lexicon)"
   ]
  },
  {
   "cell_type": "code",
   "execution_count": 50,
   "metadata": {},
   "outputs": [
    {
     "name": "stdout",
     "output_type": "stream",
     "text": [
      "2.2.0\n"
     ]
    }
   ],
   "source": [
    "import tensorflow as tf\n",
    "import numpy as np\n",
    "from tensorflow.keras.preprocessing.text import Tokenizer\n",
    "from tensorflow.keras.preprocessing.sequence import pad_sequences\n",
    "from sklearn import preprocessing as pp\n",
    "\n",
    "print(tf.__version__)"
   ]
  },
  {
   "cell_type": "code",
   "execution_count": 51,
   "metadata": {},
   "outputs": [],
   "source": [
    "vocab_size = 20000\n",
    "embedding_dim = 100\n",
    "max_length = 280\n",
    "\n",
    "train_texts = list(train[\"Text\"])\n",
    "train_labels = list(train[\"Classification\"])\n",
    "test_text = list(test[\"Text\"])\n",
    "test_labels = list(test[\"Classification\"])\n",
    "\n",
    "tokenizer = Tokenizer(num_words = vocab_size, oov_token = '<OOV>')\n",
    "tokenizer.fit_on_texts(train_texts)\n",
    "word_index = tokenizer.word_index\n",
    "\n",
    "train_seq = tokenizer.texts_to_sequences(train_texts)\n",
    "# to make train one-hot-vector length all to 280\n",
    "train_padded = pad_sequences(train_seq, maxlen = max_length, padding = 'post', truncating = 'post')\n",
    "test_seq = tokenizer.texts_to_sequences(test_text)\n",
    "test_padded = pad_sequences(test_seq, maxlen = max_length, padding = 'post', truncating = 'post')\n",
    "\n",
    "labels = list(train_labels)\n",
    "label_tokenizer = pp.LabelEncoder()\n",
    "label_tokenizer.fit(labels)\n",
    "\n",
    "train_label_seq = np.array(label_tokenizer.transform(train_labels))\n",
    "test_label_seq = np.array(label_tokenizer.transform(test_labels))\n",
    "\n",
    "lab = list(set(labels))\n",
    "lab.sort()"
   ]
  },
  {
   "cell_type": "markdown",
   "metadata": {},
   "source": [
    "## 4-1. Bidirectional LSTM with single 100 unit hidden layer with 0.5 drop out"
   ]
  },
  {
   "cell_type": "code",
   "execution_count": 52,
   "metadata": {},
   "outputs": [
    {
     "name": "stdout",
     "output_type": "stream",
     "text": [
      "Model: \"sequential\"\n",
      "_________________________________________________________________\n",
      "Layer (type)                 Output Shape              Param #   \n",
      "=================================================================\n",
      "embedding (Embedding)        (None, None, 100)         2000000   \n",
      "_________________________________________________________________\n",
      "dropout (Dropout)            (None, None, 100)         0         \n",
      "_________________________________________________________________\n",
      "bidirectional (Bidirectional (None, 200)               160800    \n",
      "_________________________________________________________________\n",
      "dense (Dense)                (None, 100)               20100     \n",
      "_________________________________________________________________\n",
      "dense_1 (Dense)              (None, 3)                 303       \n",
      "=================================================================\n",
      "Total params: 2,181,203\n",
      "Trainable params: 2,181,203\n",
      "Non-trainable params: 0\n",
      "_________________________________________________________________\n"
     ]
    }
   ],
   "source": [
    "model_biLSTM = tf.keras.Sequential([\n",
    "    # Add an Embedding layer expecting input vocab of size 20000, and output embedding dimension of size 100 we set at the top\n",
    "    tf.keras.layers.Embedding(vocab_size, embedding_dim),\n",
    "    tf.keras.layers.Dropout(.5,input_shape = (100, )),\n",
    "    tf.keras.layers.Bidirectional(tf.keras.layers.LSTM(embedding_dim)),\n",
    "    tf.keras.layers.Dense(100, activation = 'relu'),\n",
    "    # Add a Dense layer with 100 units and relu activation.\n",
    "    # When we have multiple outputs, softmax convert outputs layers into a probability distribution.\n",
    "    tf.keras.layers.Dense(3, activation = 'softmax')\n",
    "])\n",
    "model_biLSTM.summary()"
   ]
  },
  {
   "cell_type": "code",
   "execution_count": 53,
   "metadata": {},
   "outputs": [
    {
     "name": "stdout",
     "output_type": "stream",
     "text": [
      "Epoch 1/5\n",
      "810/810 - 112s - loss: 0.3299 - accuracy: 0.8618 - val_loss: 0.1729 - val_accuracy: 0.9424\n",
      "Epoch 2/5\n",
      "810/810 - 112s - loss: 0.1224 - accuracy: 0.9589 - val_loss: 0.1682 - val_accuracy: 0.9368\n",
      "Epoch 3/5\n",
      "810/810 - 111s - loss: 0.0748 - accuracy: 0.9759 - val_loss: 0.1863 - val_accuracy: 0.9382\n",
      "Epoch 4/5\n",
      "810/810 - 111s - loss: 0.0459 - accuracy: 0.9846 - val_loss: 0.2028 - val_accuracy: 0.9365\n",
      "Epoch 5/5\n",
      "810/810 - 112s - loss: 0.0327 - accuracy: 0.9894 - val_loss: 0.2417 - val_accuracy: 0.9323\n",
      "Test F1 scores:\n",
      "Micro-average F1 scores: 0.9225\n",
      "Macro-average F1 scores: 0.922698\n",
      "Train F1 scores:\n",
      "Micro-average F1 scores: 0.988889\n",
      "Macro-average F1 scores: 0.988887\n"
     ]
    },
    {
     "data": {
      "image/png": "[encoded data removed]",
      "text/plain": [
       "<Figure size 360x360 with 1 Axes>"
      ]
     },
     "metadata": {
      "needs_background": "light"
     },
     "output_type": "display_data"
    }
   ],
   "source": [
    "model_biLSTM.compile(loss = 'sparse_categorical_crossentropy', optimizer = 'adam', metrics = ['accuracy'])\n",
    "num_epochs = 5\n",
    "history = model_biLSTM.fit(train_padded, train_label_seq, batch_size = 32,\n",
    "                           validation_split = 0.1, epochs = num_epochs, verbose = 2)\n",
    "\n",
    "pred = model_biLSTM.predict(test_padded)\n",
    "pred_tain = model_biLSTM.predict(train_padded)\n",
    "\n",
    "pred_label = []\n",
    "for i in pred :\n",
    "    pred_label.append(lab[np.argmax(i)])\n",
    "    \n",
    "pred_label_train = []\n",
    "for i in pred_tain :\n",
    "    pred_label_train.append(lab[np.argmax(i)])\n",
    "\n",
    "distinct_label = lab # since confusion matrix label is automatically sorted, sort the distinct label in train_labels to prepare x, y label for heatmap\n",
    "mat = confusion_matrix(test[\"Classification\"], pred_label)\n",
    "plt.figure(figsize = (5, 5))\n",
    "ax = sns.heatmap(mat.T, square = True, annot = True, fmt = \"d\", cbar = False, xticklabels = sorted(set(test[\"Classification\"])), yticklabels = distinct_label)\n",
    "ax.set_ylim(len(distinct_label), 0) # since heatmap cut off numbers, we need to set up y limit \n",
    "\n",
    "plt.xlabel(\"True Label\")\n",
    "plt.ylabel(\"Predicted Label\");\n",
    "\n",
    "print(\"Test F1 scores:\")\n",
    "print(\"Micro-average F1 scores: \", end = \"\")\n",
    "print(np.round(f1_score(test_labels, pred_label, average = \"micro\"), 6))\n",
    "print(\"Macro-average F1 scores: \", end = \"\")\n",
    "print(np.round(f1_score(test_labels, pred_label, average = \"macro\"), 6))\n",
    "\n",
    "# Training set score\n",
    "print(\"Train F1 scores:\")\n",
    "print(\"Micro-average F1 scores: \", end = \"\")\n",
    "print(np.round(f1_score(train_labels, pred_label_train, average = \"micro\"), 6))\n",
    "print(\"Macro-average F1 scores: \", end = \"\")\n",
    "print(np.round(f1_score(train_labels, pred_label_train, average = \"macro\"), 6))"
   ]
  },
  {
   "cell_type": "code",
   "execution_count": 54,
   "metadata": {},
   "outputs": [
    {
     "data": {
      "image/png": "[encoded data removed]",
      "text/plain": [
       "<Figure size 432x288 with 1 Axes>"
      ]
     },
     "metadata": {
      "needs_background": "light"
     },
     "output_type": "display_data"
    }
   ],
   "source": [
    "plt.plot(history.history[\"accuracy\"], '-b')\n",
    "plt.plot(history.history[\"loss\"], '-r')\n",
    "plt.plot(history.history[\"val_accuracy\"], '-c')\n",
    "plt.plot(history.history[\"val_loss\"], '-m')\n",
    "plt.xlabel(\"Epochs\")\n",
    "plt.legend([\"accuracy\", \"loss\", \"val_accuracy\", \"val_loss\"])\n",
    "plt.xticks(np.arange(len(history.history[\"accuracy\"])), np.arange(1, len(history.history[\"accuracy\"]) + 1))\n",
    "plt.show()"
   ]
  },
  {
   "cell_type": "markdown",
   "metadata": {},
   "source": [
    "## 4-2. Bidirectional LSTM with 3 hidden layer (100,200,50) with 0.5 drop out"
   ]
  },
  {
   "cell_type": "code",
   "execution_count": null,
   "metadata": {},
   "outputs": [],
   "source": [
    "model_biLSTM2 = tf.keras.Sequential([\n",
    "    tf.keras.layers.Embedding(vocab_size, embedding_dim),\n",
    "    tf.keras.layers.Dropout(.5, input_shape = (100, )),\n",
    "    tf.keras.layers.Bidirectional(tf.keras.layers.LSTM(embedding_dim)),\n",
    "    tf.keras.layers.Dense(100, activation = 'relu'),\n",
    "    tf.keras.layers.Dense(200, activation = 'relu'),\n",
    "    tf.keras.layers.Dense(50, activation = 'relu'),\n",
    "    tf.keras.layers.Dense(3, activation = 'softmax')\n",
    "])\n",
    "model_biLSTM2.summary()"
   ]
  },
  {
   "cell_type": "code",
   "execution_count": null,
   "metadata": {},
   "outputs": [],
   "source": [
    "model_biLSTM2.compile(loss = 'sparse_categorical_crossentropy', optimizer = 'adam', metrics = ['accuracy'])\n",
    "num_epochs = 3\n",
    "history = model_biLSTM2.fit(train_padded, train_label_seq, batch_size = 32,\n",
    "                            validation_split = 0.1, epochs = num_epochs, verbose = 2)\n",
    "\n",
    "pred = model_biLSTM2.predict(test_padded)\n",
    "pred_tain = model_biLSTM2.predict(train_padded)\n",
    "\n",
    "pred_label = []\n",
    "for i in pred :\n",
    "    pred_label.append(lab[np.argmax(i)])\n",
    "    \n",
    "pred_label_train = []\n",
    "for i in pred_tain :\n",
    "    pred_label_train.append(lab[np.argmax(i)])\n",
    "\n",
    "distinct_label = lab # since confusion matrix label is automatically sorted, sort the distinct label in train_labels to prepare x, y label for heatmap\n",
    "mat = confusion_matrix(test[\"Classification\"], pred_label)\n",
    "plt.figure(figsize = (5, 5))\n",
    "ax = sns.heatmap(mat.T, square = True, annot = True, fmt = \"d\", cbar = False, xticklabels = sorted(set(test[\"Classification\"])), yticklabels = distinct_label)\n",
    "ax.set_ylim(len(distinct_label), 0) # since heatmap cut off numbers, we need to set up y limit \n",
    "\n",
    "plt.xlabel(\"True Label\")\n",
    "plt.ylabel(\"Predicted Label\");\n",
    "\n",
    "print(\"Test F1 scores:\")\n",
    "print(\"Micro-average F1 scores: \", end = \"\")\n",
    "print(np.round(f1_score(test_labels, pred_label, average = \"micro\"), 6))\n",
    "print(\"Macro-average F1 scores: \", end = \"\")\n",
    "print(np.round(f1_score(test_labels, pred_label, average = \"macro\"), 6))\n",
    "\n",
    "# Training set score\n",
    "print(\"Train F1 scores:\")\n",
    "print(\"Micro-average F1 scores: \", end = \"\")\n",
    "print(np.round(f1_score(train_labels, pred_label_train, average = \"micro\"), 6))\n",
    "print(\"Macro-average F1 scores: \", end = \"\")\n",
    "print(np.round(f1_score(train_labels, pred_label_train, average = \"macro\"), 6))"
   ]
  },
  {
   "cell_type": "code",
   "execution_count": 56,
   "metadata": {},
   "outputs": [
    {
     "data": {
      "image/png": "[encoded data removed]",
      "text/plain": [
       "<Figure size 432x288 with 1 Axes>"
      ]
     },
     "metadata": {
      "needs_background": "light"
     },
     "output_type": "display_data"
    }
   ],
   "source": [
    "plt.plot(history.history[\"accuracy\"], '-b')\n",
    "plt.plot(history.history[\"loss\"], '-r')\n",
    "plt.plot(history.history[\"val_accuracy\"], '-c')\n",
    "plt.plot(history.history[\"val_loss\"], '-m')\n",
    "plt.xlabel(\"Epochs\")\n",
    "plt.legend([\"accuracy\", \"loss\",\"val_accuracy\", \"val_loss\"])\n",
    "plt.xticks(np.arange(len(history.history[\"accuracy\"])), np.arange(1, len(history.history[\"accuracy\"]) + 1))\n",
    "plt.show()"
   ]
  },
  {
   "cell_type": "markdown",
   "metadata": {},
   "source": [
    "## 5. Compute similarities between tweets using Fast Text word embedding"
   ]
  },
  {
   "cell_type": "code",
   "execution_count": 17,
   "metadata": {},
   "outputs": [],
   "source": [
    "#pip install gensim\n",
    "from gensim.test.utils import common_texts\n",
    "from gensim.models import Word2Vec\n",
    "from gensim.models import FastText"
   ]
  },
  {
   "cell_type": "code",
   "execution_count": 18,
   "metadata": {},
   "outputs": [],
   "source": [
    "model_ft = FastText(window = 3, min_count = 1, sentences = data['Text']) #100d word embedding\n",
    "wv = model_ft.wv"
   ]
  },
  {
   "cell_type": "code",
   "execution_count": 19,
   "metadata": {},
   "outputs": [],
   "source": [
    "from nltk.corpus import stopwords\n",
    "import string\n",
    "import numpy as np\n",
    "\n",
    "def calc_doc_embedding(doc, embeddings, embed_size) :\n",
    "    stopset = stopwords.words('english') + list(string.punctuation)\n",
    "    words = [w for w in doc.lower().split() if w not in stopset] # exclude word in stopset\n",
    "    word_cent = np.zeros(embed_size)\n",
    "    \n",
    "    count = 0\n",
    "    for word in words :\n",
    "        word_cent = word_cent + embeddings[word] \n",
    "        count = count + 1 # only count the word that is not stop words and not OOV\n",
    "\n",
    "    if count == 0 :\n",
    "        return None\n",
    "    \n",
    "    doc_embed = word_cent / count\n",
    "    return doc_embed # return value is np array "
   ]
  },
  {
   "cell_type": "code",
   "execution_count": 20,
   "metadata": {},
   "outputs": [],
   "source": [
    "# function for calculating the cosine similarity\n",
    "def cal_similarity(a, b) :\n",
    "    return np.round(np.dot(a, b) / (np.linalg.norm(a) * np.linalg.norm(b)), 6)\n",
    "\n",
    "# function for removing emoji\n",
    "def remove_emoji(string) :\n",
    "    emoji_pattern = re.compile(\"[\"\n",
    "                               u\"\\U0001F600-\\U0001F64F\"  # emoticons\n",
    "                               u\"\\U0001F300-\\U0001F5FF\"  # symbols & pictographs\n",
    "                               u\"\\U0001F680-\\U0001F6FF\"  # transport & map symbols\n",
    "                               u\"\\U0001F1E0-\\U0001F1FF\"  # flags (iOS)\n",
    "                               u\"\\U00002500-\\U00002BEF\"  # chinese char\n",
    "                               u\"\\U00002702-\\U000027B0\"\n",
    "                               u\"\\U00002702-\\U000027B0\"\n",
    "                               u\"\\U000024C2-\\U0001F251\"\n",
    "                               u\"\\U0001f926-\\U0001f937\"\n",
    "                               u\"\\U00010000-\\U0010ffff\"\n",
    "                               u\"\\u2640-\\u2642\"\n",
    "                               u\"\\u2600-\\u2B55\"\n",
    "                               u\"\\u200d\"\n",
    "                               u\"\\u23cf\"\n",
    "                               u\"\\u23e9\"\n",
    "                               u\"\\u231a\"\n",
    "                               u\"\\ufe0f\"  # dingbats\n",
    "                               u\"\\u3030\"\n",
    "                               \"]+\", flags = re.UNICODE)\n",
    "    return emoji_pattern.sub(r'', string)\n",
    "\n",
    "# function for cleaning text\n",
    "def clean(Text) :\n",
    "    Text = remove_emoji(Text) # remove emoji\n",
    "    Text = re.sub(\"[-/]\", \" \", Text) # substitute dash and slash with space       \n",
    "    text_split = Text.lower().split() # split string into list\n",
    "    remove_list = []\n",
    "    for t in text_split :\n",
    "        if (\"covid\" or \"christmas\" or \"spacex\") in t : # remove all words containing our three hashtags\n",
    "            remove_list.append(t)\n",
    "        if 'http' in t : # remove link\n",
    "            remove_list.append(t)\n",
    "        if '@' in t : # remove ...@...\n",
    "            remove_list.append(t)\n",
    "        if t == '\\n' : # remove new line character\n",
    "            remove_list.append(t)\n",
    "    text_split = [t for t in text_split if t not in remove_list]     \n",
    "    \n",
    "    for i in range(len(text_split)) :\n",
    "        t = text_split[i]\n",
    "        if t.startswith(\"'\") or t.startswith('\"') : # remove quotation mark\n",
    "            text_split[i] = t[1:] \n",
    "        if t.endswith(\"'\") or t.endswith('\"') : \n",
    "            text_split[i] = t[:len(t) - 1]         \n",
    "        text_split[i] = re.sub(\"[^a-z']\", \"\", t)\n",
    "\n",
    "    stopset = stopwords.words('english') + list(string.punctuation)\n",
    "    text_split = [t for t in text_split if t not in stopset]  \n",
    "            \n",
    "    Text = ' '.join(text_split) # join the list back to string\n",
    "\n",
    "    return Text"
   ]
  },
  {
   "cell_type": "code",
   "execution_count": 117,
   "metadata": {},
   "outputs": [],
   "source": [
    "# function to find hashtag suggestion using the best model and similarity \n",
    "def hashtag_suggestion() :\n",
    "    hashtag1 = \"\"\n",
    "    hashtag2 = []\n",
    "    similarlity_dict = dict()\n",
    "    doc1 = clean(input(\"Please enter tweet: \"))\n",
    "    if len(doc1) == 0 :\n",
    "        return \"Error! Impossible to suggest hashtags. Please enter tweet again.\"\n",
    "    else :\n",
    "        hashtag1 = model3_2.predict(vectorizer.transform([doc1]))[0] # get predicted hashtag by the best model\n",
    "        data2 = data[data['Classification'] == hashtag1].reset_index() # get data from the same hashtag and then calculate similarity between these data and the text\n",
    "        \n",
    "        for i in range(len(data2)) :   \n",
    "            doc2 = data2['Text'][i]         \n",
    "            similarlity_dict[i] = cal_similarity(calc_doc_embedding(doc1, embeddings, embed_size), calc_doc_embedding(doc2, embeddings, embed_size))\n",
    "\n",
    "        # find top 5 similarities\n",
    "        n = 0\n",
    "        for i in sorted(similarlity_dict.items(), reverse = True, key = lambda t: t[1]) :     \n",
    "            for h in data2['Hashtag'][i[0]] :\n",
    "                if h not in hashtag2 : \n",
    "                    hashtag2.append(h)\n",
    "            n = n + 1\n",
    "            if n == 5 :\n",
    "                break \n",
    "    \n",
    "        # print all suggested hashtags\n",
    "        print(\"1. \", end = \"\")\n",
    "        print(hashtag1)\n",
    "        c = 2\n",
    "        for i in hashtag2 :\n",
    "            print(c, end = \"\")\n",
    "            print(\". \", end = \"\")\n",
    "            print(i)\n",
    "            c = c + 1\n",
    "                              \n",
    "        return "
   ]
  },
  {
   "cell_type": "code",
   "execution_count": 31,
   "metadata": {},
   "outputs": [],
   "source": [
    "embeddings, embed_size = wv, 100"
   ]
  },
  {
   "cell_type": "code",
   "execution_count": 208,
   "metadata": {},
   "outputs": [],
   "source": [
    "filename = 'model_ft.sav'\n",
    "pickle.dump(model_ft, open(filename, 'wb'))"
   ]
  },
  {
   "cell_type": "code",
   "execution_count": null,
   "metadata": {},
   "outputs": [],
   "source": []
  },
  {
   "cell_type": "code",
   "execution_count": 118,
   "metadata": {},
   "outputs": [
    {
     "name": "stdout",
     "output_type": "stream",
     "text": [
      "Please enter tweet: Holidays are coming soon!!! 🥰🥰🥰\n",
      "1. christmas\n",
      "2. weihnachtsmarkt\n",
      "3. ruhrgebiet\n",
      "4. stlouis\n",
      "5. holidays\n",
      "6. onlineordering\n",
      "7. dining\n",
      "8. stldining\n",
      "9. christmaslights\n",
      "10. christmasdecorations\n",
      "11. art\n",
      "12. christmas2020\n"
     ]
    }
   ],
   "source": [
    "hashtag_suggestion()"
   ]
  },
  {
   "cell_type": "code",
   "execution_count": 119,
   "metadata": {},
   "outputs": [
    {
     "name": "stdout",
     "output_type": "stream",
     "text": [
      "Please enter tweet: Hope the weather is good. So excited to see the launch!!!\n",
      "1. spacex\n",
      "2. crew1\n",
      "3. tennis\n",
      "4. spacelaunchlive\n",
      "5. artemis\n",
      "6. launchamerica\n",
      "7. dragon\n",
      "8. spacexcrew1\n"
     ]
    }
   ],
   "source": [
    "hashtag_suggestion()"
   ]
  },
  {
   "cell_type": "code",
   "execution_count": 120,
   "metadata": {},
   "outputs": [
    {
     "name": "stdout",
     "output_type": "stream",
     "text": [
      "Please enter tweet: we have already lived with pandemic for 1 years!!\n",
      "1. covid\n",
      "2. covid19\n",
      "3. sarscov2\n",
      "4. vaccine\n",
      "5. ireland\n",
      "6. vermont\n",
      "7. coronavirus\n",
      "8. trump\n",
      "9. biden\n",
      "10. pandemic\n",
      "11. virus\n"
     ]
    }
   ],
   "source": [
    "hashtag_suggestion()"
   ]
  },
  {
   "cell_type": "code",
   "execution_count": null,
   "metadata": {},
   "outputs": [],
   "source": []
  }
 ],
 "metadata": {
  "kernelspec": {
   "display_name": "Python 3",
   "language": "python",
   "name": "python3"
  },
  "language_info": {
   "codemirror_mode": {
    "name": "ipython",
    "version": 3
   },
   "file_extension": ".py",
   "mimetype": "text/x-python",
   "name": "python",
   "nbconvert_exporter": "python",
   "pygments_lexer": "ipython3",
   "version": "3.8.5"
  }
 },
 "nbformat": 4,
 "nbformat_minor": 4
}
