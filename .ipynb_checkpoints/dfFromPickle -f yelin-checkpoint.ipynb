{
 "cells": [
  {
   "cell_type": "markdown",
   "metadata": {},
   "source": [
    "## 1. Data Preprocessing"
   ]
  },
  {
   "cell_type": "code",
   "execution_count": 1,
   "metadata": {},
   "outputs": [],
   "source": [
    "import pandas as pd\n",
    "import pickle\n",
    "import numpy as np\n",
    "import re\n",
    "from nltk.corpus import stopwords\n",
    "import string"
   ]
  },
  {
   "cell_type": "code",
   "execution_count": 2,
   "metadata": {},
   "outputs": [],
   "source": [
    "with open(\"covid.txt\", \"rb\") as handle : # read text file into dataframe\n",
    "    covid_df = pickle.loads(handle.read())\n",
    "with open(\"christmas.txt\", \"rb\") as handle : # read text file into dataframe\n",
    "    christmas_df = pickle.loads(handle.read())\n",
    "with open(\"spacex.txt\", \"rb\") as handle : # read text file into dataframe\n",
    "    spacex_df = pickle.loads(handle.read())\n",
    "\n",
    "data = pd.concat([covid_df, christmas_df, spacex_df], ignore_index = True)"
   ]
  },
  {
   "cell_type": "code",
   "execution_count": 3,
   "metadata": {},
   "outputs": [
    {
     "name": "stdout",
     "output_type": "stream",
     "text": [
      "Number of labels in train: 28800\n",
      "Number of labels in test: 7200\n"
     ]
    }
   ],
   "source": [
    "from sklearn.model_selection import train_test_split\n",
    "import random\n",
    "\n",
    "# train, test = train_test_split(data, test_size = 0.2)\n",
    "# train.to_pickle(\"train.pkl\")\n",
    "# test.to_pickle(\"test.pkl\")\n",
    "\n",
    "train = pd.read_pickle(\"train.pkl\")\n",
    "test = pd.read_pickle(\"test.pkl\")\n",
    "\n",
    "print(\"Number of labels in train: \", end = \"\")\n",
    "print(train.shape[0])\n",
    "print(\"Number of labels in test: \", end = \"\")\n",
    "print(test.shape[0])"
   ]
  },
  {
   "cell_type": "code",
   "execution_count": 4,
   "metadata": {},
   "outputs": [],
   "source": [
    "#removing stop words from tweet\n",
    "stop_set = stopwords.words('english') + list(string.punctuation)\n",
    "train['Text'] = train['Text'].apply(lambda x: ' '.join([word for word in x.split() if word not in (stop_set)]))\n",
    "test['Text'] = test['Text'].apply(lambda x: ' '.join([word for word in x.split() if word not in (stop_set)]))"
   ]
  },
  {
   "cell_type": "code",
   "execution_count": 5,
   "metadata": {},
   "outputs": [
    {
     "data": {
      "text/html": [
       "<div>\n",
       "<style scoped>\n",
       "    .dataframe tbody tr th:only-of-type {\n",
       "        vertical-align: middle;\n",
       "    }\n",
       "\n",
       "    .dataframe tbody tr th {\n",
       "        vertical-align: top;\n",
       "    }\n",
       "\n",
       "    .dataframe thead th {\n",
       "        text-align: right;\n",
       "    }\n",
       "</style>\n",
       "<table border=\"1\" class=\"dataframe\">\n",
       "  <thead>\n",
       "    <tr style=\"text-align: right;\">\n",
       "      <th></th>\n",
       "      <th>Classification</th>\n",
       "      <th>Text</th>\n",
       "      <th>Hashtag</th>\n",
       "    </tr>\n",
       "  </thead>\n",
       "  <tbody>\n",
       "    <tr>\n",
       "      <th>14981</th>\n",
       "      <td>christmas</td>\n",
       "      <td>case dont want cats dogs lovely red green card...</td>\n",
       "      <td>[earlybiz, handmade]</td>\n",
       "    </tr>\n",
       "    <tr>\n",
       "      <th>12949</th>\n",
       "      <td>christmas</td>\n",
       "      <td>befana candle spicy composition warming hints ...</td>\n",
       "      <td>[christmasscents, giftideas, candles, cinnamon]</td>\n",
       "    </tr>\n",
       "    <tr>\n",
       "      <th>24667</th>\n",
       "      <td>spacex</td>\n",
       "      <td>methane farm aerial update whats going thought...</td>\n",
       "      <td>[bocachica]</td>\n",
       "    </tr>\n",
       "    <tr>\n",
       "      <th>35424</th>\n",
       "      <td>spacex</td>\n",
       "      <td>congrats nasa collaborative launch today scien...</td>\n",
       "      <td>[science, innovation, collaboration, spacexlau...</td>\n",
       "    </tr>\n",
       "    <tr>\n",
       "      <th>26290</th>\n",
       "      <td>spacex</td>\n",
       "      <td>excited launch astronauts todaysaturday looks ...</td>\n",
       "      <td>[]</td>\n",
       "    </tr>\n",
       "    <tr>\n",
       "      <th>23474</th>\n",
       "      <td>christmas</td>\n",
       "      <td>amazing treat would count please would love lu...</td>\n",
       "      <td>[competition]</td>\n",
       "    </tr>\n",
       "    <tr>\n",
       "      <th>31140</th>\n",
       "      <td>spacex</td>\n",
       "      <td>history hopefully made week elon musk said twe...</td>\n",
       "      <td>[starship]</td>\n",
       "    </tr>\n",
       "    <tr>\n",
       "      <th>15212</th>\n",
       "      <td>christmas</td>\n",
       "      <td>design tco yzbyudbe us get real second chance ...</td>\n",
       "      <td>[lunalakecabins, secondchance, romance, kindle...</td>\n",
       "    </tr>\n",
       "    <tr>\n",
       "      <th>35176</th>\n",
       "      <td>spacex</td>\n",
       "      <td>go safe mission god speed go nasa go go resili...</td>\n",
       "      <td>[crew1, launchamerica, nasa, dragonresilience,...</td>\n",
       "    </tr>\n",
       "    <tr>\n",
       "      <th>30147</th>\n",
       "      <td>spacex</td>\n",
       "      <td>swag haul go crew big love dragon engineers te...</td>\n",
       "      <td>[launchamerica]</td>\n",
       "    </tr>\n",
       "  </tbody>\n",
       "</table>\n",
       "</div>"
      ],
      "text/plain": [
       "      Classification                                               Text  \\\n",
       "14981      christmas  case dont want cats dogs lovely red green card...   \n",
       "12949      christmas  befana candle spicy composition warming hints ...   \n",
       "24667         spacex  methane farm aerial update whats going thought...   \n",
       "35424         spacex  congrats nasa collaborative launch today scien...   \n",
       "26290         spacex  excited launch astronauts todaysaturday looks ...   \n",
       "23474      christmas  amazing treat would count please would love lu...   \n",
       "31140         spacex  history hopefully made week elon musk said twe...   \n",
       "15212      christmas  design tco yzbyudbe us get real second chance ...   \n",
       "35176         spacex  go safe mission god speed go nasa go go resili...   \n",
       "30147         spacex  swag haul go crew big love dragon engineers te...   \n",
       "\n",
       "                                                 Hashtag  \n",
       "14981                               [earlybiz, handmade]  \n",
       "12949    [christmasscents, giftideas, candles, cinnamon]  \n",
       "24667                                        [bocachica]  \n",
       "35424  [science, innovation, collaboration, spacexlau...  \n",
       "26290                                                 []  \n",
       "23474                                      [competition]  \n",
       "31140                                         [starship]  \n",
       "15212  [lunalakecabins, secondchance, romance, kindle...  \n",
       "35176  [crew1, launchamerica, nasa, dragonresilience,...  \n",
       "30147                                    [launchamerica]  "
      ]
     },
     "execution_count": 5,
     "metadata": {},
     "output_type": "execute_result"
    }
   ],
   "source": [
    "train.head(10)"
   ]
  },
  {
   "cell_type": "code",
   "execution_count": 6,
   "metadata": {},
   "outputs": [
    {
     "data": {
      "text/html": [
       "<div>\n",
       "<style scoped>\n",
       "    .dataframe tbody tr th:only-of-type {\n",
       "        vertical-align: middle;\n",
       "    }\n",
       "\n",
       "    .dataframe tbody tr th {\n",
       "        vertical-align: top;\n",
       "    }\n",
       "\n",
       "    .dataframe thead th {\n",
       "        text-align: right;\n",
       "    }\n",
       "</style>\n",
       "<table border=\"1\" class=\"dataframe\">\n",
       "  <thead>\n",
       "    <tr style=\"text-align: right;\">\n",
       "      <th></th>\n",
       "      <th>Classification</th>\n",
       "      <th>Text</th>\n",
       "      <th>Hashtag</th>\n",
       "    </tr>\n",
       "  </thead>\n",
       "  <tbody>\n",
       "    <tr>\n",
       "      <th>34959</th>\n",
       "      <td>spacex</td>\n",
       "      <td>humans pretty cool shit</td>\n",
       "      <td>[]</td>\n",
       "    </tr>\n",
       "    <tr>\n",
       "      <th>11236</th>\n",
       "      <td>covid</td>\n",
       "      <td>thanks tanaiste joining council group leaders ...</td>\n",
       "      <td>[council, brexit, affordable, public, urbanreg...</td>\n",
       "    </tr>\n",
       "    <tr>\n",
       "      <th>652</th>\n",
       "      <td>covid</td>\n",
       "      <td>tomorrow join ourneighbours across west yorksh...</td>\n",
       "      <td>[ourneighbours]</td>\n",
       "    </tr>\n",
       "    <tr>\n",
       "      <th>16807</th>\n",
       "      <td>christmas</td>\n",
       "      <td>wish merry pissmas roblox robloxart robloxavat...</td>\n",
       "      <td>[roblox, robloxart, robloxavatar]</td>\n",
       "    </tr>\n",
       "    <tr>\n",
       "      <th>23076</th>\n",
       "      <td>christmas</td>\n",
       "      <td>anyone want list quivr tour dekadeedition drum...</td>\n",
       "      <td>[quivr, dekadeedition, drummers]</td>\n",
       "    </tr>\n",
       "    <tr>\n",
       "      <th>6984</th>\n",
       "      <td>covid</td>\n",
       "      <td>people infected asymptomatic presymptomatic tc...</td>\n",
       "      <td>[asymptomatic]</td>\n",
       "    </tr>\n",
       "    <tr>\n",
       "      <th>19874</th>\n",
       "      <td>christmas</td>\n",
       "      <td>since theyre already playing holiday movies iv...</td>\n",
       "      <td>[movies, holidayfeels, hohoho, letseat, radiod...</td>\n",
       "    </tr>\n",
       "    <tr>\n",
       "      <th>9460</th>\n",
       "      <td>covid</td>\n",
       "      <td>fundamentally safe really mean truthbetold one...</td>\n",
       "      <td>[truthbetold, schools, testandtrace]</td>\n",
       "    </tr>\n",
       "    <tr>\n",
       "      <th>12497</th>\n",
       "      <td>christmas</td>\n",
       "      <td>retweet follow chance win festive house paws d...</td>\n",
       "      <td>[win, competition]</td>\n",
       "    </tr>\n",
       "    <tr>\n",
       "      <th>35330</th>\n",
       "      <td>spacex</td>\n",
       "      <td>nasa jpl im giddy todays launch gods speed sha...</td>\n",
       "      <td>[nasa, jpl, shannonwalker, t1d, diabetic, iss,...</td>\n",
       "    </tr>\n",
       "  </tbody>\n",
       "</table>\n",
       "</div>"
      ],
      "text/plain": [
       "      Classification                                               Text  \\\n",
       "34959         spacex                            humans pretty cool shit   \n",
       "11236          covid  thanks tanaiste joining council group leaders ...   \n",
       "652            covid  tomorrow join ourneighbours across west yorksh...   \n",
       "16807      christmas  wish merry pissmas roblox robloxart robloxavat...   \n",
       "23076      christmas  anyone want list quivr tour dekadeedition drum...   \n",
       "6984           covid  people infected asymptomatic presymptomatic tc...   \n",
       "19874      christmas  since theyre already playing holiday movies iv...   \n",
       "9460           covid  fundamentally safe really mean truthbetold one...   \n",
       "12497      christmas  retweet follow chance win festive house paws d...   \n",
       "35330         spacex  nasa jpl im giddy todays launch gods speed sha...   \n",
       "\n",
       "                                                 Hashtag  \n",
       "34959                                                 []  \n",
       "11236  [council, brexit, affordable, public, urbanreg...  \n",
       "652                                      [ourneighbours]  \n",
       "16807                  [roblox, robloxart, robloxavatar]  \n",
       "23076                   [quivr, dekadeedition, drummers]  \n",
       "6984                                      [asymptomatic]  \n",
       "19874  [movies, holidayfeels, hohoho, letseat, radiod...  \n",
       "9460                [truthbetold, schools, testandtrace]  \n",
       "12497                                 [win, competition]  \n",
       "35330  [nasa, jpl, shannonwalker, t1d, diabetic, iss,...  "
      ]
     },
     "execution_count": 6,
     "metadata": {},
     "output_type": "execute_result"
    }
   ],
   "source": [
    "test.head(10)"
   ]
  },
  {
   "cell_type": "markdown",
   "metadata": {},
   "source": [
    "## 2. Naive Bayes model using Python's scikit-learn package"
   ]
  },
  {
   "cell_type": "code",
   "execution_count": 7,
   "metadata": {},
   "outputs": [],
   "source": [
    "from sklearn.feature_extraction.text import TfidfVectorizer\n",
    "from sklearn.naive_bayes import MultinomialNB\n",
    "from sklearn.pipeline import make_pipeline\n",
    "import matplotlib.pyplot as plt\n",
    "#pip install seaborn\n",
    "import seaborn as sns; sns.set() \n",
    "from sklearn.metrics import confusion_matrix\n",
    "from sklearn.metrics import f1_score"
   ]
  },
  {
   "cell_type": "code",
   "execution_count": 8,
   "metadata": {},
   "outputs": [],
   "source": [
    "model_byes = make_pipeline(TfidfVectorizer(), MultinomialNB())\n",
    "model_byes.fit(train[\"Text\"], train[\"Classification\"]) # fit the model\n",
    "labels = model_byes.predict(test[\"Text\"]) # predict the hashtag of the test data\n",
    "train_labels = model_byes.predict(train[\"Text\"])"
   ]
  },
  {
   "cell_type": "code",
   "execution_count": 9,
   "metadata": {},
   "outputs": [
    {
     "name": "stdout",
     "output_type": "stream",
     "text": [
      "Micro-average F1 scores: 0.927222\n",
      "Macro-average F1 scores: 0.927502\n"
     ]
    },
    {
     "data": {
      "image/png": "[encoded data removed]",
      "text/plain": [
       "<Figure size 360x360 with 1 Axes>"
      ]
     },
     "metadata": {},
     "output_type": "display_data"
    }
   ],
   "source": [
    "# confusion matrix for test set\n",
    "distinct_label = sorted(set(test[\"Classification\"])) # since confusion matrix label is automatically sorted, sort the distinct label in train_labels to prepare x, y label for heatmap\n",
    "mat = confusion_matrix(test[\"Classification\"], labels)\n",
    "plt.figure(figsize = (5, 5))\n",
    "ax = sns.heatmap(mat.T, square = True, annot = True, fmt = \"d\", cbar = False, xticklabels = distinct_label, yticklabels = distinct_label)\n",
    "ax.set_ylim(len(distinct_label), 0) # since heatmap cut off numbers, we need to set up y limit \n",
    "\n",
    "plt.xlabel(\"True Label\")\n",
    "plt.ylabel(\"Predicted Label\");\n",
    "\n",
    "print(\"Micro-average F1 scores: \", end = \"\")\n",
    "print(np.round(f1_score(test[\"Classification\"], labels, average = \"micro\"), 6))\n",
    "print(\"Macro-average F1 scores: \", end = \"\")\n",
    "print(np.round(f1_score(test[\"Classification\"], labels, average = \"macro\"), 6))"
   ]
  },
  {
   "cell_type": "code",
   "execution_count": 10,
   "metadata": {},
   "outputs": [
    {
     "name": "stdout",
     "output_type": "stream",
     "text": [
      "Micro-average F1 scores: 0.963542\n",
      "Macro-average F1 scores: 0.963652\n"
     ]
    }
   ],
   "source": [
    "#Train set error\n",
    "print(\"Micro-average F1 scores: \", end = \"\")\n",
    "print(np.round(f1_score(train[\"Classification\"], train_labels, average = \"micro\"), 6))\n",
    "print(\"Macro-average F1 scores: \", end = \"\")\n",
    "print(np.round(f1_score(train[\"Classification\"], train_labels, average = \"macro\"), 6))"
   ]
  },
  {
   "cell_type": "markdown",
   "metadata": {},
   "source": [
    "## 3-1. MLPClassifier to build neural network model with 2 hidden layer"
   ]
  },
  {
   "cell_type": "code",
   "execution_count": 11,
   "metadata": {},
   "outputs": [],
   "source": [
    "%matplotlib inline\n",
    "import numpy as np\n",
    "import matplotlib.pyplot as plt\n",
    "from gensim.test.utils import datapath, get_tmpfile\n",
    "from gensim.models import KeyedVectors\n",
    "from gensim.scripts.glove2word2vec import glove2word2vec\n",
    "from sklearn.model_selection import train_test_split\n",
    "from sklearn.neural_network import MLPClassifier\n",
    "from sklearn.datasets import make_classification\n",
    "from sklearn.feature_extraction.text import TfidfVectorizer\n",
    "from sklearn.pipeline import make_pipeline\n",
    "from sklearn.metrics import accuracy_score\n",
    "import matplotlib.pyplot as plt\n"
   ]
  },
  {
   "cell_type": "code",
   "execution_count": 12,
   "metadata": {},
   "outputs": [],
   "source": [
    "X_train, X_test, y_train, y_test = train['Text'], test['Text'], train['Classification'], test['Classification']"
   ]
  },
  {
   "cell_type": "code",
   "execution_count": 13,
   "metadata": {},
   "outputs": [],
   "source": [
    "vectorizer = TfidfVectorizer()"
   ]
  },
  {
   "cell_type": "code",
   "execution_count": 14,
   "metadata": {},
   "outputs": [
    {
     "name": "stdout",
     "output_type": "stream",
     "text": [
      "Iteration 1, loss = 0.48443401\n",
      "Validation score: 0.934375\n",
      "Iteration 2, loss = 0.06042745\n",
      "Validation score: 0.930556\n",
      "Iteration 3, loss = 0.01273686\n",
      "Validation score: 0.929514\n",
      "Iteration 4, loss = 0.00443943\n",
      "Validation score: 0.927778\n",
      "Iteration 5, loss = 0.00210222\n",
      "Validation score: 0.928472\n",
      "Iteration 6, loss = 0.00142405\n",
      "Validation score: 0.928819\n",
      "Iteration 7, loss = 0.00114295\n",
      "Validation score: 0.926736\n",
      "Iteration 8, loss = 0.00096274\n",
      "Validation score: 0.928472\n",
      "Iteration 9, loss = 0.00086068\n",
      "Validation score: 0.927778\n",
      "Iteration 10, loss = 0.00080983\n",
      "Validation score: 0.928125\n",
      "Iteration 11, loss = 0.00072111\n",
      "Validation score: 0.927083\n",
      "Iteration 12, loss = 0.00063897\n",
      "Validation score: 0.927431\n",
      "Validation score did not improve more than tol=0.000100 for 10 consecutive epochs. Stopping.\n"
     ]
    },
    {
     "data": {
      "image/png": "[encoded data removed]",
      "text/plain": [
       "<Figure size 432x288 with 1 Axes>"
      ]
     },
     "metadata": {
      "needs_background": "light"
     },
     "output_type": "display_data"
    },
    {
     "name": "stdout",
     "output_type": "stream",
     "text": [
      "Train F1 score:\n",
      "Micro-average F1 scores: 0.97625\n",
      "Macro-average F1 scores: 0.976265\n"
     ]
    }
   ],
   "source": [
    "model3_1 = MLPClassifier(early_stopping = True, verbose = True, hidden_layer_sizes = (100, 100))\n",
    "model3_1.fit(vectorizer.fit_transform(X_train), y_train)\n",
    "\n",
    "label3_1 = model3_1.predict(vectorizer.transform(X_test))\n",
    "\n",
    "test_acc3_1 = accuracy_score(y_test, label3_1)\n",
    "loss_values3_1 = model3_1.loss_curve_\n",
    "valid_values3_1 = model3_1.validation_scores_\n",
    "\n",
    "plt.plot(loss_values3_1, '-b', label = 'loss')\n",
    "plt.plot(valid_values3_1, '-r', label = 'validation score')\n",
    "plt.legend(bbox_to_anchor = (1.05, 1.0), loc = 'upper left')\n",
    "plt.show()\n",
    "\n",
    "label3_1_train = model3_1.predict(vectorizer.transform(X_train))\n",
    "print(\"Train F1 score:\")\n",
    "print(\"Micro-average F1 scores: \", end = \"\")\n",
    "print(np.round(f1_score(y_train, label3_1_train, average = \"micro\"), 6))\n",
    "print(\"Macro-average F1 scores: \", end = \"\")\n",
    "print(np.round(f1_score(y_train, label3_1_train, average = \"macro\"), 6))"
   ]
  },
  {
   "cell_type": "code",
   "execution_count": 15,
   "metadata": {},
   "outputs": [
    {
     "name": "stdout",
     "output_type": "stream",
     "text": [
      "Micro-average F1 scores: 0.937639\n",
      "Macro-average F1 scores: 0.9378\n"
     ]
    },
    {
     "data": {
      "image/png": "[encoded data removed]",
      "text/plain": [
       "<Figure size 360x360 with 1 Axes>"
      ]
     },
     "metadata": {
      "needs_background": "light"
     },
     "output_type": "display_data"
    }
   ],
   "source": [
    "distinct_label = list(set(label3_1)) # since confusion matrix label is automatically sorted, sort the distinct label in train_labels to prepare x, y label for heatmap\n",
    "mat = confusion_matrix(y_test, label3_1)\n",
    "plt.figure(figsize = (5, 5))\n",
    "ax = sns.heatmap(mat.T, square = True, annot = True, fmt = \"d\", cbar = False, xticklabels = sorted(set(test[\"Classification\"])), yticklabels = distinct_label)\n",
    "ax.set_ylim(len(distinct_label), 0) # since heatmap cut off numbers, we need to set up y limit \n",
    "\n",
    "plt.xlabel(\"True Label\")\n",
    "plt.ylabel(\"Predicted Label\");\n",
    "\n",
    "print(\"Micro-average F1 scores: \", end = \"\")\n",
    "print(np.round(f1_score(y_test, label3_1, average = \"micro\"), 6))\n",
    "print(\"Macro-average F1 scores: \", end = \"\")\n",
    "print(np.round(f1_score(y_test, label3_1, average = \"macro\"), 6))"
   ]
  },
  {
   "cell_type": "markdown",
   "metadata": {},
   "source": [
    "## 3-2. 3-1 + higher alpha"
   ]
  },
  {
   "cell_type": "code",
   "execution_count": 16,
   "metadata": {},
   "outputs": [
    {
     "name": "stdout",
     "output_type": "stream",
     "text": [
      "Iteration 1, loss = 0.79389955\n",
      "Validation score: 0.929167\n",
      "Iteration 2, loss = 0.45660699\n",
      "Validation score: 0.929861\n",
      "Iteration 3, loss = 0.40914755\n",
      "Validation score: 0.931250\n",
      "Iteration 4, loss = 0.39090854\n",
      "Validation score: 0.931944\n",
      "Iteration 5, loss = 0.37655602\n",
      "Validation score: 0.931597\n",
      "Iteration 6, loss = 0.36865748\n",
      "Validation score: 0.934028\n",
      "Iteration 7, loss = 0.36103429\n",
      "Validation score: 0.927778\n",
      "Iteration 8, loss = 0.35669427\n",
      "Validation score: 0.932639\n",
      "Iteration 9, loss = 0.35269014\n",
      "Validation score: 0.928472\n",
      "Iteration 10, loss = 0.34704768\n",
      "Validation score: 0.930903\n",
      "Iteration 11, loss = 0.34304984\n",
      "Validation score: 0.928819\n",
      "Iteration 12, loss = 0.33874568\n",
      "Validation score: 0.930903\n",
      "Iteration 13, loss = 0.33533870\n",
      "Validation score: 0.927778\n",
      "Iteration 14, loss = 0.32901502\n",
      "Validation score: 0.935764\n",
      "Iteration 15, loss = 0.32447878\n",
      "Validation score: 0.932639\n",
      "Iteration 16, loss = 0.32126179\n",
      "Validation score: 0.932292\n",
      "Iteration 17, loss = 0.31845858\n",
      "Validation score: 0.931597\n",
      "Iteration 18, loss = 0.31464437\n",
      "Validation score: 0.935069\n",
      "Iteration 19, loss = 0.31007510\n",
      "Validation score: 0.933333\n",
      "Iteration 20, loss = 0.30656610\n",
      "Validation score: 0.937500\n",
      "Iteration 21, loss = 0.30349444\n",
      "Validation score: 0.931944\n",
      "Iteration 22, loss = 0.29987679\n",
      "Validation score: 0.936111\n",
      "Iteration 23, loss = 0.29726879\n",
      "Validation score: 0.937847\n",
      "Iteration 24, loss = 0.29404739\n",
      "Validation score: 0.937153\n",
      "Iteration 25, loss = 0.29209467\n",
      "Validation score: 0.931597\n",
      "Iteration 26, loss = 0.29018851\n",
      "Validation score: 0.936806\n",
      "Iteration 27, loss = 0.28702649\n",
      "Validation score: 0.937500\n",
      "Iteration 28, loss = 0.28486242\n",
      "Validation score: 0.933333\n",
      "Iteration 29, loss = 0.28293558\n",
      "Validation score: 0.938542\n",
      "Iteration 30, loss = 0.28141606\n",
      "Validation score: 0.933333\n",
      "Iteration 31, loss = 0.27901847\n",
      "Validation score: 0.935069\n",
      "Iteration 32, loss = 0.27783015\n",
      "Validation score: 0.934375\n",
      "Iteration 33, loss = 0.27736562\n",
      "Validation score: 0.937153\n",
      "Iteration 34, loss = 0.27417518\n",
      "Validation score: 0.937500\n",
      "Iteration 35, loss = 0.27317919\n",
      "Validation score: 0.935417\n",
      "Iteration 36, loss = 0.27205991\n",
      "Validation score: 0.934722\n",
      "Iteration 37, loss = 0.27113668\n",
      "Validation score: 0.935417\n",
      "Iteration 38, loss = 0.27045961\n",
      "Validation score: 0.938542\n",
      "Iteration 39, loss = 0.26895309\n",
      "Validation score: 0.933681\n",
      "Iteration 40, loss = 0.26772482\n",
      "Validation score: 0.937153\n",
      "Validation score did not improve more than tol=0.000100 for 10 consecutive epochs. Stopping.\n",
      "Test accuracy score = 0.9336111111111111\n"
     ]
    },
    {
     "data": {
      "image/png": "[encoded data removed]",
      "text/plain": [
       "<Figure size 432x288 with 1 Axes>"
      ]
     },
     "metadata": {
      "needs_background": "light"
     },
     "output_type": "display_data"
    },
    {
     "name": "stdout",
     "output_type": "stream",
     "text": [
      "Train accuracy :0.9925\n"
     ]
    }
   ],
   "source": [
    "model3_2 = MLPClassifier(early_stopping = True, verbose = True, alpha = 0.5, hidden_layer_sizes = (100, 100))\n",
    "model3_2.fit(vectorizer.fit_transform(X_train), y_train)\n",
    "\n",
    "label3_2= model3_2.predict(vectorizer.transform(X_test))\n",
    "label3_2_train = model3_2.predict(vectorizer.transform(X_train))\n",
    "test_acc3_2 = accuracy_score(y_test, label3_2)\n",
    "loss_values3_2 = model3_2.loss_curve_\n",
    "valid_values3_2 = model3_2.validation_scores_\n",
    "\n",
    "print(\"Test accuracy score = \" + str(test_acc3_2))\n",
    "plt.plot(loss_values3_2, '-b', label = 'loss')\n",
    "plt.plot(valid_values3_2, '-r', label = 'validation score')\n",
    "plt.legend(bbox_to_anchor=(1.05, 1.0), loc = 'upper left')\n",
    "plt.show()\n",
    "\n",
    "train_lab3_2 = model3_2.predict(vectorizer.transform(X_train))\n",
    "train_accuracy3_2 = accuracy_score(y_train, train_lab3_2)\n",
    "print(\"Train accuracy :\" + str(train_accuracy3_2))"
   ]
  },
  {
   "cell_type": "code",
   "execution_count": 17,
   "metadata": {},
   "outputs": [
    {
     "name": "stdout",
     "output_type": "stream",
     "text": [
      "Micro-average F1 scores: 0.933611\n",
      "Macro-average F1 scores: 0.93382\n"
     ]
    },
    {
     "data": {
      "image/png": "[encoded data removed]",
      "text/plain": [
       "<Figure size 360x360 with 1 Axes>"
      ]
     },
     "metadata": {
      "needs_background": "light"
     },
     "output_type": "display_data"
    }
   ],
   "source": [
    "distinct_label = list(set(label3_2)) # since confusion matrix label is automatically sorted, sort the distinct label in train_labels to prepare x, y label for heatmap\n",
    "mat = confusion_matrix(y_test, label3_2)\n",
    "plt.figure(figsize = (5, 5))\n",
    "ax = sns.heatmap(mat.T, square = True, annot = True, fmt = \"d\", cbar = False, xticklabels = sorted(set(test[\"Classification\"])), yticklabels = distinct_label)\n",
    "ax.set_ylim(len(distinct_label), 0) # since heatmap cut off numbers, we need to set up y limit \n",
    "\n",
    "plt.xlabel(\"True Label\")\n",
    "plt.ylabel(\"Predicted Label\");\n",
    "\n",
    "print(\"Micro-average F1 scores: \", end = \"\")\n",
    "print(np.round(f1_score(y_test, label3_2, average = \"micro\"), 6))\n",
    "print(\"Macro-average F1 scores: \", end = \"\")\n",
    "print(np.round(f1_score(y_test, label3_2, average = \"macro\"), 6))"
   ]
  },
  {
   "cell_type": "code",
   "execution_count": 18,
   "metadata": {},
   "outputs": [
    {
     "name": "stdout",
     "output_type": "stream",
     "text": [
      "Train F1 score:\n",
      "Micro-average F1 scores: 0.9925\n",
      "Macro-average F1 scores: 0.992503\n"
     ]
    }
   ],
   "source": [
    "print(\"Train F1 score:\")\n",
    "print(\"Micro-average F1 scores: \", end = \"\")\n",
    "print(np.round(f1_score(y_train, label3_2_train, average = \"micro\"), 6))\n",
    "print(\"Macro-average F1 scores: \", end = \"\")\n",
    "print(np.round(f1_score(y_train, label3_2_train, average = \"macro\"), 6))"
   ]
  },
  {
   "cell_type": "markdown",
   "metadata": {},
   "source": [
    "## 4. Tensor Flow model with Bidirectional LSTM"
   ]
  },
  {
   "cell_type": "code",
   "execution_count": 19,
   "metadata": {},
   "outputs": [],
   "source": [
    "#pip install gensim\n",
    "from gensim.test.utils import common_texts\n",
    "from gensim.models import Word2Vec\n",
    "from gensim.models import FastText\n",
    "import numpy as np\n",
    "import re\n",
    "import matplotlib.pyplot as plt"
   ]
  },
  {
   "cell_type": "code",
   "execution_count": 20,
   "metadata": {},
   "outputs": [
    {
     "data": {
      "text/plain": [
       "78985"
      ]
     },
     "execution_count": 20,
     "metadata": {},
     "output_type": "execute_result"
    }
   ],
   "source": [
    "def doc_vocab(l) :\n",
    "    lexicon = set()\n",
    "    for i in l :\n",
    "        for word in i.split() :\n",
    "            if len(word) == 0 :\n",
    "                continue\n",
    "            lexicon.add(word)\n",
    "    return lexicon\n",
    "\n",
    "lexicon = doc_vocab(list(train[\"Text\"]))\n",
    "len(lexicon)"
   ]
  },
  {
   "cell_type": "code",
   "execution_count": 21,
   "metadata": {},
   "outputs": [
    {
     "name": "stdout",
     "output_type": "stream",
     "text": [
      "2.3.1\n"
     ]
    }
   ],
   "source": [
    "import tensorflow as tf\n",
    "import numpy as np\n",
    "from tensorflow.keras.preprocessing.text import Tokenizer\n",
    "from tensorflow.keras.preprocessing.sequence import pad_sequences\n",
    "from sklearn import preprocessing as pp\n",
    "\n",
    "print(tf.__version__)"
   ]
  },
  {
   "cell_type": "code",
   "execution_count": 22,
   "metadata": {},
   "outputs": [],
   "source": [
    "vocab_size = 20000\n",
    "embedding_dim = 100\n",
    "max_length = 280\n",
    "\n",
    "train_texts = list(train[\"Text\"])\n",
    "train_labels = list(train[\"Classification\"])\n",
    "test_text = list(test[\"Text\"])\n",
    "test_labels = list(test[\"Classification\"])\n",
    "\n",
    "tokenizer = Tokenizer(num_words = vocab_size, oov_token = '<OOV>')\n",
    "tokenizer.fit_on_texts(train_texts)\n",
    "word_index = tokenizer.word_index\n",
    "\n",
    "train_seq = tokenizer.texts_to_sequences(train_texts)\n",
    "#to make train one-hot-vector length all to 280\n",
    "train_padded = pad_sequences(train_seq, maxlen = max_length, padding = 'post', truncating = 'post')\n",
    "test_seq = tokenizer.texts_to_sequences(test_text)\n",
    "test_padded = pad_sequences(test_seq, maxlen = max_length, padding = 'post', truncating = 'post')\n",
    "\n",
    "labels = list(train_labels)\n",
    "label_tokenizer = pp.LabelEncoder()\n",
    "label_tokenizer.fit(labels)\n",
    "\n",
    "train_label_seq = np.array(label_tokenizer.transform(train_labels))\n",
    "test_label_seq = np.array(label_tokenizer.transform(test_labels))\n",
    "\n",
    "lab = list(set(labels))\n",
    "lab.sort()"
   ]
  },
  {
   "cell_type": "markdown",
   "metadata": {},
   "source": [
    "## 4-1. Bidirectional LSTM with single 50 unit hidden layer with 0.5 drop out"
   ]
  },
  {
   "cell_type": "code",
   "execution_count": 23,
   "metadata": {},
   "outputs": [
    {
     "name": "stdout",
     "output_type": "stream",
     "text": [
      "Model: \"sequential\"\n",
      "_________________________________________________________________\n",
      "Layer (type)                 Output Shape              Param #   \n",
      "=================================================================\n",
      "embedding (Embedding)        (None, None, 100)         2000000   \n",
      "_________________________________________________________________\n",
      "dropout (Dropout)            (None, None, 100)         0         \n",
      "_________________________________________________________________\n",
      "bidirectional (Bidirectional (None, 200)               160800    \n",
      "_________________________________________________________________\n",
      "dense (Dense)                (None, 100)               20100     \n",
      "_________________________________________________________________\n",
      "dense_1 (Dense)              (None, 50)                5050      \n",
      "_________________________________________________________________\n",
      "dense_2 (Dense)              (None, 3)                 153       \n",
      "=================================================================\n",
      "Total params: 2,186,103\n",
      "Trainable params: 2,186,103\n",
      "Non-trainable params: 0\n",
      "_________________________________________________________________\n"
     ]
    }
   ],
   "source": [
    "model_biLSTM = tf.keras.Sequential([\n",
    "    tf.keras.layers.Embedding(vocab_size, embedding_dim), # vocab size 20K embedding size 100\n",
    "    tf.keras.layers.Dropout(.5, input_shape = (100, )),\n",
    "    tf.keras.layers.Bidirectional(tf.keras.layers.LSTM(embedding_dim)),\n",
    "    tf.keras.layers.Dense(100, activation = 'relu'),\n",
    "    tf.keras.layers.Dense(50, activation = 'relu'), #hidden layer 50 unit\n",
    "    tf.keras.layers.Dense(3, activation = 'softmax')\n",
    "])\n",
    "model_biLSTM.summary()"
   ]
  },
  {
   "cell_type": "code",
   "execution_count": 24,
   "metadata": {},
   "outputs": [
    {
     "name": "stdout",
     "output_type": "stream",
     "text": [
      "Epoch 1/5\n",
      "810/810 - 95s - loss: 0.3978 - accuracy: 0.8312 - val_loss: 0.1820 - val_accuracy: 0.9344\n",
      "Epoch 2/5\n",
      "810/810 - 98s - loss: 0.1406 - accuracy: 0.9513 - val_loss: 0.1690 - val_accuracy: 0.9351\n",
      "Epoch 3/5\n",
      "810/810 - 96s - loss: 0.0745 - accuracy: 0.9744 - val_loss: 0.1969 - val_accuracy: 0.9392\n",
      "Epoch 4/5\n",
      "810/810 - 97s - loss: 0.0514 - accuracy: 0.9837 - val_loss: 0.2121 - val_accuracy: 0.9358\n",
      "Epoch 5/5\n",
      "810/810 - 97s - loss: 0.0381 - accuracy: 0.9879 - val_loss: 0.2447 - val_accuracy: 0.9351\n"
     ]
    }
   ],
   "source": [
    "model_biLSTM.compile(loss = 'sparse_categorical_crossentropy', optimizer = 'adam', metrics = ['accuracy'])\n",
    "num_epochs = 5\n",
    "history1 = model_biLSTM.fit(train_padded, train_label_seq, batch_size = 32, \n",
    "                            validation_split = 0.1, epochs = num_epochs, verbose = 2)\n",
    "\n",
    "pred1 = model_biLSTM.predict(test_padded)\n",
    "pred_tain1 = model_biLSTM.predict(train_padded)\n",
    "\n",
    "pred_label1 = []\n",
    "for i in pred1 :\n",
    "    pred_label1.append(lab[np.argmax(i)])\n",
    "    \n",
    "pred_label_train1 = []\n",
    "for i in pred_tain1 :\n",
    "    pred_label_train1.append(lab[np.argmax(i)])"
   ]
  },
  {
   "cell_type": "code",
   "execution_count": 25,
   "metadata": {},
   "outputs": [
    {
     "name": "stdout",
     "output_type": "stream",
     "text": [
      "Test F1 scores:\n",
      "Micro-average F1 scores: 0.924444\n",
      "Macro-average F1 scores: 0.924677\n",
      "Train F1 scores:\n",
      "Micro-average F1 scores: 0.989306\n",
      "Macro-average F1 scores: 0.989307\n"
     ]
    },
    {
     "data": {
      "image/png": "[encoded data removed]",
      "text/plain": [
       "<Figure size 360x360 with 1 Axes>"
      ]
     },
     "metadata": {
      "needs_background": "light"
     },
     "output_type": "display_data"
    }
   ],
   "source": [
    "distinct_label = lab # since confusion matrix label is automatically sorted, sort the distinct label in train_labels to prepare x, y label for heatmap\n",
    "mat = confusion_matrix(test[\"Classification\"], pred_label1)\n",
    "plt.figure(figsize = (5, 5))\n",
    "ax = sns.heatmap(mat.T, square = True, annot = True, fmt = \"d\", cbar = False, xticklabels = sorted(set(test[\"Classification\"])), yticklabels = distinct_label)\n",
    "ax.set_ylim(len(distinct_label), 0) # since heatmap cut off numbers, we need to set up y limit \n",
    "\n",
    "plt.xlabel(\"True Label\")\n",
    "plt.ylabel(\"Predicted Label\");\n",
    "\n",
    "print(\"Test F1 scores:\")\n",
    "print(\"Micro-average F1 scores: \", end = \"\")\n",
    "print(np.round(f1_score(test_labels, pred_label1, average = \"micro\"), 6))\n",
    "print(\"Macro-average F1 scores: \", end = \"\")\n",
    "print(np.round(f1_score(test_labels, pred_label1, average = \"macro\"), 6))\n",
    "\n",
    "#train f1 score\n",
    "print(\"Train F1 scores:\")\n",
    "print(\"Micro-average F1 scores: \", end = \"\")\n",
    "print(np.round(f1_score(train_labels, pred_label_train1, average = \"micro\"), 6))\n",
    "print(\"Macro-average F1 scores: \", end = \"\")\n",
    "print(np.round(f1_score(train_labels, pred_label_train1, average = \"macro\"), 6))"
   ]
  },
  {
   "cell_type": "code",
   "execution_count": 26,
   "metadata": {},
   "outputs": [
    {
     "data": {
      "image/png": "[encoded data removed]",
      "text/plain": [
       "<Figure size 432x288 with 1 Axes>"
      ]
     },
     "metadata": {
      "needs_background": "light"
     },
     "output_type": "display_data"
    }
   ],
   "source": [
    "plt.plot(history1.history[\"accuracy\"], '-b')\n",
    "plt.plot(history1.history[\"loss\"], '-r')\n",
    "plt.plot(history1.history[\"val_accuracy\"], '-c')\n",
    "plt.plot(history1.history[\"val_loss\"], '-m')\n",
    "plt.xlabel(\"Epochs\")\n",
    "plt.legend([\"accuracy\", \"loss\", \"val_accuracy\", \"val_loss\"])\n",
    "plt.xticks(np.arange(len(history1.history[\"accuracy\"])), np.arange(1, len(history1.history[\"accuracy\"]) + 1))\n",
    "plt.show()\n"
   ]
  },
  {
   "cell_type": "markdown",
   "metadata": {},
   "source": [
    "## 4-2. Bidirectional LSTM with 2 hidden layer (50,35) with 0.5 drop out"
   ]
  },
  {
   "cell_type": "code",
   "execution_count": 27,
   "metadata": {},
   "outputs": [
    {
     "name": "stdout",
     "output_type": "stream",
     "text": [
      "Model: \"sequential_1\"\n",
      "_________________________________________________________________\n",
      "Layer (type)                 Output Shape              Param #   \n",
      "=================================================================\n",
      "embedding_1 (Embedding)      (None, None, 100)         2000000   \n",
      "_________________________________________________________________\n",
      "dropout_1 (Dropout)          (None, None, 100)         0         \n",
      "_________________________________________________________________\n",
      "bidirectional_1 (Bidirection (None, 200)               160800    \n",
      "_________________________________________________________________\n",
      "dense_3 (Dense)              (None, 100)               20100     \n",
      "_________________________________________________________________\n",
      "dense_4 (Dense)              (None, 50)                5050      \n",
      "_________________________________________________________________\n",
      "dense_5 (Dense)              (None, 35)                1785      \n",
      "_________________________________________________________________\n",
      "dense_6 (Dense)              (None, 3)                 108       \n",
      "=================================================================\n",
      "Total params: 2,187,843\n",
      "Trainable params: 2,187,843\n",
      "Non-trainable params: 0\n",
      "_________________________________________________________________\n"
     ]
    }
   ],
   "source": [
    "model_biLSTM2 = tf.keras.Sequential([\n",
    "    tf.keras.layers.Embedding(vocab_size, embedding_dim),\n",
    "    tf.keras.layers.Dropout(.5, input_shape = (100, )),\n",
    "    tf.keras.layers.Bidirectional(tf.keras.layers.LSTM(embedding_dim)),\n",
    "    tf.keras.layers.Dense(100, activation = 'relu'),\n",
    "    tf.keras.layers.Dense(50, activation = 'relu'), #1st hidden layer\n",
    "    tf.keras.layers.Dense(35, activation = 'relu'), #2nd hidden layer\n",
    "    tf.keras.layers.Dense(3, activation = 'softmax')\n",
    "])\n",
    "model_biLSTM2.summary()"
   ]
  },
  {
   "cell_type": "code",
   "execution_count": 28,
   "metadata": {},
   "outputs": [
    {
     "name": "stdout",
     "output_type": "stream",
     "text": [
      "Epoch 1/3\n",
      "810/810 - 105s - loss: 0.4047 - accuracy: 0.8378 - val_loss: 0.1782 - val_accuracy: 0.9347\n",
      "Epoch 2/3\n",
      "810/810 - 105s - loss: 0.1489 - accuracy: 0.9490 - val_loss: 0.1709 - val_accuracy: 0.9389\n",
      "Epoch 3/3\n",
      "810/810 - 104s - loss: 0.0854 - accuracy: 0.9718 - val_loss: 0.1865 - val_accuracy: 0.9351\n"
     ]
    }
   ],
   "source": [
    "model_biLSTM2.compile(loss = 'sparse_categorical_crossentropy', optimizer = 'adam', metrics = ['accuracy'])\n",
    "num_epochs = 3\n",
    "history2 = model_biLSTM2.fit(train_padded, train_label_seq, batch_size = 32,\n",
    "                             validation_split = 0.1, epochs = num_epochs, verbose = 2)\n",
    "\n",
    "pred2 = model_biLSTM2.predict(test_padded)\n",
    "pred_tain2 = model_biLSTM2.predict(train_padded)\n",
    "\n",
    "pred_label2 = []\n",
    "for i in pred2 :\n",
    "    pred_label2.append(lab[np.argmax(i)])\n",
    "    \n",
    "pred_label_train2 = []\n",
    "for i in pred_tain2 :\n",
    "    pred_label_train2.append(lab[np.argmax(i)])"
   ]
  },
  {
   "cell_type": "code",
   "execution_count": 29,
   "metadata": {},
   "outputs": [
    {
     "name": "stdout",
     "output_type": "stream",
     "text": [
      "\n",
      "Test F1 scores:\n",
      "Micro-average F1 scores: 0.927917\n",
      "Macro-average F1 scores: 0.928094\n",
      "\n",
      "Train F1 scores:\n",
      "Micro-average F1 scores: 0.984792\n",
      "Macro-average F1 scores: 0.984795\n"
     ]
    },
    {
     "data": {
      "image/png": "[encoded data removed]",
      "text/plain": [
       "<Figure size 360x360 with 1 Axes>"
      ]
     },
     "metadata": {
      "needs_background": "light"
     },
     "output_type": "display_data"
    }
   ],
   "source": [
    "distinct_label = lab # since confusion matrix label is automatically sorted, sort the distinct label in train_labels to prepare x, y label for heatmap\n",
    "mat = confusion_matrix(test[\"Classification\"], pred_label2)\n",
    "plt.figure(figsize = (5, 5))\n",
    "ax = sns.heatmap(mat.T, square = True, annot = True, fmt = \"d\", cbar = False, xticklabels = sorted(set(test[\"Classification\"])), yticklabels = distinct_label)\n",
    "ax.set_ylim(len(distinct_label), 0) # since heatmap cut off numbers, we need to set up y limit \n",
    "\n",
    "plt.xlabel(\"True Label\")\n",
    "plt.ylabel(\"Predicted Label\");\n",
    "\n",
    "print(\"\")\n",
    "print(\"Test F1 scores:\")\n",
    "print(\"Micro-average F1 scores: \", end = \"\")\n",
    "print(np.round(f1_score(test_labels, pred_label2, average = \"micro\"), 6))\n",
    "print(\"Macro-average F1 scores: \", end = \"\")\n",
    "print(np.round(f1_score(test_labels, pred_label2, average = \"macro\"), 6))\n",
    "\n",
    "print(\"\")\n",
    "print(\"Train F1 scores:\")\n",
    "print(\"Micro-average F1 scores: \", end = \"\")\n",
    "print(np.round(f1_score(train_labels, pred_label_train2, average = \"micro\"), 6))\n",
    "print(\"Macro-average F1 scores: \", end = \"\")\n",
    "print(np.round(f1_score(train_labels, pred_label_train2, average = \"macro\"), 6))"
   ]
  },
  {
   "cell_type": "code",
   "execution_count": 30,
   "metadata": {},
   "outputs": [
    {
     "data": {
      "image/png": "[encoded data removed]",
      "text/plain": [
       "<Figure size 432x288 with 1 Axes>"
      ]
     },
     "metadata": {
      "needs_background": "light"
     },
     "output_type": "display_data"
    }
   ],
   "source": [
    "plt.plot(history2.history[\"accuracy\"], '-b')\n",
    "plt.plot(history2.history[\"loss\"], '-r')\n",
    "plt.plot(history2.history[\"val_accuracy\"], '-c')\n",
    "plt.plot(history2.history[\"val_loss\"], '-m')\n",
    "plt.xlabel(\"Epochs\")\n",
    "plt.legend([\"accuracy\", \"loss\", \"val_accuracy\", \"val_loss\"])\n",
    "plt.xticks(np.arange(len(history2.history[\"accuracy\"])), np.arange(1, len(history2.history[\"accuracy\"]) + 1))\n",
    "plt.show()\n"
   ]
  },
  {
   "cell_type": "markdown",
   "metadata": {},
   "source": [
    "## 4-3. Bidirectional LSTM with 3 hidden layer (50,35,70) with 0.5 drop out"
   ]
  },
  {
   "cell_type": "code",
   "execution_count": 31,
   "metadata": {},
   "outputs": [
    {
     "name": "stdout",
     "output_type": "stream",
     "text": [
      "Model: \"sequential_2\"\n",
      "_________________________________________________________________\n",
      "Layer (type)                 Output Shape              Param #   \n",
      "=================================================================\n",
      "embedding_2 (Embedding)      (None, None, 100)         2000000   \n",
      "_________________________________________________________________\n",
      "dropout_2 (Dropout)          (None, None, 100)         0         \n",
      "_________________________________________________________________\n",
      "bidirectional_2 (Bidirection (None, 200)               160800    \n",
      "_________________________________________________________________\n",
      "dense_7 (Dense)              (None, 100)               20100     \n",
      "_________________________________________________________________\n",
      "dense_8 (Dense)              (None, 50)                5050      \n",
      "_________________________________________________________________\n",
      "dense_9 (Dense)              (None, 35)                1785      \n",
      "_________________________________________________________________\n",
      "dense_10 (Dense)             (None, 70)                2520      \n",
      "_________________________________________________________________\n",
      "dense_11 (Dense)             (None, 3)                 213       \n",
      "=================================================================\n",
      "Total params: 2,190,468\n",
      "Trainable params: 2,190,468\n",
      "Non-trainable params: 0\n",
      "_________________________________________________________________\n"
     ]
    }
   ],
   "source": [
    "model_biLSTM3 = tf.keras.Sequential([\n",
    "    tf.keras.layers.Embedding(vocab_size, embedding_dim),\n",
    "    tf.keras.layers.Dropout(.5, input_shape = (100, )),\n",
    "    tf.keras.layers.Bidirectional(tf.keras.layers.LSTM(embedding_dim)),\n",
    "    tf.keras.layers.Dense(100, activation = 'relu'),\n",
    "    tf.keras.layers.Dense(50, activation = 'relu'), #1st hidden layer\n",
    "    tf.keras.layers.Dense(35, activation = 'relu'), #2nd hidden layer\n",
    "    tf.keras.layers.Dense(70, activation = 'relu'), #3rd hidden layer\n",
    "    tf.keras.layers.Dense(3, activation = 'softmax')\n",
    "])\n",
    "model_biLSTM3.summary()"
   ]
  },
  {
   "cell_type": "code",
   "execution_count": 32,
   "metadata": {},
   "outputs": [
    {
     "name": "stdout",
     "output_type": "stream",
     "text": [
      "Epoch 1/3\n",
      "810/810 - 102s - loss: 0.0566 - accuracy: 0.9811 - val_loss: 0.2108 - val_accuracy: 0.9312\n",
      "Epoch 2/3\n",
      "810/810 - 102s - loss: 0.0421 - accuracy: 0.9867 - val_loss: 0.2572 - val_accuracy: 0.9278\n",
      "Epoch 3/3\n",
      "810/810 - 104s - loss: 0.0312 - accuracy: 0.9899 - val_loss: 0.2543 - val_accuracy: 0.9365\n"
     ]
    }
   ],
   "source": [
    "model_biLSTM3.compile(loss = 'sparse_categorical_crossentropy', optimizer = 'adam', metrics = ['accuracy'])\n",
    "num_epochs = 3\n",
    "history3 = model_biLSTM2.fit(train_padded, train_label_seq, batch_size = 32,\n",
    "                             validation_split = 0.1, epochs = num_epochs, verbose = 2)\n",
    "\n",
    "pred3 = model_biLSTM2.predict(test_padded)\n",
    "pred_tain3 = model_biLSTM2.predict(train_padded)\n",
    "\n",
    "pred_label3 = []\n",
    "for i in pred3 :\n",
    "    pred_label3.append(lab[np.argmax(i)])\n",
    "    \n",
    "pred_label_train3= []\n",
    "for i in pred_tain3 :\n",
    "    pred_label_train3.append(lab[np.argmax(i)])\n"
   ]
  },
  {
   "cell_type": "code",
   "execution_count": 33,
   "metadata": {},
   "outputs": [
    {
     "name": "stdout",
     "output_type": "stream",
     "text": [
      "\n",
      "Test F1 scores:\n",
      "Micro-average F1 scores: 0.923611\n",
      "Macro-average F1 scores: 0.923605\n",
      "\n",
      "Train F1 scores:\n",
      "Micro-average F1 scores: 0.99\n",
      "Macro-average F1 scores: 0.989993\n"
     ]
    },
    {
     "data": {
      "image/png": "[encoded data removed]",
      "text/plain": [
       "<Figure size 360x360 with 1 Axes>"
      ]
     },
     "metadata": {
      "needs_background": "light"
     },
     "output_type": "display_data"
    }
   ],
   "source": [
    "distinct_label = lab # since confusion matrix label is automatically sorted, sort the distinct label in train_labels to prepare x, y label for heatmap\n",
    "mat = confusion_matrix(test[\"Classification\"], pred_label3)\n",
    "plt.figure(figsize = (5, 5))\n",
    "ax = sns.heatmap(mat.T, square = True, annot = True, fmt = \"d\", cbar = False, xticklabels = sorted(set(test[\"Classification\"])), yticklabels = distinct_label)\n",
    "ax.set_ylim(len(distinct_label), 0) # since heatmap cut off numbers, we need to set up y limit \n",
    "\n",
    "plt.xlabel(\"True Label\")\n",
    "plt.ylabel(\"Predicted Label\");\n",
    "\n",
    "print(\"\")\n",
    "print(\"Test F1 scores:\")\n",
    "print(\"Micro-average F1 scores: \", end = \"\")\n",
    "print(np.round(f1_score(test_labels, pred_label3, average = \"micro\"), 6))\n",
    "print(\"Macro-average F1 scores: \", end = \"\")\n",
    "print(np.round(f1_score(test_labels, pred_label3, average = \"macro\"), 6))\n",
    "\n",
    "print(\"\")\n",
    "print(\"Train F1 scores:\")\n",
    "print(\"Micro-average F1 scores: \", end = \"\")\n",
    "print(np.round(f1_score(train_labels, pred_label_train3, average = \"micro\"), 6))\n",
    "print(\"Macro-average F1 scores: \", end = \"\")\n",
    "print(np.round(f1_score(train_labels, pred_label_train3, average = \"macro\"), 6))"
   ]
  },
  {
   "cell_type": "code",
   "execution_count": 34,
   "metadata": {},
   "outputs": [
    {
     "data": {
      "image/png": "[encoded data removed]",
      "text/plain": [
       "<Figure size 432x288 with 1 Axes>"
      ]
     },
     "metadata": {
      "needs_background": "light"
     },
     "output_type": "display_data"
    }
   ],
   "source": [
    "plt.plot(history3.history[\"accuracy\"], '-b')\n",
    "plt.plot(history3.history[\"loss\"], '-r')\n",
    "plt.plot(history3.history[\"val_accuracy\"], '-c')\n",
    "plt.plot(history3.history[\"val_loss\"], '-m')\n",
    "plt.xlabel(\"Epochs\")\n",
    "plt.legend([\"accuracy\", \"loss\", \"val_accuracy\", \"val_loss\"])\n",
    "plt.xticks(np.arange(len(history3.history[\"accuracy\"])), np.arange(1, len(history3.history[\"accuracy\"]) + 1))\n",
    "plt.show()\n"
   ]
  },
  {
   "cell_type": "markdown",
   "metadata": {},
   "source": [
    "## 5. Compute similarities between tweets using Fast Text word embedding"
   ]
  },
  {
   "cell_type": "code",
   "execution_count": 35,
   "metadata": {},
   "outputs": [],
   "source": [
    "#pip install gensim\n",
    "from gensim.test.utils import common_texts\n",
    "from gensim.models import Word2Vec\n",
    "from gensim.models import FastText"
   ]
  },
  {
   "cell_type": "code",
   "execution_count": 36,
   "metadata": {},
   "outputs": [],
   "source": [
    "model_ft = FastText(window = 3, min_count = 1, sentences = data['Text']) #100d word embedding\n",
    "wv = model_ft.wv"
   ]
  },
  {
   "cell_type": "code",
   "execution_count": 37,
   "metadata": {},
   "outputs": [],
   "source": [
    "from nltk.corpus import stopwords\n",
    "import string\n",
    "import numpy as np\n",
    "\n",
    "def calc_doc_embedding(doc, embeddings, embed_size) :\n",
    "    stopset = stopwords.words('english') + list(string.punctuation)\n",
    "    words = [w for w in doc.lower().split() if w not in stopset] # exclude word in stopset\n",
    "    word_cent = np.zeros(embed_size)\n",
    "    \n",
    "    count = 0\n",
    "    for word in words :\n",
    "        word_cent = word_cent + embeddings[word] \n",
    "        count = count + 1 # only count the word that is not stop words and not OOV\n",
    "\n",
    "    if count == 0 :\n",
    "        return None\n",
    "    \n",
    "    doc_embed = word_cent / count\n",
    "    return doc_embed # return value is np array"
   ]
  },
  {
   "cell_type": "code",
   "execution_count": 38,
   "metadata": {},
   "outputs": [],
   "source": [
    "# function for calculating the cosine similarity\n",
    "def cal_similarity(a, b) :\n",
    "    return np.round(np.dot(a, b) / (np.linalg.norm(a) * np.linalg.norm(b)), 6)\n",
    "\n",
    "# function for removing emoji\n",
    "def remove_emoji(string) :\n",
    "    emoji_pattern = re.compile(\"[\"\n",
    "                               u\"\\U0001F600-\\U0001F64F\"  # emoticons\n",
    "                               u\"\\U0001F300-\\U0001F5FF\"  # symbols & pictographs\n",
    "                               u\"\\U0001F680-\\U0001F6FF\"  # transport & map symbols\n",
    "                               u\"\\U0001F1E0-\\U0001F1FF\"  # flags (iOS)\n",
    "                               u\"\\U00002500-\\U00002BEF\"  # chinese char\n",
    "                               u\"\\U00002702-\\U000027B0\"\n",
    "                               u\"\\U00002702-\\U000027B0\"\n",
    "                               u\"\\U000024C2-\\U0001F251\"\n",
    "                               u\"\\U0001f926-\\U0001f937\"\n",
    "                               u\"\\U00010000-\\U0010ffff\"\n",
    "                               u\"\\u2640-\\u2642\"\n",
    "                               u\"\\u2600-\\u2B55\"\n",
    "                               u\"\\u200d\"\n",
    "                               u\"\\u23cf\"\n",
    "                               u\"\\u23e9\"\n",
    "                               u\"\\u231a\"\n",
    "                               u\"\\ufe0f\"  # dingbats\n",
    "                               u\"\\u3030\"\n",
    "                               \"]+\", flags = re.UNICODE)\n",
    "    return emoji_pattern.sub(r'', string)\n",
    "\n",
    "# function for cleaning text\n",
    "def clean(Text) :\n",
    "    Text = remove_emoji(Text) # remove emoji\n",
    "    Text = re.sub(\"[-/]\", \" \", Text) # substitute dash and slash with space       \n",
    "    text_split = Text.lower().split() # split string into list\n",
    "    remove_list = []\n",
    "    for t in text_split :\n",
    "        if (\"covid\" or \"christmas\" or \"spacex\") in t : # remove all words containing our three hashtags\n",
    "            remove_list.append(t)\n",
    "        if 'http' in t : # remove link\n",
    "            remove_list.append(t)\n",
    "        if '@' in t : # remove ...@...\n",
    "            remove_list.append(t)\n",
    "        if t == '\\n' : # remove new line character\n",
    "            remove_list.append(t)\n",
    "    text_split = [t for t in text_split if t not in remove_list]     \n",
    "    \n",
    "    for i in range(len(text_split)) :\n",
    "        t = text_split[i]\n",
    "        if t.startswith(\"'\") or t.startswith('\"') : # remove quotation mark\n",
    "            text_split[i] = t[1:] \n",
    "        if t.endswith(\"'\") or t.endswith('\"') : \n",
    "            text_split[i] = t[:len(t) - 1]         \n",
    "        text_split[i] = re.sub(\"[^a-z']\", \"\", t)\n",
    "\n",
    "    stopset = stopwords.words('english') + list(string.punctuation)\n",
    "    text_split = [t for t in text_split if t not in stopset]  \n",
    "            \n",
    "    Text = ' '.join(text_split) # join the list back to string\n",
    "\n",
    "    return Text"
   ]
  },
  {
   "cell_type": "code",
   "execution_count": 39,
   "metadata": {},
   "outputs": [],
   "source": [
    "# function to find top 10 documents with the highest similarity for corpus[index]\n",
    "def hashtag_suggestion() :\n",
    "    hashtag1 = \"\"\n",
    "    hashtag2 = []\n",
    "    similarlity_dict = dict()\n",
    "    doc1 = clean(input(\"Please enter tweet: \"))\n",
    "    if len(doc1) == 0 :\n",
    "        return \"Error! Impossible to suggest hashtags. Please enter tweet again.\"\n",
    "    else :\n",
    "        hashtag1 = model3_2.predict(vectorizer.transform([doc1]))[0] # get predicted hashtag by the best model\n",
    "        data2 = data[data['Classification'] == hashtag1].reset_index() # get data from the same hashtag and then calculate similarity between these data and the text\n",
    "        \n",
    "        for i in range(len(data2)) :   \n",
    "            doc2 = data2['Text'][i]         \n",
    "            similarlity_dict[i] = cal_similarity(calc_doc_embedding(doc1, embeddings, embed_size), calc_doc_embedding(doc2, embeddings, embed_size))\n",
    "\n",
    "        # find top 5 similarities\n",
    "        n = 0\n",
    "        for i in sorted(similarlity_dict.items(), reverse = True, key = lambda t: t[1]) :     \n",
    "            for h in data2['Hashtag'][i[0]] :\n",
    "                if h not in hashtag2 : \n",
    "                    hashtag2.append(h)\n",
    "            n = n + 1\n",
    "            if n == 5 :\n",
    "                break \n",
    "    \n",
    "        # print all suggested hashtags\n",
    "        print(\"1. \", end = \"\")\n",
    "        print(hashtag1)\n",
    "        c = 2\n",
    "        for i in hashtag2 :\n",
    "            print(c, end = \"\")\n",
    "            print(\". \", end = \"\")\n",
    "            print(i)\n",
    "            c = c + 1\n",
    "                              \n",
    "        return"
   ]
  },
  {
   "cell_type": "code",
   "execution_count": 40,
   "metadata": {},
   "outputs": [],
   "source": [
    "embeddings, embed_size = wv, 100"
   ]
  },
  {
   "cell_type": "code",
   "execution_count": 41,
   "metadata": {},
   "outputs": [
    {
     "name": "stdout",
     "output_type": "stream",
     "text": [
      "Please enter tweet: Holidays are coming soon!!! 🥰🥰🥰\n",
      "1. christmas\n",
      "2. weihnachtsmarkt\n",
      "3. ruhrgebiet\n",
      "4. stlouis\n",
      "5. holidays\n",
      "6. onlineordering\n",
      "7. dining\n",
      "8. stldining\n",
      "9. christmaslights\n",
      "10. christmasdecorations\n",
      "11. art\n",
      "12. christmas2020\n"
     ]
    }
   ],
   "source": [
    "hashtag_suggestion() #Holidays are coming soon!!! 🥰🥰🥰"
   ]
  },
  {
   "cell_type": "code",
   "execution_count": 42,
   "metadata": {},
   "outputs": [
    {
     "name": "stdout",
     "output_type": "stream",
     "text": [
      "Please enter tweet: Hope the weather is good. So excited to see the launch!!!\n",
      "1. spacex\n",
      "2. crew1\n",
      "3. tennis\n",
      "4. spacelaunchlive\n",
      "5. artemis\n",
      "6. launchamerica\n",
      "7. dragon\n",
      "8. spacexcrew1\n"
     ]
    }
   ],
   "source": [
    "hashtag_suggestion() #Hope the weather is good. So excited to see the launch!!!"
   ]
  },
  {
   "cell_type": "code",
   "execution_count": 43,
   "metadata": {},
   "outputs": [
    {
     "name": "stdout",
     "output_type": "stream",
     "text": [
      "Please enter tweet: we have already lived with pandemic for 1 years!!\n",
      "1. covid\n",
      "2. covid19\n",
      "3. sarscov2\n",
      "4. vaccine\n",
      "5. ireland\n",
      "6. vermont\n",
      "7. coronavirus\n",
      "8. trump\n",
      "9. biden\n",
      "10. pandemic\n",
      "11. virus\n"
     ]
    }
   ],
   "source": [
    "hashtag_suggestion() #we have already lived with pandemic for 1 years!!"
   ]
  },
  {
   "cell_type": "code",
   "execution_count": null,
   "metadata": {},
   "outputs": [],
   "source": []
  }
 ],
 "metadata": {
  "kernelspec": {
   "display_name": "Python 3",
   "language": "python",
   "name": "python3"
  },
  "language_info": {
   "codemirror_mode": {
    "name": "ipython",
    "version": 3
   },
   "file_extension": ".py",
   "mimetype": "text/x-python",
   "name": "python",
   "nbconvert_exporter": "python",
   "pygments_lexer": "ipython3",
   "version": "3.8.5"
  }
 },
 "nbformat": 4,
 "nbformat_minor": 4
}
