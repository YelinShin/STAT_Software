{
 "cells": [
  {
   "cell_type": "markdown",
   "metadata": {},
   "source": [
    "## Data collecting from twitter using search API"
   ]
  },
  {
   "cell_type": "code",
   "execution_count": 2,
   "metadata": {},
   "outputs": [],
   "source": [
    "#Import the necessary methods from tweepy library\n",
    "import os\n",
    "import tweepy as tw\n",
    "import pandas as pd"
   ]
  },
  {
   "cell_type": "code",
   "execution_count": 3,
   "metadata": {},
   "outputs": [],
   "source": [
    "access_token = \"token\"\n",
    "access_token_secret = \"token secret\"\n",
    "consumer_key = \"consumer key\"\n",
    "consumer_secret = \"consumer secret\""
   ]
  },
  {
   "cell_type": "code",
   "execution_count": 4,
   "metadata": {},
   "outputs": [],
   "source": [
    "auth = tw.OAuthHandler(consumer_key, consumer_secret)\n",
    "auth.set_access_token(access_token, access_token_secret)\n",
    "api = tw.API(auth, wait_on_rate_limit=True)"
   ]
  },
  {
   "cell_type": "code",
   "execution_count": 6,
   "metadata": {},
   "outputs": [],
   "source": [
    "import json\n",
    "search_words = \"#covid\"\n",
    "date_since = \"2020-11-26\"\n",
    "date_until = \"2020-12-2\"\n",
    "\n",
    "#11/15~11/19 &11/26~12/2\n",
    "\n",
    "search_results = []\n",
    "for status in tw.Cursor(api.search,tweet_mode=\"extended\",\n",
    "              q=search_words,\n",
    "              lang=\"en\",\n",
    "              since=date_since, until=date_until,count=100).items(15000):\n",
    "    search_results.append(status._json)\n",
    "\n",
    "with open('covid-out-15K.json', 'w') as f:\n",
    "    json.dump(search_results, f)"
   ]
  },
  {
   "cell_type": "code",
   "execution_count": 5,
   "metadata": {},
   "outputs": [],
   "source": [
    "import json\n",
    "search_words = \"#christmas\"\n",
    "date_since = \"2020-11-26\"\n",
    "date_until = \"2020-12-2\"\n",
    "\n",
    "#11/15~11/19 &11/26~12/2\n",
    "\n",
    "search_results = []\n",
    "for status in tw.Cursor(api.search,tweet_mode=\"extended\",\n",
    "              q=search_words,\n",
    "              lang=\"en\",\n",
    "              since=date_since, until=date_until,count=100).items(15000):\n",
    "    search_results.append(status._json)\n",
    "\n",
    "with open('christmas-out-15K.json', 'w') as f:\n",
    "    json.dump(search_results, f)"
   ]
  },
  {
   "cell_type": "code",
   "execution_count": 7,
   "metadata": {},
   "outputs": [],
   "source": [
    "import json\n",
    "search_words = \"#spacex\"\n",
    "date_since = \"2020-11-26\"\n",
    "date_until = \"2020-12-2\"\n",
    "\n",
    "#11/15~11/19 &11/26~12/2\n",
    "\n",
    "search_results = []\n",
    "for status in tw.Cursor(api.search,tweet_mode=\"extended\",\n",
    "              q=search_words,\n",
    "              lang=\"en\",\n",
    "              since=date_since, until=date_until,count=100).items(20000):\n",
    "    search_results.append(status._json)\n",
    "\n",
    "with open('spacex-out-20K.json', 'w') as f:\n",
    "    json.dump(search_results, f)"
   ]
  },
  {
   "cell_type": "code",
   "execution_count": null,
   "metadata": {},
   "outputs": [],
   "source": []
  }
 ],
 "metadata": {
  "kernelspec": {
   "display_name": "Python 3 (3.8)",
   "language": "python",
   "name": "python3"
  },
  "language_info": {
   "codemirror_mode": {
    "name": "ipython",
    "version": 3
   },
   "file_extension": ".py",
   "mimetype": "text/x-python",
   "name": "python",
   "nbconvert_exporter": "python",
   "pygments_lexer": "ipython3",
   "version": "3.8.2"
  }
 },
 "nbformat": 4,
 "nbformat_minor": 4
}
